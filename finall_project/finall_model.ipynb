{
 "cells": [
  {
   "cell_type": "markdown",
   "metadata": {},
   "source": [
    "# «Модель прогнозирования стоимости жилья для агентства недвижимости»"
   ]
  },
  {
   "cell_type": "markdown",
   "metadata": {},
   "source": [
    "### ПОСТАНОВКА ЗАДАЧИ"
   ]
  },
  {
   "cell_type": "markdown",
   "metadata": {},
   "source": [
    "Агентство недвижимости столкнулось с проблемой — риелторы тратят слишком много времени на сортировку объявлений и поиск выгодных предложений. Поэтому скорость их реакции и качество анализа не дотягивают до уровня конкурентов. Это сказывается на финансовых показателях агентства.\n",
    "\n",
    "Типовая задача из области Data Science, основанная на данных о недвижимости в США.\n",
    "\n",
    "**Бизнес-задача:** улучшить финансовые показатели компании за счет уменьшения времени на обработку информации о недвижимости у риелторов.\n",
    "\n",
    "**Техническая задача для вас как для специалиста в Data Science:** разработать модель машинного обучения, которая поможет обрабатывать объявления и увеличит число сделок и прибыль агентства.\n",
    "\n",
    "**Основные цели проекта:**\n",
    "1. Провести разведывательный анализ и очистку исходных данных.\n",
    "2. Выделить наиболее значимые факторы, влияющие на стоимость недвижимости.\n",
    "3. Построить модель для прогнозирования стоимости недвижимости.\n",
    "4. Разработать небольшой веб-сервис, на вход которому поступают данные о некоторой выставленной на продажу недвижимости, а сервис прогнозирует его стоимость."
   ]
  },
  {
   "cell_type": "code",
   "execution_count": 37,
   "metadata": {},
   "outputs": [],
   "source": [
    "# импортируем необходимые библиотеки\n",
    "import pandas as pd\n",
    "import numpy as np\n",
    "\n",
    "from scipy.stats import normaltest\n",
    "from sklearn.preprocessing import StandardScaler\n",
    "from scipy.stats import f_oneway, kruskal\n",
    "from sklearn.feature_selection import SelectKBest, f_regression\n",
    "from sklearn import model_selection\n",
    "from sklearn import preprocessing\n",
    "from sklearn import linear_model\n",
    "from sklearn import metrics\n",
    "from sklearn import tree,  ensemble\n",
    "from catboost import Pool, CatBoostRegressor\n",
    "\n",
    "import matplotlib.pyplot as plt\n",
    "import seaborn as sns\n",
    "import plotly.express as px\n",
    "import category_encoders as ce"
   ]
  },
  {
   "cell_type": "code",
   "execution_count": 38,
   "metadata": {},
   "outputs": [],
   "source": [
    "#прочитаем данные из файла\n",
    "r = pd.read_csv('eda_data.csv', sep = ',')"
   ]
  },
  {
   "cell_type": "code",
   "execution_count": 39,
   "metadata": {},
   "outputs": [
    {
     "data": {
      "text/html": [
       "<div>\n",
       "<style scoped>\n",
       "    .dataframe tbody tr th:only-of-type {\n",
       "        vertical-align: middle;\n",
       "    }\n",
       "\n",
       "    .dataframe tbody tr th {\n",
       "        vertical-align: top;\n",
       "    }\n",
       "\n",
       "    .dataframe thead th {\n",
       "        text-align: right;\n",
       "    }\n",
       "</style>\n",
       "<table border=\"1\" class=\"dataframe\">\n",
       "  <thead>\n",
       "    <tr style=\"text-align: right;\">\n",
       "      <th></th>\n",
       "      <th>baths</th>\n",
       "      <th>sqft</th>\n",
       "      <th>sch_rating</th>\n",
       "      <th>property_age</th>\n",
       "      <th>capital_state</th>\n",
       "      <th>status_new</th>\n",
       "      <th>status_pending</th>\n",
       "      <th>status_foreclosure</th>\n",
       "      <th>type_single_1</th>\n",
       "      <th>type_single_2</th>\n",
       "      <th>...</th>\n",
       "      <th>state_1</th>\n",
       "      <th>state_2</th>\n",
       "      <th>state_3</th>\n",
       "      <th>state_4</th>\n",
       "      <th>state_5</th>\n",
       "      <th>city_4</th>\n",
       "      <th>city_5</th>\n",
       "      <th>city_10</th>\n",
       "      <th>target</th>\n",
       "      <th>log_target</th>\n",
       "    </tr>\n",
       "  </thead>\n",
       "  <tbody>\n",
       "    <tr>\n",
       "      <th>0</th>\n",
       "      <td>3.50</td>\n",
       "      <td>2900.0</td>\n",
       "      <td>5.0</td>\n",
       "      <td>4.0</td>\n",
       "      <td>0</td>\n",
       "      <td>0</td>\n",
       "      <td>0</td>\n",
       "      <td>0</td>\n",
       "      <td>1</td>\n",
       "      <td>0</td>\n",
       "      <td>...</td>\n",
       "      <td>0</td>\n",
       "      <td>0</td>\n",
       "      <td>0</td>\n",
       "      <td>0</td>\n",
       "      <td>1</td>\n",
       "      <td>0</td>\n",
       "      <td>0</td>\n",
       "      <td>1</td>\n",
       "      <td>418000.0</td>\n",
       "      <td>12.943239</td>\n",
       "    </tr>\n",
       "    <tr>\n",
       "      <th>1</th>\n",
       "      <td>3.00</td>\n",
       "      <td>1947.0</td>\n",
       "      <td>4.0</td>\n",
       "      <td>4.0</td>\n",
       "      <td>0</td>\n",
       "      <td>0</td>\n",
       "      <td>0</td>\n",
       "      <td>0</td>\n",
       "      <td>0</td>\n",
       "      <td>1</td>\n",
       "      <td>...</td>\n",
       "      <td>0</td>\n",
       "      <td>0</td>\n",
       "      <td>0</td>\n",
       "      <td>1</td>\n",
       "      <td>0</td>\n",
       "      <td>0</td>\n",
       "      <td>0</td>\n",
       "      <td>0</td>\n",
       "      <td>310000.0</td>\n",
       "      <td>12.644331</td>\n",
       "    </tr>\n",
       "    <tr>\n",
       "      <th>2</th>\n",
       "      <td>2.00</td>\n",
       "      <td>3000.0</td>\n",
       "      <td>6.0</td>\n",
       "      <td>56.0</td>\n",
       "      <td>0</td>\n",
       "      <td>0</td>\n",
       "      <td>0</td>\n",
       "      <td>0</td>\n",
       "      <td>1</td>\n",
       "      <td>0</td>\n",
       "      <td>...</td>\n",
       "      <td>0</td>\n",
       "      <td>0</td>\n",
       "      <td>0</td>\n",
       "      <td>1</td>\n",
       "      <td>1</td>\n",
       "      <td>0</td>\n",
       "      <td>0</td>\n",
       "      <td>1</td>\n",
       "      <td>2895000.0</td>\n",
       "      <td>14.878496</td>\n",
       "    </tr>\n",
       "    <tr>\n",
       "      <th>3</th>\n",
       "      <td>3.00</td>\n",
       "      <td>897.0</td>\n",
       "      <td>2.0</td>\n",
       "      <td>103.0</td>\n",
       "      <td>0</td>\n",
       "      <td>0</td>\n",
       "      <td>0</td>\n",
       "      <td>0</td>\n",
       "      <td>0</td>\n",
       "      <td>0</td>\n",
       "      <td>...</td>\n",
       "      <td>0</td>\n",
       "      <td>0</td>\n",
       "      <td>1</td>\n",
       "      <td>0</td>\n",
       "      <td>0</td>\n",
       "      <td>0</td>\n",
       "      <td>0</td>\n",
       "      <td>0</td>\n",
       "      <td>209000.0</td>\n",
       "      <td>12.250094</td>\n",
       "    </tr>\n",
       "    <tr>\n",
       "      <th>4</th>\n",
       "      <td>2.25</td>\n",
       "      <td>1507.0</td>\n",
       "      <td>2.0</td>\n",
       "      <td>17.0</td>\n",
       "      <td>0</td>\n",
       "      <td>0</td>\n",
       "      <td>0</td>\n",
       "      <td>0</td>\n",
       "      <td>0</td>\n",
       "      <td>0</td>\n",
       "      <td>...</td>\n",
       "      <td>0</td>\n",
       "      <td>0</td>\n",
       "      <td>1</td>\n",
       "      <td>0</td>\n",
       "      <td>1</td>\n",
       "      <td>0</td>\n",
       "      <td>0</td>\n",
       "      <td>1</td>\n",
       "      <td>181500.0</td>\n",
       "      <td>12.109016</td>\n",
       "    </tr>\n",
       "  </tbody>\n",
       "</table>\n",
       "<p>5 rows × 26 columns</p>\n",
       "</div>"
      ],
      "text/plain": [
       "   baths    sqft  sch_rating  property_age  capital_state  status_new  \\\n",
       "0   3.50  2900.0         5.0           4.0              0           0   \n",
       "1   3.00  1947.0         4.0           4.0              0           0   \n",
       "2   2.00  3000.0         6.0          56.0              0           0   \n",
       "3   3.00   897.0         2.0         103.0              0           0   \n",
       "4   2.25  1507.0         2.0          17.0              0           0   \n",
       "\n",
       "   status_pending  status_foreclosure  type_single_1  type_single_2  ...  \\\n",
       "0               0                   0              1              0  ...   \n",
       "1               0                   0              0              1  ...   \n",
       "2               0                   0              1              0  ...   \n",
       "3               0                   0              0              0  ...   \n",
       "4               0                   0              0              0  ...   \n",
       "\n",
       "   state_1  state_2  state_3  state_4  state_5  city_4  city_5  city_10  \\\n",
       "0        0        0        0        0        1       0       0        1   \n",
       "1        0        0        0        1        0       0       0        0   \n",
       "2        0        0        0        1        1       0       0        1   \n",
       "3        0        0        1        0        0       0       0        0   \n",
       "4        0        0        1        0        1       0       0        1   \n",
       "\n",
       "      target  log_target  \n",
       "0   418000.0   12.943239  \n",
       "1   310000.0   12.644331  \n",
       "2  2895000.0   14.878496  \n",
       "3   209000.0   12.250094  \n",
       "4   181500.0   12.109016  \n",
       "\n",
       "[5 rows x 26 columns]"
      ]
     },
     "execution_count": 39,
     "metadata": {},
     "output_type": "execute_result"
    }
   ],
   "source": [
    "#проверим, что данные выгрузились корректно, для этого выведем первые две строки датафрейма\n",
    "r.head()"
   ]
  },
  {
   "cell_type": "code",
   "execution_count": 40,
   "metadata": {},
   "outputs": [
    {
     "name": "stdout",
     "output_type": "stream",
     "text": [
      "<class 'pandas.core.frame.DataFrame'>\n",
      "RangeIndex: 322871 entries, 0 to 322870\n",
      "Data columns (total 26 columns):\n",
      " #   Column              Non-Null Count   Dtype  \n",
      "---  ------              --------------   -----  \n",
      " 0   baths               322871 non-null  float64\n",
      " 1   sqft                322871 non-null  float64\n",
      " 2   sch_rating          322871 non-null  float64\n",
      " 3   property_age        322871 non-null  float64\n",
      " 4   capital_state       322871 non-null  int64  \n",
      " 5   status_new          322871 non-null  int64  \n",
      " 6   status_pending      322871 non-null  int64  \n",
      " 7   status_foreclosure  322871 non-null  int64  \n",
      " 8   type_single_1       322871 non-null  int64  \n",
      " 9   type_single_2       322871 non-null  int64  \n",
      " 10  type_apartment      322871 non-null  int64  \n",
      " 11  type_multi          322871 non-null  int64  \n",
      " 12  type_single_3       322871 non-null  int64  \n",
      " 13  type_condo          322871 non-null  int64  \n",
      " 14  type_not_land       322871 non-null  int64  \n",
      " 15  type_mobile         322871 non-null  int64  \n",
      " 16  state_1             322871 non-null  int64  \n",
      " 17  state_2             322871 non-null  int64  \n",
      " 18  state_3             322871 non-null  int64  \n",
      " 19  state_4             322871 non-null  int64  \n",
      " 20  state_5             322871 non-null  int64  \n",
      " 21  city_4              322871 non-null  int64  \n",
      " 22  city_5              322871 non-null  int64  \n",
      " 23  city_10             322871 non-null  int64  \n",
      " 24  target              322871 non-null  float64\n",
      " 25  log_target          322871 non-null  float64\n",
      "dtypes: float64(6), int64(20)\n",
      "memory usage: 64.0 MB\n"
     ]
    }
   ],
   "source": [
    "#проверим все ли признаки на месте\n",
    "r.info()"
   ]
  },
  {
   "cell_type": "markdown",
   "metadata": {},
   "source": [
    "Итак, у нас в распоряжении осталось 322871 наблюдений, 24 - предиктора, целевая переменная и целевая логарифмированная переменная.\n",
    "\n",
    "На прошлом этапе мы уже определились с типом валидации - hold-out-валидация и разделили выборку на тестовую и валидационную в соотношении 80/20.\n",
    "\n",
    "Повторим эти шаги."
   ]
  },
  {
   "cell_type": "code",
   "execution_count": 41,
   "metadata": {},
   "outputs": [],
   "source": [
    "#сформируем матрицу наблюдений X\n",
    "X = r.drop(['target', 'log_target'], axis=1)\n",
    "# вектор целевой переменной y \n",
    "y = r['target']\n",
    "# и его логарифм y_log\n",
    "y_log = r['log_target']\n",
    "\n",
    "#разобьем выборку на обучающую и валидационную в соотношении 80/20\n",
    "X_train, X_valid, y_train_log, y_valid_log = model_selection\\\n",
    "    .train_test_split(X, y_log, test_size=0.20, random_state=42)"
   ]
  },
  {
   "cell_type": "code",
   "execution_count": 42,
   "metadata": {},
   "outputs": [
    {
     "name": "stdout",
     "output_type": "stream",
     "text": [
      "Train shape: (258296, 24)\n",
      "Valid shape: (64575, 24)\n"
     ]
    }
   ],
   "source": [
    "#посмотрим сколько наблюдений у нас попало в каждую из выборок\n",
    "print('Train shape: {}'.format(X_train.shape))\n",
    "print('Valid shape: {}'.format(X_valid.shape))"
   ]
  },
  {
   "cell_type": "markdown",
   "metadata": {},
   "source": [
    "Итак, 258296 объектов недвижимости являются обучающими — в них модель будет искать закономерности и подбирать внутренние параметры, а 64575 являются валидационными — на них мы будем производить контроль качества."
   ]
  },
  {
   "cell_type": "code",
   "execution_count": 43,
   "metadata": {},
   "outputs": [],
   "source": [
    "# нормализуем предикторы в обучающей и валидационной выборках с помощью MinMaxScaler\n",
    "#инициализируем нормализатор MinMaxScaler\n",
    "scaler = preprocessing.MinMaxScaler()\n",
    "#нормализуем обучающую выборку и поместим ее в таблицу\n",
    "X_train_scaled = pd.DataFrame(scaler.fit_transform(X_train), columns=X_train.columns)\n",
    "#нормализуем валидационную выборку и поместим ее в таблицу\n",
    "X_valid_scaled = pd.DataFrame(scaler.transform(X_valid), columns=X_valid.columns)"
   ]
  },
  {
   "cell_type": "markdown",
   "metadata": {},
   "source": [
    "Для построения модели прогнозирования будем использовать модели регрессии, так как нам необходимо спрогнозировать числовой признак."
   ]
  },
  {
   "cell_type": "markdown",
   "metadata": {},
   "source": [
    "Заранее создадим функцию, которая будет расчитывать метрики:\n",
    "\n",
    "1. MAE - средняя абсолютная ошибка (целевая метрика)\n",
    "2. MAPE - средняя абсолютная ошибка в процентах \n",
    "3. $R^2$ - коэффициент детерминации"
   ]
  },
  {
   "cell_type": "code",
   "execution_count": 44,
   "metadata": {},
   "outputs": [],
   "source": [
    "def print_metrics(y_train_log, y_train_log_pred, y_valid_log, y_valid_log_pred):\n",
    "    print('Train R^2: {:.2f}'.format(metrics.r2_score(y_train_log, y_train_log_pred)))\n",
    "    print('Train MAE: {:.2f}'.format(metrics.mean_absolute_error(y_train_log, y_train_log_pred)))\n",
    "    print('Train MAPE: {:.2f}'.format(metrics.mean_absolute_percentage_error(y_train_log, y_train_log_pred)*100))\n",
    "    print('Train MSE: {:.2f}'.format(metrics.mean_squared_error(y_train_log, y_train_log_pred)))\n",
    "    print('\\n')\n",
    "    print('Valid R^2: {:.2f}'.format(metrics.r2_score(y_valid_log, y_valid_log_pred)))\n",
    "    print('Valid MAE: {:.2f}'.format(metrics.mean_absolute_error(y_valid_log, y_valid_log_pred)))\n",
    "    print('Valid MAPE: {:.2f}'.format(metrics.mean_absolute_percentage_error(y_valid_log, y_valid_log_pred)*100))\n",
    "    print('Train MSE: {:.2f}'.format(metrics.mean_squared_error(y_valid_log, y_valid_log_pred)))"
   ]
  },
  {
   "cell_type": "markdown",
   "metadata": {},
   "source": [
    "### Модель линейной регрессии (LinearRegression)"
   ]
  },
  {
   "cell_type": "code",
   "execution_count": 45,
   "metadata": {},
   "outputs": [
    {
     "name": "stdout",
     "output_type": "stream",
     "text": [
      "Train R^2: 0.50\n",
      "Train MAE: 0.47\n",
      "Train MAPE: 3.68\n",
      "Train MSE: 0.39\n",
      "\n",
      "\n",
      "Valid R^2: 0.50\n",
      "Valid MAE: 0.47\n",
      "Valid MAPE: 3.68\n",
      "Train MSE: 0.39\n"
     ]
    }
   ],
   "source": [
    "# построим модель линейной регрессии на обучающей выборке\n",
    "# создаем объект класса LinearRegression\n",
    "lr = linear_model.LinearRegression()\n",
    "#обучение модели на тренировочной выборке\n",
    "lr.fit(X_train_scaled, y_train_log)\n",
    "#предсказываем целевой признак на тренировочной и валидационной выборках\n",
    "y_train_log_pred = lr.predict(X_train_scaled)\n",
    "y_valid_log_pred = lr.predict(X_valid_scaled)\n",
    "\n",
    "print_metrics(y_train_log, y_train_log_pred,y_valid_log, y_valid_log_pred)"
   ]
  },
  {
   "cell_type": "markdown",
   "metadata": {},
   "source": [
    "Оценки на валидационной и обучающей выборке приблизительно одинаковые. Коэффициент детерминации ниже равен 0.5 говорит об удовлетворительном качестве модели. Близкие по значению коэффициенты детерминации на валидационной и обучающей выборках свидетельствуют об отсутствии переобучения модели.\n",
    "\n",
    "В среднем значения на тренировочной и тестовой выборках отличаются на 0.47 об этом свидетельствует средняя абсолютная ошибка(MAE). Это 3.68 % (MAPE) того, на сколько в среднем отклоняется предсказание от реальных значений."
   ]
  },
  {
   "cell_type": "markdown",
   "metadata": {},
   "source": [
    "### Модель дерева решений (DecisionTreeRegressor)"
   ]
  },
  {
   "cell_type": "markdown",
   "metadata": {},
   "source": [
    "Как известно качество модели дерева решений зависит от его глубины. Попробуем определить оптимальную глубину дерева решений для наших данных."
   ]
  },
  {
   "cell_type": "code",
   "execution_count": 46,
   "metadata": {},
   "outputs": [
    {
     "data": {
      "image/png": "[encoded data removed]",
      "text/plain": [
       "<Figure size 1200x400 with 1 Axes>"
      ]
     },
     "metadata": {},
     "output_type": "display_data"
    }
   ],
   "source": [
    "#подберем max_depth\n",
    "#Создаем список из возможных значений от 1 до 20 с шагом 1\n",
    "max_depth_list = range(1,20,1)\n",
    "#Создаем пустые списки, в которые будем добавлять результаты \n",
    "train_scores = []\n",
    "test_scores = []\n",
    "for depth in max_depth_list:\n",
    "    #Создаем объект класса деверья решений DecisionTreeRegressor\n",
    "    dt_model = tree.DecisionTreeRegressor(max_depth=depth, random_state= 42)\n",
    "    #Обучаем модель предсказывать логарифм целевого признака\n",
    "    dt_model.fit(X_train_scaled, y_train_log)\n",
    "    #Делаем предсказание для каждой из выборок\n",
    "    y_train_log_pred = dt_model.predict(X_train_scaled)\n",
    "    y_valid_log_pred = dt_model.predict(X_valid_scaled)\n",
    "    #Рассчитываем метрику для двух выборок и добавляем их в списки\n",
    "    train_scores.append(metrics.mean_absolute_error(y_train_log, y_train_log_pred))\n",
    "    test_scores.append(metrics.mean_absolute_error(y_valid_log, y_valid_log_pred))\n",
    "\n",
    "#Визуализируем изменение MAE в зависимости от max_depth\n",
    "fig, ax = plt.subplots(figsize=(12, 4)) #фигура + координатная плоскость\n",
    "ax.plot(max_depth_list, train_scores, label='Train') #линейный график для тренировочной выборки\n",
    "ax.plot(max_depth_list, test_scores, label='Valid') #линейный график для тестовой выборки\n",
    "ax.set_xlabel('max_depth') #название оси абсцисс\n",
    "ax.set_ylabel('MAE') #название оси ординат\n",
    "ax.set_xticks(max_depth_list) #метки по оси абцисс\n",
    "ax.xaxis.set_tick_params(rotation=45) #поворот меток на оси абсцисс\n",
    "ax.legend(); #отображение легенды"
   ]
  },
  {
   "cell_type": "code",
   "execution_count": 47,
   "metadata": {},
   "outputs": [
    {
     "name": "stdout",
     "output_type": "stream",
     "text": [
      "Train R^2: 0.54\n",
      "Train MAE: 0.44\n",
      "Train MAPE: 3.45\n",
      "Train MSE: 0.35\n",
      "\n",
      "\n",
      "Valid R^2: 0.54\n",
      "Valid MAE: 0.44\n",
      "Valid MAPE: 3.47\n",
      "Train MSE: 0.36\n"
     ]
    }
   ],
   "source": [
    "# построим модель дерева решений на обучающей выборке\n",
    "# создаем объект класса DecisionTreeRegressor\n",
    "dt_model = tree.DecisionTreeRegressor(random_state=42,\n",
    "                                      max_depth=8)\n",
    "#обучаем модель на тренировочной выборке\n",
    "dt_model.fit(X_train_scaled, y_train_log)\n",
    "\n",
    "#предсказываем целевую переменную на обучающей и валидационной выборках\n",
    "y_train_log_pred = dt_model.predict(X_train_scaled)\n",
    "y_valid_log_pred = dt_model.predict(X_valid_scaled)\n",
    "#выводим метрики\n",
    "print_metrics(y_train_log, y_train_log_pred,y_valid_log, y_valid_log_pred)"
   ]
  },
  {
   "cell_type": "markdown",
   "metadata": {},
   "source": [
    "Модель дерева решений на наших данных работает немного лучше. Коэффициент детерминации подрос на 0.04. И теперь модель описывает 54 % данных. Так как коэффициент детерминации больше 0.5, модель можно считать удовлетворительной. Равенство коэффициентов детерминации тестовой и валидационной выборок говорит о том, что переобучение отсутствует."
   ]
  },
  {
   "cell_type": "markdown",
   "metadata": {},
   "source": [
    "### Модель случайного леса (RandomForestRegressor)"
   ]
  },
  {
   "cell_type": "markdown",
   "metadata": {},
   "source": [
    "Попробуем усилить нашу модель, построим модель случайного леса, но прежде подберем оптимальные гиперпараметры модели с помощью метода RandomizedSearchCV."
   ]
  },
  {
   "cell_type": "code",
   "execution_count": 48,
   "metadata": {},
   "outputs": [
    {
     "name": "stdout",
     "output_type": "stream",
     "text": [
      "Fitting 2 folds for each of 10 candidates, totalling 20 fits\n",
      "Train R^2: 0.54\n",
      "Train MAE: 0.44\n",
      "Train MAPE: 3.45\n",
      "Train MSE: 0.35\n",
      "\n",
      "\n",
      "Valid R^2: 0.54\n",
      "Valid MAE: 0.44\n",
      "Valid MAPE: 3.47\n",
      "Train MSE: 0.36\n"
     ]
    }
   ],
   "source": [
    "# Создаем сетку перебираемых параметров\n",
    "param_distributions = {'n_estimators': [100, 150, 200],\n",
    "                       'max_depth': np.arange(11, 18, 2),\n",
    "                       'min_samples_leaf': [5, 10, 15]}\n",
    "\n",
    "# Создаем модель RandomizedSearchCV\n",
    "rand_search = model_selection.RandomizedSearchCV(estimator = ensemble.RandomForestRegressor(\n",
    "                                                               n_jobs = -1,\n",
    "                                                               warm_start = True,\n",
    "                                                               random_state = 42),\n",
    "                                                 param_distributions = param_distributions,\n",
    "                                                 cv = 2,\n",
    "                                                 scoring = 'r2',\n",
    "                                                 return_train_score = False,\n",
    "                                                 n_jobs = -1,\n",
    "                                                 verbose = 1)\n",
    "\n",
    "# Обучим модель\n",
    "rand_search.fit(X_train_scaled, y_train_log)\n",
    "\n",
    "# Сделаем предсказания\n",
    "y_train_pred = rand_search.predict(X_train_scaled)\n",
    "y_valid_pred = rand_search.predict(X_valid_scaled)\n",
    "\n",
    "print_metrics(y_train_log, y_train_log_pred,y_valid_log, y_valid_log_pred)"
   ]
  },
  {
   "cell_type": "code",
   "execution_count": 49,
   "metadata": {},
   "outputs": [
    {
     "name": "stdout",
     "output_type": "stream",
     "text": [
      "Наилучшие значения гиперпараметров: {'n_estimators': 100, 'min_samples_leaf': 5, 'max_depth': 17}\n"
     ]
    }
   ],
   "source": [
    "# Выведем подобранные значения гиперпараметров, использованные для прогноза\n",
    "print('Наилучшие значения гиперпараметров:', rand_search.best_params_)"
   ]
  },
  {
   "cell_type": "markdown",
   "metadata": {},
   "source": [
    "Более сложная модель, но по сравнению с деревом решений метрики не улучшились."
   ]
  },
  {
   "cell_type": "markdown",
   "metadata": {},
   "source": [
    "### Градиентный бустинг над деревьями решений (GradientBoostingRegressor)"
   ]
  },
  {
   "cell_type": "markdown",
   "metadata": {},
   "source": [
    "Попробуем еще больше усилить модель и найти для  нее метрики."
   ]
  },
  {
   "cell_type": "code",
   "execution_count": 50,
   "metadata": {},
   "outputs": [
    {
     "name": "stdout",
     "output_type": "stream",
     "text": [
      "Train R^2: 0.54\n",
      "Train MAE: 0.44\n",
      "Train MAPE: 3.45\n",
      "Train MSE: 0.35\n",
      "\n",
      "\n",
      "Valid R^2: 0.54\n",
      "Valid MAE: 0.44\n",
      "Valid MAPE: 3.47\n",
      "Train MSE: 0.36\n"
     ]
    }
   ],
   "source": [
    "# Строим модель градиентного бустинга\n",
    "gb_reg = ensemble.GradientBoostingRegressor(learning_rate = 0.5,\n",
    "                                            n_estimators = 100,\n",
    "                                            max_depth = 6,\n",
    "                                            min_samples_split = 30,\n",
    "                                            random_state = 42)\n",
    "\n",
    "# Обучаем модель\n",
    "gb_reg.fit(X_train_scaled, y_train_log)\n",
    "\n",
    "# Выполняем предсказание\n",
    "y_train_pred = gb_reg.predict(X_train_scaled)\n",
    "y_valid_pred = gb_reg.predict(X_valid_scaled)\n",
    "\n",
    "print_metrics(y_train_log, y_train_log_pred,y_valid_log, y_valid_log_pred)"
   ]
  },
  {
   "cell_type": "markdown",
   "metadata": {},
   "source": [
    "И эта модель не дала качественных изменений метрик. А что если объединить эти модели в одну. На следующем этапе попробуем применить стекинг."
   ]
  },
  {
   "cell_type": "markdown",
   "metadata": {},
   "source": [
    "### Стэкинг моделей (StackingRegressor)"
   ]
  },
  {
   "cell_type": "code",
   "execution_count": 51,
   "metadata": {},
   "outputs": [
    {
     "name": "stdout",
     "output_type": "stream",
     "text": [
      "Train R^2: 0.80\n",
      "Train MAE: 0.28\n",
      "Train MAPE: 2.20\n",
      "Train MSE: 0.16\n",
      "\n",
      "\n",
      "Valid R^2: 0.74\n",
      "Valid MAE: 0.31\n",
      "Valid MAPE: 2.46\n",
      "Train MSE: 0.20\n"
     ]
    }
   ],
   "source": [
    "# Создаем список моделей для стекинга с подобранными ранее параметрами\n",
    "estimators = [\n",
    "    ('dt', tree.DecisionTreeRegressor(\n",
    "           max_depth = 8,\n",
    "           random_state = 42)\n",
    "    ),\n",
    "    ('rf', ensemble.RandomForestRegressor(\n",
    "           n_estimators = 150,\n",
    "           max_depth = 17,\n",
    "           min_samples_leaf = 5,\n",
    "           n_jobs = -1,\n",
    "           warm_start = True,\n",
    "           random_state = 42)\n",
    "    ),\n",
    "    ('gb', ensemble.GradientBoostingRegressor(\n",
    "           learning_rate = 0.5,\n",
    "           n_estimators = 100,\n",
    "           max_depth = 6,\n",
    "           min_samples_split = 30,\n",
    "           random_state = 42)\n",
    "    )\n",
    "]\n",
    "\n",
    "# Создаем объект класса стекинг\n",
    "stack_reg = ensemble.StackingRegressor(\n",
    "            estimators = estimators,\n",
    "            final_estimator = ensemble.RandomForestRegressor(\n",
    "                              n_estimators = 150,\n",
    "                              max_depth = 17,\n",
    "                              min_samples_leaf = 5,\n",
    "                              n_jobs = -1,\n",
    "                              warm_start = True,\n",
    "                              random_state = 42),\n",
    "            cv = 2,\n",
    "            n_jobs = -1,\n",
    "            verbose = 5\n",
    ")\n",
    "\n",
    "# Обучаем модель\n",
    "stack_reg.fit(X_train_scaled, y_train_log)\n",
    "\n",
    "# Делаем предсказание\n",
    "y_train_log_pred = stack_reg.predict(X_train_scaled)\n",
    "y_valid_log_pred = stack_reg.predict(X_valid_scaled)\n",
    "\n",
    "print_metrics(y_train_log, y_train_log_pred,y_valid_log, y_valid_log_pred)"
   ]
  },
  {
   "cell_type": "markdown",
   "metadata": {},
   "source": [
    "Отличный результат, по-моему. Благодаря стекингу трех моделей у нас получилось значительно улучшить качество метрик. Коэффициент детерминации теперь описывает 80 и 74 процента выборки соответственно для обучающей выборки и валидационной выборки. Получилось улучшить и метрики отклонений."
   ]
  },
  {
   "cell_type": "code",
   "execution_count": 52,
   "metadata": {},
   "outputs": [
    {
     "data": {
      "text/html": [
       "<div>\n",
       "<style scoped>\n",
       "    .dataframe tbody tr th:only-of-type {\n",
       "        vertical-align: middle;\n",
       "    }\n",
       "\n",
       "    .dataframe tbody tr th {\n",
       "        vertical-align: top;\n",
       "    }\n",
       "\n",
       "    .dataframe thead th {\n",
       "        text-align: right;\n",
       "    }\n",
       "</style>\n",
       "<table border=\"1\" class=\"dataframe\">\n",
       "  <thead>\n",
       "    <tr style=\"text-align: right;\">\n",
       "      <th></th>\n",
       "      <th>Metric</th>\n",
       "      <th>LinearRegression</th>\n",
       "      <th>DecisionTreeRegressor</th>\n",
       "      <th>RandomForestRegressor</th>\n",
       "      <th>GradientBoostingRegressor</th>\n",
       "      <th>StackingRegressor</th>\n",
       "    </tr>\n",
       "  </thead>\n",
       "  <tbody>\n",
       "    <tr>\n",
       "      <th>0</th>\n",
       "      <td>Train R2</td>\n",
       "      <td>0.54</td>\n",
       "      <td>0.54</td>\n",
       "      <td>0.54</td>\n",
       "      <td>0.54</td>\n",
       "      <td>0.80</td>\n",
       "    </tr>\n",
       "    <tr>\n",
       "      <th>1</th>\n",
       "      <td>Train MAE</td>\n",
       "      <td>0.44</td>\n",
       "      <td>0.44</td>\n",
       "      <td>0.44</td>\n",
       "      <td>0.44</td>\n",
       "      <td>0.28</td>\n",
       "    </tr>\n",
       "    <tr>\n",
       "      <th>2</th>\n",
       "      <td>Train MAPE</td>\n",
       "      <td>3.45</td>\n",
       "      <td>3.45</td>\n",
       "      <td>3.45</td>\n",
       "      <td>3.45</td>\n",
       "      <td>2.20</td>\n",
       "    </tr>\n",
       "    <tr>\n",
       "      <th>3</th>\n",
       "      <td>Train MSE</td>\n",
       "      <td>0.35</td>\n",
       "      <td>0.35</td>\n",
       "      <td>0.35</td>\n",
       "      <td>0.35</td>\n",
       "      <td>0.16</td>\n",
       "    </tr>\n",
       "    <tr>\n",
       "      <th>4</th>\n",
       "      <td>Valid R2</td>\n",
       "      <td>0.54</td>\n",
       "      <td>0.54</td>\n",
       "      <td>0.54</td>\n",
       "      <td>0.54</td>\n",
       "      <td>0.74</td>\n",
       "    </tr>\n",
       "    <tr>\n",
       "      <th>5</th>\n",
       "      <td>Valid MAE</td>\n",
       "      <td>0.44</td>\n",
       "      <td>0.44</td>\n",
       "      <td>0.44</td>\n",
       "      <td>0.44</td>\n",
       "      <td>0.31</td>\n",
       "    </tr>\n",
       "    <tr>\n",
       "      <th>6</th>\n",
       "      <td>Valid MAPE</td>\n",
       "      <td>3.47</td>\n",
       "      <td>3.47</td>\n",
       "      <td>3.47</td>\n",
       "      <td>3.47</td>\n",
       "      <td>2.46</td>\n",
       "    </tr>\n",
       "    <tr>\n",
       "      <th>7</th>\n",
       "      <td>Valid MSE</td>\n",
       "      <td>0.36</td>\n",
       "      <td>0.36</td>\n",
       "      <td>0.36</td>\n",
       "      <td>0.36</td>\n",
       "      <td>0.20</td>\n",
       "    </tr>\n",
       "  </tbody>\n",
       "</table>\n",
       "</div>"
      ],
      "text/plain": [
       "       Metric  LinearRegression  DecisionTreeRegressor  RandomForestRegressor  \\\n",
       "0    Train R2              0.54                   0.54                   0.54   \n",
       "1   Train MAE              0.44                   0.44                   0.44   \n",
       "2  Train MAPE              3.45                   3.45                   3.45   \n",
       "3   Train MSE              0.35                   0.35                   0.35   \n",
       "4    Valid R2              0.54                   0.54                   0.54   \n",
       "5   Valid MAE              0.44                   0.44                   0.44   \n",
       "6  Valid MAPE              3.47                   3.47                   3.47   \n",
       "7   Valid MSE              0.36                   0.36                   0.36   \n",
       "\n",
       "   GradientBoostingRegressor  StackingRegressor  \n",
       "0                       0.54               0.80  \n",
       "1                       0.44               0.28  \n",
       "2                       3.45               2.20  \n",
       "3                       0.35               0.16  \n",
       "4                       0.54               0.74  \n",
       "5                       0.44               0.31  \n",
       "6                       3.47               2.46  \n",
       "7                       0.36               0.20  "
      ]
     },
     "execution_count": 52,
     "metadata": {},
     "output_type": "execute_result"
    }
   ],
   "source": [
    "#создадим словарь \n",
    "metric_dict = {'Metric': ['Train R2', 'Train MAE', 'Train MAPE', 'Train MSE',\\\n",
    "                        'Valid R2', 'Valid MAE', 'Valid MAPE', 'Valid MSE'],\n",
    "            'LinearRegression': [0.54,0.44,3.45,0.35,0.54,0.44,3.47,0.36],\n",
    "            'DecisionTreeRegressor': [0.54,0.44,3.45,0.35,0.54,0.44,3.47,0.36],\n",
    "            'RandomForestRegressor': [0.54,0.44,3.45,0.35,0.54,0.44,3.47,0.36],\n",
    "            'GradientBoostingRegressor':[0.54,0.44,3.45,0.35,0.54,0.44,3.47,0.36],\n",
    "            'StackingRegressor': [0.80,0.28,2.20,0.16,0.74,0.31,2.46,0.20]}\n",
    "#создадим сводную таблицу метрик\n",
    "metric_df = pd.DataFrame(metric_dict)\n",
    "metric_df"
   ]
  },
  {
   "cell_type": "markdown",
   "metadata": {},
   "source": [
    "На основе этой таблицы сделаем вывод, что объединение более слабых моделей дерева решений (коэффициент деретминации 0.54/0.54), случайного леса (коэффициент детерминации 0.54/0.54) и градиентного спуска (коэффициент детерминации 0.54/0.54) привело к улучшению качества модели и метрик."
   ]
  },
  {
   "cell_type": "markdown",
   "metadata": {},
   "source": [
    "Мы провели большую работу. \n",
    "\n",
    "Очистли и обработали данные: преобразовали данные к нужному типу, очистили данные от ненужных символов и элементов, удалили из таблицы неинформативные наблюдения содержащие больше 50 % выбросов, удалили из таблицы признаки содержащие большое число пропусков, постарались устранить пересорт в данных.\n",
    "\n",
    "Провели разведовательный анализ: сгенерировали новые признаки, заполнили пропуски, очистили данные от выбросов, проверили зависимости и взаимосвязи между признаками, выделили 24 признака для создания модели.\n",
    "\n",
    "Создали модель прогнозирования стоимости недвижимости с помощью StackingRegressor, объединив модели DecisionTreeRegressor, RandomForestRegressor, GradientBoostingRegressor."
   ]
  }
 ],
 "metadata": {
  "kernelspec": {
   "display_name": "Python 3",
   "language": "python",
   "name": "python3"
  },
  "language_info": {
   "codemirror_mode": {
    "name": "ipython",
    "version": 3
   },
   "file_extension": ".py",
   "mimetype": "text/x-python",
   "name": "python",
   "nbconvert_exporter": "python",
   "pygments_lexer": "ipython3",
   "version": "3.9.10"
  }
 },
 "nbformat": 4,
 "nbformat_minor": 2
}
