{
 "cells": [
  {
   "cell_type": "markdown",
   "metadata": {},
   "source": [
    "# «Модель прогнозирования стоимости жилья для агентства недвижимости»"
   ]
  },
  {
   "cell_type": "markdown",
   "metadata": {},
   "source": [
    "### ПОСТАНОВКА ЗАДАЧИ"
   ]
  },
  {
   "cell_type": "markdown",
   "metadata": {},
   "source": [
    "Агентство недвижимости столкнулось с проблемой — риелторы тратят слишком много времени на сортировку объявлений и поиск выгодных предложений. Поэтому скорость их реакции и качество анализа не дотягивают до уровня конкурентов. Это сказывается на финансовых показателях агентства.\n",
    "\n",
    "Типовая задача из области Data Science, основанная на данных о недвижимости в США.\n",
    "\n",
    "**Бизнес-задача:** улучшить финансовые показатели компании за счет уменьшения времени на обработку информации о недвижимости у риелторов.\n",
    "\n",
    "**Техническая задача для вас как для специалиста в Data Science:** разработать модель машинного обучения, которая поможет обрабатывать объявления и увеличит число сделок и прибыль агентства.\n",
    "\n",
    "**Основные цели проекта:**\n",
    "1. Провести разведывательный анализ и очистку исходных данных.\n",
    "2. Выделить наиболее значимые факторы, влияющие на стоимость недвижимости.\n",
    "3. Построить модель для прогнозирования стоимости недвижимости.\n",
    "4. Разработать небольшой веб-сервис, на вход которому поступают данные о некоторой выставленной на продажу недвижимости, а сервис прогнозирует его стоимость."
   ]
  },
  {
   "cell_type": "markdown",
   "metadata": {},
   "source": [
    "Десериализацию выполнила в отдельном ноутбуке."
   ]
  },
  {
   "cell_type": "code",
   "execution_count": 1083,
   "metadata": {},
   "outputs": [],
   "source": [
    "# импортируем необходимые библиотеки\n",
    "import pandas as pd\n",
    "import numpy as np\n",
    "\n",
    "np.set_printoptions(suppress=True) # для вывода значений не в экспоненциальном виде\n",
    "\n",
    "from scipy.stats import shapiro\n",
    "import matplotlib.pyplot as plt\n",
    "import seaborn as sns\n",
    "import plotly.express as px"
   ]
  },
  {
   "cell_type": "markdown",
   "metadata": {},
   "source": [
    "На предыдущем этапе была произведена десериализация признаков.\n",
    "\n",
    "Рассмотрим внимательно данные, с которыми нам предстоит работать, и произведем базовую предобработку данных, переведя признаки в необходимые для дальнейшей работы форматы."
   ]
  },
  {
   "cell_type": "code",
   "execution_count": 1084,
   "metadata": {},
   "outputs": [],
   "source": [
    "#прочитаем данные из файла\n",
    "realty = pd.read_csv('full_data.csv', sep = ',') "
   ]
  },
  {
   "cell_type": "code",
   "execution_count": 1085,
   "metadata": {},
   "outputs": [
    {
     "data": {
      "text/plain": [
       "'Таблица данных недвижимости'"
      ]
     },
     "metadata": {},
     "output_type": "display_data"
    },
    {
     "data": {
      "text/html": [
       "<div>\n",
       "<style scoped>\n",
       "    .dataframe tbody tr th:only-of-type {\n",
       "        vertical-align: middle;\n",
       "    }\n",
       "\n",
       "    .dataframe tbody tr th {\n",
       "        vertical-align: top;\n",
       "    }\n",
       "\n",
       "    .dataframe thead th {\n",
       "        text-align: right;\n",
       "    }\n",
       "</style>\n",
       "<table border=\"1\" class=\"dataframe\">\n",
       "  <thead>\n",
       "    <tr style=\"text-align: right;\">\n",
       "      <th></th>\n",
       "      <th>status</th>\n",
       "      <th>private pool</th>\n",
       "      <th>propertyType</th>\n",
       "      <th>street</th>\n",
       "      <th>baths</th>\n",
       "      <th>homeFacts</th>\n",
       "      <th>fireplace</th>\n",
       "      <th>city</th>\n",
       "      <th>schools</th>\n",
       "      <th>sqft</th>\n",
       "      <th>...</th>\n",
       "      <th>MlsId</th>\n",
       "      <th>target</th>\n",
       "      <th>yearBuilt</th>\n",
       "      <th>remodeledYear</th>\n",
       "      <th>heating</th>\n",
       "      <th>cooling</th>\n",
       "      <th>parking</th>\n",
       "      <th>price_sqft</th>\n",
       "      <th>sch_rating</th>\n",
       "      <th>sch_dist</th>\n",
       "    </tr>\n",
       "  </thead>\n",
       "  <tbody>\n",
       "    <tr>\n",
       "      <th>0</th>\n",
       "      <td>Active</td>\n",
       "      <td>NaN</td>\n",
       "      <td>Single Family Home</td>\n",
       "      <td>240 Heather Ln</td>\n",
       "      <td>3.5</td>\n",
       "      <td>{'atAGlanceFacts': [{'factValue': '2019', 'fac...</td>\n",
       "      <td>Gas Logs</td>\n",
       "      <td>Southern Pines</td>\n",
       "      <td>[{'rating': ['4', '4', '7', 'NR', '4', '7', 'N...</td>\n",
       "      <td>2900</td>\n",
       "      <td>...</td>\n",
       "      <td>611019</td>\n",
       "      <td>$418,000</td>\n",
       "      <td>2019</td>\n",
       "      <td>NaN</td>\n",
       "      <td>Central A/C, Heat Pump</td>\n",
       "      <td>NaN</td>\n",
       "      <td>NaN</td>\n",
       "      <td>NaN</td>\n",
       "      <td>['4', '4', '7', 'NR', '4', '7', 'NR', 'NR']</td>\n",
       "      <td>['2.7 mi', '3.6 mi', '5.1 mi', '4.0 mi', '10.5...</td>\n",
       "    </tr>\n",
       "    <tr>\n",
       "      <th>1</th>\n",
       "      <td>for sale</td>\n",
       "      <td>NaN</td>\n",
       "      <td>single-family home</td>\n",
       "      <td>12911 E Heroy Ave</td>\n",
       "      <td>3 Baths</td>\n",
       "      <td>{'atAGlanceFacts': [{'factValue': '2019', 'fac...</td>\n",
       "      <td>NaN</td>\n",
       "      <td>Spokane Valley</td>\n",
       "      <td>[{'rating': ['4/10', 'None/10', '4/10'], 'data...</td>\n",
       "      <td>1,947 sqft</td>\n",
       "      <td>...</td>\n",
       "      <td>201916904</td>\n",
       "      <td>$310,000</td>\n",
       "      <td>2019</td>\n",
       "      <td>NaN</td>\n",
       "      <td>NaN</td>\n",
       "      <td>NaN</td>\n",
       "      <td>NaN</td>\n",
       "      <td>5828 sqft</td>\n",
       "      <td>['4/10', 'None/10', '4/10']</td>\n",
       "      <td>['1.65mi', '1.32mi', '1.01mi']</td>\n",
       "    </tr>\n",
       "  </tbody>\n",
       "</table>\n",
       "<p>2 rows × 26 columns</p>\n",
       "</div>"
      ],
      "text/plain": [
       "     status private pool        propertyType             street    baths  \\\n",
       "0    Active          NaN  Single Family Home     240 Heather Ln      3.5   \n",
       "1  for sale          NaN  single-family home  12911 E Heroy Ave  3 Baths   \n",
       "\n",
       "                                           homeFacts fireplace  \\\n",
       "0  {'atAGlanceFacts': [{'factValue': '2019', 'fac...  Gas Logs   \n",
       "1  {'atAGlanceFacts': [{'factValue': '2019', 'fac...       NaN   \n",
       "\n",
       "             city                                            schools  \\\n",
       "0  Southern Pines  [{'rating': ['4', '4', '7', 'NR', '4', '7', 'N...   \n",
       "1  Spokane Valley  [{'rating': ['4/10', 'None/10', '4/10'], 'data...   \n",
       "\n",
       "         sqft  ...      MlsId    target yearBuilt remodeledYear  \\\n",
       "0        2900  ...     611019  $418,000      2019           NaN   \n",
       "1  1,947 sqft  ...  201916904  $310,000      2019           NaN   \n",
       "\n",
       "                  heating cooling parking price_sqft  \\\n",
       "0  Central A/C, Heat Pump     NaN     NaN        NaN   \n",
       "1                     NaN     NaN     NaN  5828 sqft   \n",
       "\n",
       "                                    sch_rating  \\\n",
       "0  ['4', '4', '7', 'NR', '4', '7', 'NR', 'NR']   \n",
       "1                  ['4/10', 'None/10', '4/10']   \n",
       "\n",
       "                                            sch_dist  \n",
       "0  ['2.7 mi', '3.6 mi', '5.1 mi', '4.0 mi', '10.5...  \n",
       "1                     ['1.65mi', '1.32mi', '1.01mi']  \n",
       "\n",
       "[2 rows x 26 columns]"
      ]
     },
     "metadata": {},
     "output_type": "display_data"
    }
   ],
   "source": [
    "#проверим, что данные выгрузились корректно, для этого выведем первые две строки датафрейма\n",
    "display('Таблица данных недвижимости',realty.head(2))"
   ]
  },
  {
   "cell_type": "markdown",
   "metadata": {},
   "source": [
    "Итак, в нашем распоряжении более чем 300 тыс. наблюдений и 26 признаков:\n",
    "\n",
    "* 'propertyType' — тип объекта недвижимости;\n",
    "* 'street' — адрес объекта;\n",
    "* 'baths' — количество ванных комнат;\n",
    "* 'homeFacts' — сведения о строительстве объекта (содержит несколько типов сведений, влияющих на оценку объекта);\n",
    "* 'yearBuilt' - год постройки недвижимости;\n",
    "* 'remodeledYear' - год реконструкции недвижимости;\n",
    "* 'heating' - информация об отоплении;\n",
    "* 'cooling'- информация о системе охлаждения;\n",
    "* 'parking' - информация о парковке; \n",
    "* 'price_sqft' - цена одного квадратного фута;\n",
    "* 'fireplace' — наличие камина;\n",
    "* 'city' — город;\n",
    "* 'schools' — сведения о школах в районе;\n",
    "* 'sch_rating' - рейтинг школ;\n",
    "* 'sch_dist' - дистанция до школ;\n",
    "* 'sqft' — площадь в футах;\n",
    "* 'zipcode' — почтовый индекс;\n",
    "* 'beds' — количество спален;\n",
    "* 'state' — штат;\n",
    "* 'stories' — количество этажей;\n",
    "* 'mls-id' и 'MlsId' — идентификатор MLS (Multiple Listing Service, система мультилистинга);\n",
    "* 'target' — цена объекта недвижимости (целевой признак, который необходимо спрогнозировать)."
   ]
  },
  {
   "cell_type": "markdown",
   "metadata": {},
   "source": [
    "На предыдущем этапе было выяснено, что в данных есть пропуски. Приступим к этапу обработки и очистки данных."
   ]
  },
  {
   "cell_type": "markdown",
   "metadata": {},
   "source": [
    "### ОБРАБОТКА И ОЧИСТКА ДАННЫХ"
   ]
  },
  {
   "cell_type": "markdown",
   "metadata": {},
   "source": [
    "На этом этапе подготовим наш датасет для дальнейшего моделирования, произведя предобработку и очистку данных. Обработку признаков будем производить в соответствии с их расположением в талбице."
   ]
  },
  {
   "cell_type": "code",
   "execution_count": 1086,
   "metadata": {},
   "outputs": [
    {
     "data": {
      "text/plain": [
       "'Таблица соостветствия признака и пропущенных в нем значений'"
      ]
     },
     "metadata": {},
     "output_type": "display_data"
    },
    {
     "data": {
      "text/plain": [
       "private pool     98.891525\n",
       "mls-id           93.387330\n",
       "PrivatePool      89.312672\n",
       "fireplace        72.662221\n",
       "remodeledYear    59.946711\n",
       "parking          47.134960\n",
       "stories          39.958111\n",
       "cooling          34.825616\n",
       "heating          29.005395\n",
       "baths            28.192532\n",
       "beds             24.200856\n",
       "MlsId            17.731352\n",
       "yearBuilt        16.536713\n",
       "price_sqft       16.293066\n",
       "sqft             10.757851\n",
       "status           10.583136\n",
       "propertyType      9.208479\n",
       "target            0.657767\n",
       "city              0.009014\n",
       "street            0.000530\n",
       "dtype: float64"
      ]
     },
     "metadata": {},
     "output_type": "display_data"
    }
   ],
   "source": [
    "#посмотрим на доли пропусков в призаках, в которых они есть\n",
    "cols_null_percent = realty.isnull().mean() * 100 #находим долю пропусков в каждом столбце таблицы\n",
    "#выделяем столбцы с пропусками\n",
    "cols_with_null = cols_null_percent[cols_null_percent>0].sort_values(ascending=False)\n",
    "#выведем столбцы с пропусками\n",
    "display('Таблица соостветствия признака и пропущенных в нем значений',cols_with_null)"
   ]
  },
  {
   "cell_type": "markdown",
   "metadata": {},
   "source": [
    "Видим, что у нас есть два признака, значения которого распределены по двум столбцам: признак наличия бассейна(private pool и PrivatePool) и признак, содержащий идентификатор объекта недвижимости в мультистиллинговой системе (mls-id и MlsId). Данные в этих признаках неполные, в них содержится максимальное число пропусков.\n",
    "\n",
    "Считаю признак идентификатор объекта недвижимости в мультистиллинговой системе малоинформативнымм, так как он содержит много уникальных значений и поэтому не поможет в построении модели. Ввиду этого обстоятельства, полагаю - его можно удалить.\n",
    "\n",
    "На число пропусков в признаке наличия бассейна попробуем посмотреть после объединения столбцов. \n",
    "\n",
    "Признак наличия камина ('fireplace') содержит 73 % пропусков, удалим этот признак.\n",
    "\n",
    "Большое число пропусков содержит признак количества этажей 'stories'. Рассмотрим его поближе и решим, что с ним делать.\n",
    "\n",
    "Признак street имеет много уникальных значений, поэтому не является информативным, не будем использовать его для построения модели, но используем его для очистки и заполнения недостающих данных, а потом удалим."
   ]
  },
  {
   "cell_type": "markdown",
   "metadata": {},
   "source": [
    "Проверим есть ли в нашей таблице неинформативные строки. Для этого построим диаграмму."
   ]
  },
  {
   "cell_type": "code",
   "execution_count": 1087,
   "metadata": {},
   "outputs": [
    {
     "data": {
      "image/png": "[encoded data removed]",
      "text/plain": [
       "<Figure size 1000x400 with 2 Axes>"
      ]
     },
     "metadata": {},
     "output_type": "display_data"
    }
   ],
   "source": [
    "colors = ['blue', 'yellow'] #задаем цвета для диаграммы\n",
    "\n",
    "fig = plt.figure(figsize=(10, 4)) #задаем размер полотна диаграммы\n",
    "\n",
    "cols = cols_with_null.index #выделяем индексы пропущенных значений\n",
    "fig_str_null = sns.heatmap(\n",
    "    realty[cols].isnull(),\n",
    "    cmap=sns.color_palette(colors),\n",
    ");\n",
    "fig_str_null.set_title('Тепловая карта пропущенных значений в датафрейме');\n",
    "fig_str_null.set_xlabel('Признаки');\n",
    "fig_str_null.set_ylabel('Записи в датафрейме');"
   ]
  },
  {
   "cell_type": "markdown",
   "metadata": {},
   "source": [
    "По диаграмме видно, что есть строки с большим числом пропусков, если мы будем восстанавливать больше 50 % данных в строке, то это ухудшит качество нашей модели. Пропуски в строках тоже надо будет удалить."
   ]
  },
  {
   "cell_type": "code",
   "execution_count": 1088,
   "metadata": {},
   "outputs": [
    {
     "data": {
      "text/plain": [
       "'Число дубликатов в таблице равно 50.'"
      ]
     },
     "metadata": {},
     "output_type": "display_data"
    }
   ],
   "source": [
    "num_dublicat = len(realty[realty.duplicated()])\n",
    "display(f'Число дубликатов в таблице равно {num_dublicat}.')"
   ]
  },
  {
   "cell_type": "markdown",
   "metadata": {},
   "source": [
    "Итак, удалим:\n",
    "* столбцы с признаками msl-id  и MlsId\n",
    "* десериализованные столбцы с homeFacts и schools\n",
    "* столбец с признаков fireplace\n",
    "* строки, содержащие большое число пропущенных значений (возьмем число заполненных значений равным 70%)\n",
    "* дубликаты"
   ]
  },
  {
   "cell_type": "code",
   "execution_count": 1089,
   "metadata": {},
   "outputs": [
    {
     "name": "stdout",
     "output_type": "stream",
     "text": [
      "Размерность таблицы после удаления пропусков и дубликатов:(348512, 21)\n"
     ]
    }
   ],
   "source": [
    "# удаляем неинформативные признаки\n",
    "realty.drop(['mls-id', 'MlsId', 'fireplace'], axis=1, inplace=True) \n",
    "realty.drop(['homeFacts', 'schools'], axis=1, inplace=True)\n",
    "# удаляем полные дубликаты\n",
    "realty.drop_duplicates(inplace=True) \n",
    "\n",
    "#удаляем неинформативные наблюдения\n",
    "trash = realty.shape[1]*0.5#определяем число непустых значений в строке\n",
    "#удаляем строки, содержащией меньше 50 % непустых знаячений\n",
    "realty = realty.dropna(thresh = trash, axis=0)\n",
    "\n",
    "print('Размерность таблицы после удаления пропусков и дубликатов:{0}'.format(realty.shape))"
   ]
  },
  {
   "cell_type": "markdown",
   "metadata": {},
   "source": [
    "Дальнейшую обработку пропусков продолжим, обрабатывая каждый признак в отдельности. "
   ]
  },
  {
   "cell_type": "markdown",
   "metadata": {},
   "source": [
    "### Обработка признака - статус продаж (status)"
   ]
  },
  {
   "cell_type": "code",
   "execution_count": 1090,
   "metadata": {},
   "outputs": [
    {
     "data": {
      "text/plain": [
       "'Число пропусков в признаке status: 10.565 %'"
      ]
     },
     "metadata": {},
     "output_type": "display_data"
    },
    {
     "data": {
      "text/plain": [
       "'Число уникальных значений в признаке status: 159'"
      ]
     },
     "metadata": {},
     "output_type": "display_data"
    },
    {
     "data": {
      "text/plain": [
       "'Доля строк заполненных каждым уникальным значением признака status: '"
      ]
     },
     "metadata": {},
     "output_type": "display_data"
    },
    {
     "data": {
      "text/plain": [
       "status\n",
       "for sale                0.414273\n",
       "Active                  0.263228\n",
       "For sale                0.124664\n",
       "foreclosure             0.018054\n",
       "New construction        0.015687\n",
       "                          ...   \n",
       "Coming soon: Oct 24.    0.000003\n",
       "Pending Sale            0.000003\n",
       "Coming soon: Oct 21.    0.000003\n",
       "Coming soon: Nov 14.    0.000003\n",
       "Coming soon: Dec 23.    0.000003\n",
       "Name: count, Length: 159, dtype: float64"
      ]
     },
     "metadata": {},
     "output_type": "display_data"
    }
   ],
   "source": [
    "display('Число пропусков в признаке status: {:.3f} %'.format(realty['status'].isnull().mean()*100))\n",
    "display('Число уникальных значений в признаке status: {:.0f}'.format(realty['status'].nunique()))\n",
    "display('Доля строк заполненных каждым уникальным значением признака status: ',\\\n",
    "    realty['status'].value_counts()/realty.shape[0])"
   ]
  },
  {
   "cell_type": "markdown",
   "metadata": {},
   "source": [
    "Рассмотрим внимательнее данный признак.\n",
    "\n",
    "Мы видим,что большая часть данных представлена следующими типами собственности: for sale, active,foreclosure, new construction, pending - поэтому считаю возможным выделить означенные типы основными, а для остальных создать признак other.\n",
    "\n",
    "Однако среди уникальных признаков обнаружили признаки, которые несут одинаковую информацию.\n",
    "\n",
    "Итак выделим основные типы:\n",
    "* тип 'active' к нему будем относить 'for sale', 'activated', а также типы содержащие 'active'\n",
    "* тип 'foreclosure' (тип будет включать нетрадиционные продажи): 'foreclosed' («лишён права выкупа»), все типы содержащие 'auction'\n",
    "* тип 'pending' включает все варианты, в которых оформление сделки началось, но по каким-то причинам остановилось, а также тип 'contingency' предполагающий дополнительные обстоятельства и всего его варианты\n",
    "* тип 'new': это недвижимость обозначенная типом 'new', 'new construction' и типы содержащие конструкцию 'coming soon: <date>'\n",
    "* тип 'other' будет включать все типы не вошедшие в предыдущие варианты, в том числе отсутствующие значения.\n",
    "\n",
    "Анализируя, уникальные типы обнаружили тип недвижимости 'apartment for rent', возможно имеются и другие варианты подразумевающие арендуемую недвижимость. Сначала выделим в отдельный тип недвижимости все подобные записи и удалим их, так как стоимость, наш целевой признак, арендуемого имущества указывается за месяц и поэтому не поможет нам в построении модели."
   ]
  },
  {
   "cell_type": "code",
   "execution_count": 1091,
   "metadata": {},
   "outputs": [],
   "source": [
    "# напишем функцию для объединения похожих по сути признаков\n",
    "def fill_same(df, feature, same_dict):\n",
    "    ''' На вход функция получает датафрейм, признак, в котором будет производиться объединение и \n",
    "    словарь со списками похожих по сути значениями.\n",
    "    \n",
    "    Функция будет возвращать обновленный столбец исходного датафрейма с объединенными по смыслу признаками.\n",
    "    '''\n",
    "    df[feature]=df[feature].str.lower() #приводим значения к нижнему регистру\n",
    "    for i in same_dict.keys(): # проходимся циклом по всем ключам i словаря\n",
    "        for j in same_dict[i]: # проходимся циклом по всем значениям j списка с ключом i словаря\n",
    "            # применяем к каждому значению функцию lambda, которая проверяет на схожесть значения\n",
    "            # со значением из списка\n",
    "            df[feature]= df[feature].apply(lambda x: i if str(x).__contains__(j)==True else x)\n",
    "    return df[feature]# возвращаем обновленную колонку датафрейма  \n",
    "                              "
   ]
  },
  {
   "cell_type": "markdown",
   "metadata": {},
   "source": [
    "Прежде проверим, какие значения в признаке статуса недвижимости содержат ключевое слово rent, которое мы будем использовать в дальнейшем для отнесения объекта к группе арендуемого имущества. Для этого напишем функцию, которая будет выдавать список уникальных значений признака, содержащих ключевые слова."
   ]
  },
  {
   "cell_type": "code",
   "execution_count": 1092,
   "metadata": {},
   "outputs": [],
   "source": [
    "def search_key(df,feature,key_lst):\n",
    "    '''Функция на вход получает датафрейм, признак, в значениях которого будем искать ключевое слово,\n",
    "    и список ключевых слов.\n",
    "    \n",
    "    Функция возвращает список уникальных значений признака.\n",
    "    '''\n",
    "    df[feature] = df[feature].str.lower()# приводим значение признака в ячеке датафрейма к нижнему регистру\n",
    "    lst=[]#создаем пустой список, который будем заполнять\n",
    "    for i in key_lst: #проходим по списку искомых значений циклом\n",
    "        for j in df.index:#проходим по индексам датафрейма циклом\n",
    "            if str(df.loc[j,feature]).__contains__(i)== True: #если строка содержит один из ключей списка key_lst\n",
    "                lst.append(df.loc[j,feature])#добавляем значение в список\n",
    "            else: #если строка не содержит ни один из ключей\n",
    "                lst#возвращаем тот же список\n",
    "    return set(lst) #возвращаем список уникальных значений признака, содержащих одно из ключевых слов"
   ]
  },
  {
   "cell_type": "code",
   "execution_count": 1093,
   "metadata": {},
   "outputs": [],
   "source": [
    "# определим словарь, который будет содержать информацию о том, что включает в себя каждый тип\n",
    "type_dict = {'foreclosure': ['auction', 'foreclo'], # типы, относящиеся к foreclosure\n",
    "    'pending': ['pend', 'conting'], # типы, относящиеся к pending\n",
    "    'new': ['coming', 'new'], # типы, относящиеся к new\n",
    "    'active': ['for sale', 'activated', 'active', 'back on market'],# типы, относящиеся к active\n",
    "    'rent': ['rent']} # типы, относящиеся к rent"
   ]
  },
  {
   "cell_type": "code",
   "execution_count": 1094,
   "metadata": {},
   "outputs": [
    {
     "data": {
      "text/plain": [
       "'Уникальные значения признака - статус продажи, содержащие ключевое слово \"rent\":'"
      ]
     },
     "metadata": {},
     "output_type": "display_data"
    },
    {
     "data": {
      "text/plain": [
       "{'apartment for rent', 'condo for rent', 'for rent'}"
      ]
     },
     "metadata": {},
     "output_type": "display_data"
    }
   ],
   "source": [
    "#определим список ключевых значений\n",
    "rent_lst = ['rent']\n",
    "\n",
    "display('Уникальные значения признака - статус продажи, содержащие ключевое слово \"rent\":',\\\n",
    "    search_key(realty,'status',rent_lst))"
   ]
  },
  {
   "cell_type": "markdown",
   "metadata": {},
   "source": [
    "Видим, что полученный список включает только объекты статус которых подтверждает, что это недвижимость в аренду. Поэтому после выделения группы rent, можем ее смело удалять."
   ]
  },
  {
   "cell_type": "code",
   "execution_count": 1095,
   "metadata": {},
   "outputs": [
    {
     "data": {
      "text/plain": [
       "'Число пропусков в признаке status: 0.000 %'"
      ]
     },
     "metadata": {},
     "output_type": "display_data"
    },
    {
     "data": {
      "text/plain": [
       "'Число уникальных значений в признаке status: 5'"
      ]
     },
     "metadata": {},
     "output_type": "display_data"
    },
    {
     "data": {
      "text/plain": [
       "'Доля строк заполненных каждым уникальным значением признака status: '"
      ]
     },
     "metadata": {},
     "output_type": "display_data"
    },
    {
     "data": {
      "text/plain": [
       "status\n",
       "active         0.807078\n",
       "other          0.121709\n",
       "foreclosure    0.034861\n",
       "pending        0.018391\n",
       "new            0.017960\n",
       "Name: count, dtype: float64"
      ]
     },
     "metadata": {},
     "output_type": "display_data"
    },
    {
     "name": "stdout",
     "output_type": "stream",
     "text": [
      "Размерность таблицы после удаления rent:(348100, 21)\n"
     ]
    }
   ],
   "source": [
    "# применим функцию fill_type_feature к признаку - статус продажи\n",
    "realty['status'] = fill_same(realty,'status',type_dict)\n",
    "\n",
    "# выделим тип недвижимости other  \n",
    "realty['status']=realty['status'].apply(lambda x: x if x in list(type_dict.keys()) else 'other')\n",
    "\n",
    "# удалим из таблицы строки, содержащие данные об объектах недвижимости, которые сдаются в аренду\n",
    "index_rent = realty[realty['status']=='rent'].index \n",
    "realty.drop(index_rent, axis = 0, inplace = True)\n",
    "\n",
    "display('Число пропусков в признаке status: {:.3f} %'.format(realty['status'].isnull().mean()*100))\n",
    "display('Число уникальных значений в признаке status: {:.0f}'.format(realty['status'].nunique()))\n",
    "display('Доля строк заполненных каждым уникальным значением признака status: ',\\\n",
    "    realty['status'].value_counts()/realty.shape[0])\n",
    "\n",
    "#выведем размерность таблицы\n",
    "print('Размерность таблицы после удаления rent:{0}'.format(realty.shape))"
   ]
  },
  {
   "cell_type": "markdown",
   "metadata": {},
   "source": [
    "### Обработка признака PrivatePool"
   ]
  },
  {
   "cell_type": "markdown",
   "metadata": {},
   "source": [
    "Объединим столбцы 'private pool' и 'PrivatePool' и посмотрим на число пропусков после объединения."
   ]
  },
  {
   "cell_type": "code",
   "execution_count": 1096,
   "metadata": {},
   "outputs": [
    {
     "data": {
      "text/plain": [
       "'Число пропусков в столбце с признаком наличие бассейна после объединения столбцов 87.25 %'"
      ]
     },
     "metadata": {},
     "output_type": "display_data"
    }
   ],
   "source": [
    "# объединим столбцы, для нового столбца сохраним название PrivatePool\n",
    "realty['PrivatePool'] = realty[['PrivatePool', 'private pool']].bfill(axis =1).iloc[:,0]\n",
    "\n",
    "# проверим число пропусков\n",
    "display('Число пропусков в столбце с признаком наличие бассейна после объединения столбцов {0} %'.\\\n",
    "    format(round(realty['PrivatePool'].isnull().mean()*100,2)))"
   ]
  },
  {
   "cell_type": "markdown",
   "metadata": {},
   "source": [
    "Улучшить положение за счет объединенния признака в один столбец не получилось, данные содержат 85.23 % пропущенные значений, являются для нас неинформатиными, поэтому мы удалим эти столбцы из таблицы."
   ]
  },
  {
   "cell_type": "code",
   "execution_count": 1097,
   "metadata": {},
   "outputs": [
    {
     "name": "stdout",
     "output_type": "stream",
     "text": [
      "Размерность таблицы:(348100, 19)\n"
     ]
    }
   ],
   "source": [
    "# Удаляем эти неинформативные признаки\n",
    "realty.drop(['private pool', 'PrivatePool'], axis=1, inplace=True)\n",
    "\n",
    "print('Размерность таблицы:{0}'.format(realty.shape))"
   ]
  },
  {
   "cell_type": "code",
   "execution_count": 1098,
   "metadata": {},
   "outputs": [],
   "source": [
    "#для продолжения обработки копируем таблицу\n",
    "r1 = realty.copy()"
   ]
  },
  {
   "cell_type": "markdown",
   "metadata": {},
   "source": [
    "### Обработка признака - тип объекта недвижимости ('propertyType') "
   ]
  },
  {
   "cell_type": "code",
   "execution_count": 1099,
   "metadata": {},
   "outputs": [
    {
     "data": {
      "text/plain": [
       "'Число пропусков в признаке propertyType: 5.290 %'"
      ]
     },
     "metadata": {},
     "output_type": "display_data"
    },
    {
     "data": {
      "text/plain": [
       "'Число пропусков в признаке propertyType: 18414'"
      ]
     },
     "metadata": {},
     "output_type": "display_data"
    },
    {
     "data": {
      "text/plain": [
       "'Доля строк заполненных каждым уникальным значением признака status: '"
      ]
     },
     "metadata": {},
     "output_type": "display_data"
    },
    {
     "data": {
      "text/plain": [
       "propertyType\n",
       "single-family home                                             0.263528\n",
       "Single Family                                                  0.180388\n",
       "Single Family Home                                             0.091040\n",
       "condo                                                          0.074444\n",
       "Condo                                                          0.047538\n",
       "                                                                 ...   \n",
       "Custom, Elevated, Other                                        0.000003\n",
       "1 Story, Contemporary, Other (See Remarks)                     0.000003\n",
       "2 Stories, Traditional, Mediterranean, Texas Hill Country      0.000003\n",
       "Contemporary, Farmhouse                                        0.000003\n",
       "Bilevel, Converted Dwelling, Loft with Bedrooms, Condo/Unit    0.000003\n",
       "Name: count, Length: 1276, dtype: float64"
      ]
     },
     "metadata": {},
     "output_type": "display_data"
    }
   ],
   "source": [
    "display('Число пропусков в признаке propertyType: {:.3f} %'.format(r1['propertyType'].isnull().mean()*100))\n",
    "display('Число пропусков в признаке propertyType: {:.0f}'.format(r1['propertyType'].isnull().sum()))\n",
    "display('Доля строк заполненных каждым уникальным значением признака status: ',\\\n",
    "    r1['propertyType'].value_counts()/realty.shape[0])"
   ]
  },
  {
   "cell_type": "code",
   "execution_count": 1100,
   "metadata": {},
   "outputs": [],
   "source": [
    "#для упрощения дальнейшей обработки приведем значения в ячейках признака propertyType к нижнему регистру\n",
    "r1['propertyType'] = r1['propertyType'].str.lower()"
   ]
  },
  {
   "cell_type": "markdown",
   "metadata": {},
   "source": [
    "Во время исследования значений признака были обнаружены ячейки, содержащие информацию для признака stories."
   ]
  },
  {
   "cell_type": "code",
   "execution_count": 1101,
   "metadata": {},
   "outputs": [],
   "source": [
    "#определим список ключевых значений\n",
    "#stor_from_type = ['stor']\n",
    "\n",
    "#display('Количество ячеек в признаке propertyType, содержащих информацию о признаке stories: {0}'\\\n",
    "    #.format(len(search_key(r1,'propertyType',stor_from_type))))"
   ]
  },
  {
   "cell_type": "markdown",
   "metadata": {},
   "source": [
    "Во время анализа значений признака были выявлены наблюдения, в которых в признаке propertyType содержалась информация о количестве этажей. Заменим пустые ячейки в признаке stories заполненными ячейками из propertytype."
   ]
  },
  {
   "cell_type": "code",
   "execution_count": 1102,
   "metadata": {},
   "outputs": [
    {
     "data": {
      "text/plain": [
       "'Число пропусков в признаке stories до добавления информации из propertyType:121658'"
      ]
     },
     "metadata": {},
     "output_type": "display_data"
    },
    {
     "data": {
      "text/plain": [
       "'Число пропусков в признаке stories после добавления информации из propertyType:113987'"
      ]
     },
     "metadata": {},
     "output_type": "display_data"
    }
   ],
   "source": [
    "#в отдельную таблицу соохраняем значения признака propertyType, содержащие stories\n",
    "stor_from_property = r1[r1['propertyType'].str.contains('stor',case=False) == True]\n",
    "#находим в таблице stor_from_property наблюдения propertyType соответствующие пустым ячейкая в stories\n",
    "stor_ind = stor_from_property[stor_from_property['stories'].isnull()==True].index\n",
    "display('Число пропусков в признаке stories до добавления информации из propertyType:{0}'\\\n",
    "    .format(r1['stories'].isnull().sum()))\n",
    "#заменяем пустые значения из stories значениями из propertyType\n",
    "r1.loc[stor_ind,'stories'] = r1.loc[stor_ind,'propertyType']\n",
    "display('Число пропусков в признаке stories после добавления информации из propertyType:{0}'\\\n",
    "    .format(r1['stories'].isnull().sum()))"
   ]
  },
  {
   "cell_type": "markdown",
   "metadata": {},
   "source": [
    "Признак содержит значения, которые обозначены разными выражениями, но имеют одинаковую суть, для обработки применим функцию fill_type_feature, написанную ранее. \n",
    "\n",
    "Отдельно выделим:\n",
    "* single - отдельно стоящие дома для одной семьи;\n",
    "* apartment - квартиры;\n",
    "* condo - квартиры в кондоминимумах;\n",
    "* mobile - мобильные дома,\n",
    "* townhouse - недвижимость в таунхаусах;\n",
    "* multi - дома на несколько семей;\n",
    "* land - участки земли,\n",
    "* cabin - небольшие загородные домики,\n",
    "* other - другие типы не вошедшие в вышеперечисленные.\n",
    "\n",
    "Оформим словарь ключом, которого станет название объединяющего типа, а список значений составят выражения, которые либо имеют тот же смысл, либо являются описательными характеристиками типа.\n",
    "\n",
    "По итогам удалим объекты с типом land, так как этот тип не является жилым, по условию задачи необходимо построить модель прогнозирования стоимости жилой недвидимости. Но сначала, проверим, какие данные содержат ключевое слово land."
   ]
  },
  {
   "cell_type": "code",
   "execution_count": 1103,
   "metadata": {},
   "outputs": [
    {
     "data": {
      "text/plain": [
       "'Уникальные значения признака - статус продажи, содержащие ключевое слово \"land\":'"
      ]
     },
     "metadata": {},
     "output_type": "display_data"
    },
    {
     "data": {
      "text/plain": [
       "{'contemporary, new englander',\n",
       " 'double-wide mobile with land',\n",
       " 'land',\n",
       " 'lot/land',\n",
       " 'multi-level, new englander',\n",
       " 'new englander',\n",
       " 'single detached, single-wide mobile with land',\n",
       " 'single-wide mobile with land',\n",
       " 'single-wide mobile with land, traditional'}"
      ]
     },
     "metadata": {},
     "output_type": "display_data"
    }
   ],
   "source": [
    "#определим список ключевых значений\n",
    "land_lst = ['land']\n",
    "\n",
    "display('Уникальные значения признака - статус продажи, содержащие ключевое слово \"land\":',\\\n",
    "    search_key(r1,'propertyType',land_lst))"
   ]
  },
  {
   "cell_type": "markdown",
   "metadata": {},
   "source": [
    "Видим, что, выбирая в качестве ключевого слова land, мы можем потерять данные, которые скорее относятся к типу недвижимости single. \n",
    "\n",
    "Вручную заменим найденные значения на соответствующие типы, а затем применим функцию fill_type_feature."
   ]
  },
  {
   "cell_type": "code",
   "execution_count": 1104,
   "metadata": {},
   "outputs": [],
   "source": [
    "#заменим вручную содержащие ключевое слово land строки\n",
    "r1['propertyType']=r1['propertyType'].str.lower().replace('contemporary, new englander','single')\n",
    "r1['propertyType']=r1['propertyType'].str.lower().replace('new englander','single')\n",
    "r1['propertyType']=r1['propertyType'].str.lower().replace('multi-level, new englander','multi')\n",
    "r1['propertyType']=r1['propertyType'].str.lower()\\\n",
    "    .replace('double-wide mobile with land','mobile')\n",
    "r1['propertyType']=r1['propertyType'].str.lower()\\\n",
    "    .replace('single detached, single-wide mobile with land','mobile')\n",
    "r1['propertyType']=r1['propertyType'].str.lower()\\\n",
    "    .replace('single-wide mobile with land, traditional','mobile')\n",
    "r1['propertyType']=r1['propertyType'].str.lower()\\\n",
    "    .replace('single-wide mobile with land','mobile')"
   ]
  },
  {
   "cell_type": "code",
   "execution_count": 1105,
   "metadata": {},
   "outputs": [],
   "source": [
    "#создадим словарь схожих значений признака\n",
    "prop_dict = {'townhouse':['townhouse','townhome','row','patio'],\n",
    "             'apartment':['apartment','high rise','penthouse','high-rise','mid-rise','loft','mid rise',\\\n",
    "                 'hi-rise','unit','co-op','coop'],\n",
    "             'condo':['condo'],\n",
    "             'mobile':['mobile','manufact', 'prefab', 'modular','mo2 le', 'mo2le','cluster home'],\n",
    "             'single':['single','1 story','2 story','detached', 'tiny home','cape cod','farmhouse','ranch',\n",
    "                 'two stor','low-rise','cottage','one story','log home','farm house','cape','a-frame',\n",
    "                     'bungalow','charleston','english','low rise','elevated','tradit','old','histor','tudor',\n",
    "                     'craftsman', 'contemporary','greek revival','french country','mediterranean',\n",
    "                 'midcentury modern','victorian','colonial','french','modern','prairie','courtyard'],\n",
    "             'multi':['multi','duplex', 'triplex', 'fourplex','4-plex'],\n",
    "             'land':['land'],\n",
    "             'other':['other','unknown','miscellaneous','yes'],\n",
    "             'cabin':['cabin','ca2 n','ca2n','lake','coastal','garden','camp']\n",
    "             }\n",
    "\n",
    "#скопируем столбец с признаком - тип недвижимости\n",
    "r1['type'] = r1['propertyType']\n",
    "#обрабатываем столбец с признаком 'propertyType' с помощью функции fill_type_feature\n",
    "r1['type'] = fill_same(r1, 'type', prop_dict)\n",
    "#заполняем пропущенные значения модой по признаку типа недвижимости\n",
    "type_null_ind = r1[r1['type'].isnull()==True].index\n",
    "r1.loc[type_null_ind,'type']='single'\n",
    "\n",
    "#относим значения не отнесенные ни к одному типу, означенному в словаре к 'single'\n",
    "r1['type']=r1['type'].\\\n",
    "    apply(lambda x: x if x in list(prop_dict.keys()) else 'other')"
   ]
  },
  {
   "cell_type": "code",
   "execution_count": 1106,
   "metadata": {},
   "outputs": [],
   "source": [
    "#проверим, какие наблюдения были отнесены к типу land\n",
    "type_land = r1[r1['type']=='land']\n",
    "#выделим идексы строк, в которых значения признаков baths и bads ненулевые\n",
    "not_land_ind = type_land[(type_land['baths'].isnull()==False)|(type_land['beds'].isnull()==False)\\\n",
    "    |(type_land['stories'].isnull()==False)].index\n",
    "#заменим в выделенных значениях тип land на тип not_land\n",
    "r1.loc[not_land_ind,'type']='not_land'"
   ]
  },
  {
   "cell_type": "code",
   "execution_count": 1107,
   "metadata": {},
   "outputs": [],
   "source": [
    "# удалим из таблицы строки, содержащие данные о земельных участках\n",
    "index_land = r1[r1['type']=='land'].index \n",
    "r1.drop(index_land, axis = 0, inplace = True)"
   ]
  },
  {
   "cell_type": "code",
   "execution_count": 1108,
   "metadata": {},
   "outputs": [
    {
     "data": {
      "text/plain": [
       "'Число пропусков в признаке propertyType: 0.000 %'"
      ]
     },
     "metadata": {},
     "output_type": "display_data"
    },
    {
     "data": {
      "text/plain": [
       "'Число пропусков в признаке propertyType: 0'"
      ]
     },
     "metadata": {},
     "output_type": "display_data"
    },
    {
     "data": {
      "text/plain": [
       "'Доля строк заполненных каждым уникальным значением признака propertyType: '"
      ]
     },
     "metadata": {},
     "output_type": "display_data"
    },
    {
     "data": {
      "text/plain": [
       "type\n",
       "single       0.662574\n",
       "condo        0.122945\n",
       "townhouse    0.077848\n",
       "multi        0.035688\n",
       "not_land     0.022292\n",
       "apartment    0.020204\n",
       "other        0.011968\n",
       "mobile       0.010738\n",
       "cabin        0.001003\n",
       "Name: count, dtype: float64"
      ]
     },
     "metadata": {},
     "output_type": "display_data"
    },
    {
     "name": "stdout",
     "output_type": "stream",
     "text": [
      "Размерность таблицы:(336007, 20)\n"
     ]
    }
   ],
   "source": [
    "display('Число пропусков в признаке propertyType: {:.3f} %'.format(r1['type'].isnull().mean()*100))\n",
    "display('Число пропусков в признаке propertyType: {:.0f}'.format(r1['type'].isnull().sum()))\n",
    "display('Доля строк заполненных каждым уникальным значением признака propertyType: ',\\\n",
    "    r1['type'].value_counts()/realty.shape[0])\n",
    "print('Размерность таблицы:{0}'.format(r1.shape))"
   ]
  },
  {
   "cell_type": "code",
   "execution_count": 1109,
   "metadata": {},
   "outputs": [],
   "source": [
    "#перед обработкой признака числа этажей \n",
    "r2=r1.copy()"
   ]
  },
  {
   "cell_type": "markdown",
   "metadata": {},
   "source": [
    "### Обработка признака количества этажей ('stories')"
   ]
  },
  {
   "cell_type": "code",
   "execution_count": 1110,
   "metadata": {},
   "outputs": [
    {
     "data": {
      "text/plain": [
       "'Число пропусков в признаке stories: 30.325 %'"
      ]
     },
     "metadata": {},
     "output_type": "display_data"
    },
    {
     "data": {
      "text/plain": [
       "'Число пропусков в признаке stories: 101894'"
      ]
     },
     "metadata": {},
     "output_type": "display_data"
    },
    {
     "data": {
      "text/plain": [
       "'Доля строк заполненных каждым уникальным значением признака stories: '"
      ]
     },
     "metadata": {},
     "output_type": "display_data"
    },
    {
     "data": {
      "text/plain": [
       "stories\n",
       "1.0                                                                               0.200734\n",
       "2.0                                                                               0.164523\n",
       "1                                                                                 0.068692\n",
       "2                                                                                 0.053999\n",
       "3.0                                                                               0.033547\n",
       "                                                                                    ...   \n",
       "2 stories, traditional, other (see remarks)                                       0.000003\n",
       "Sixplex                                                                           0.000003\n",
       "3+ stories, texas hill country                                                    0.000003\n",
       "historical/conservation district, single detached, early american, traditional    0.000003\n",
       "65.0                                                                              0.000003\n",
       "Name: count, Length: 576, dtype: float64"
      ]
     },
     "metadata": {},
     "output_type": "display_data"
    }
   ],
   "source": [
    "display('Число пропусков в признаке stories: {:.3f} %'.format(r2['stories'].isnull().mean()*100))\n",
    "display('Число пропусков в признаке stories: {:.0f}'.format(r2['stories'].isnull().sum()))\n",
    "display('Доля строк заполненных каждым уникальным значением признака stories: ',\\\n",
    "    r2['stories'].value_counts()/r2.shape[0])\n"
   ]
  },
  {
   "cell_type": "markdown",
   "metadata": {},
   "source": [
    "Этот признак содержит, на мой взгляд, разные данные, есть информация об этажах в целом зданий (число этажей в доме, например), есть этаж, на котором находится квартира, есть число уровней в апартаментах. Я использую этот признак для разделения большой группы домов по этажам, а затем удалю признак из таблицы."
   ]
  },
  {
   "cell_type": "code",
   "execution_count": 1111,
   "metadata": {},
   "outputs": [],
   "source": [
    "#для удобства обработки приведем значения в строке к нижнему регистру\n",
    "r2['stories']=r2['stories'].str.lower()"
   ]
  },
  {
   "cell_type": "markdown",
   "metadata": {},
   "source": [
    "Посмотрим на уникальные значения признака, которые содержат слово этаж."
   ]
  },
  {
   "cell_type": "code",
   "execution_count": 1112,
   "metadata": {},
   "outputs": [],
   "source": [
    "#определим список ключевых значений\n",
    "#stor_lst = ['stor']\n",
    "\n",
    "#display('Уникальные значения признака - статус продажи, содержащие ключевое слово stor:',\\\n",
    "    #search_key(r2,'stories',stor_lst))"
   ]
  },
  {
   "cell_type": "code",
   "execution_count": 1113,
   "metadata": {},
   "outputs": [],
   "source": [
    "#создадим словарь значений на замену\n",
    "stor_dict = {'1.5':['1 1/2 story','1.5 story','1.5 stories'],\n",
    "          '1.0':['one','1 story'],\n",
    "          '2.0':['two story','2 story','2 stories'],\n",
    "          '3.0':['three']}\n",
    "#заменим слова \n",
    "r2['stories'] = fill_same(r2,'stories',stor_dict)"
   ]
  },
  {
   "cell_type": "code",
   "execution_count": 1114,
   "metadata": {},
   "outputs": [],
   "source": [
    "#заменим '0','0.0','~' на значения nan\n",
    "r2['stories']=r2['stories'].replace('0',np.nan)\n",
    "r2['stories']=r2['stories'].replace('0.0',np.nan)\n",
    "r2['stories']=r2['stories'].replace('~',np.nan)"
   ]
  },
  {
   "cell_type": "code",
   "execution_count": 1115,
   "metadata": {},
   "outputs": [
    {
     "data": {
      "text/plain": [
       "'Число пропусков в признаке stories: 33.752 %'"
      ]
     },
     "metadata": {},
     "output_type": "display_data"
    }
   ],
   "source": [
    "display('Число пропусков в признаке stories: {:.3f} %'.format(r2['stories'].isnull().mean()*100))"
   ]
  },
  {
   "cell_type": "markdown",
   "metadata": {},
   "source": [
    "Приведем значения признака к числовому типу, для этого напишем преобразующую функцию."
   ]
  },
  {
   "cell_type": "code",
   "execution_count": 1116,
   "metadata": {},
   "outputs": [],
   "source": [
    "# импортируем модуль для построения регулярных выражений\n",
    "import re\n",
    "\n",
    "# напишем функцию для обработки признака\n",
    "def fill_numeric(number):\n",
    "    '''Функция на входе принимает значение признака, преобразует его в строковое значение,\n",
    "    выделяет количество признака в формате float, так как значение может быть дробным.\n",
    "    \n",
    "    Возвращает функция либо значение float, либо nan, если значение было пустым или\n",
    "    не соответствовало описанному регулярному выражению.\n",
    "    '''\n",
    "    if number is np.nan: #проверяем является ли строка пустой\n",
    "        return np.nan #возвращаем nan, если строка пустая\n",
    "    else: #если строка непустая\n",
    "        #находим все числа удовлетворяющие регулярному выражению и собираем в список\n",
    "        result = re.findall(r'\\d+\\.*,*\\d*',str(number)) \n",
    "        if result!=[]:#если список значений непустой\n",
    "            result = result[0] #берем первое значение списка найденных значений\n",
    "            result = float(result.replace(',','.')) #преобразуем его к типу float\n",
    "            return result #возвращаем число\n",
    "        else:# если в строке не найдено чисел \n",
    "            return np.nan #возвращаем nan   "
   ]
  },
  {
   "cell_type": "code",
   "execution_count": 1117,
   "metadata": {},
   "outputs": [],
   "source": [
    "#применим фукцию для преобразования признака - число этажей\n",
    "r2['stories']=r2['stories'].apply(lambda x: fill_numeric(x))"
   ]
  },
  {
   "cell_type": "code",
   "execution_count": 1118,
   "metadata": {},
   "outputs": [
    {
     "data": {
      "text/plain": [
       "'Число пропусков в признаке stories: 35.221 %'"
      ]
     },
     "metadata": {},
     "output_type": "display_data"
    }
   ],
   "source": [
    "display('Число пропусков в признаке stories: {:.3f} %'.format(r2['stories'].isnull().mean()*100))"
   ]
  },
  {
   "cell_type": "markdown",
   "metadata": {},
   "source": [
    "Видим, что после предварительной обработки число пропусков увеличилось."
   ]
  },
  {
   "cell_type": "code",
   "execution_count": 1119,
   "metadata": {},
   "outputs": [
    {
     "data": {
      "text/plain": [
       "'Число пропусков в признаке stories по типу недвижимости single: 20.686 %'"
      ]
     },
     "metadata": {},
     "output_type": "display_data"
    }
   ],
   "source": [
    "display('Число пропусков в признаке stories по типу недвижимости single: {:.3f} %'\\\n",
    "    .format(len(r2[(r2['stories'].isnull()==True)&(r2['type']=='single')])/r2.shape[0]*100))"
   ]
  },
  {
   "cell_type": "markdown",
   "metadata": {},
   "source": [
    "Среди объектов типа недвидимости single число пропусков не такое большое, поэтому можем его заполнить для дальнейшей обработки single."
   ]
  },
  {
   "cell_type": "markdown",
   "metadata": {},
   "source": [
    "Заполним пропуски в признаке stories во всем датасете, а использовать будем только часть заполненную для single.\n",
    "\n",
    "Поскольку stories числовой признак, то пропуски заполним медианным значением по типу недвижимости, так как медиана не зависит от выбросов."
   ]
  },
  {
   "cell_type": "code",
   "execution_count": 1120,
   "metadata": {},
   "outputs": [],
   "source": [
    "#напишем функцию для заполнения пустых значений медианным значением по типу недвижимости\n",
    "def fill_null(df,f1,f2,lst):\n",
    "    '''Функция принимает на вход:\n",
    "    - df - датафрейм, \n",
    "    - f1 - признак, который необходимо обработать,\n",
    "    - f2 - признак, по которому происходит группировка для поиска медианы,\n",
    "    - lst - список групп\n",
    "    \n",
    "    Функция возвращает обработанный столбец признака f1\n",
    "    '''\n",
    "    for i in lst: #проходимся в цикле по всем типу недвижимости, по которым находим медиану\n",
    "        df_f2 = df[df[f2]==i][f1] #фильтруем df по признаку f2 и выводим значения f1\n",
    "        null_ind = df_f2[df_f2.isnull()==True].index #находим индексы для пустых значений признака f1\n",
    "        if len(df[df[f2]==i][f2])==len(df_f2[df_f2.isnull()==True].index):\n",
    "            df.loc[null_ind,f1] = df[f1].median()          \n",
    "        else:\n",
    "            df.loc[null_ind,f1] = df[df[f2]==i][f1].median() #заполняем пустые значения признака f1 медианой         \n",
    "    return df[f1]"
   ]
  },
  {
   "cell_type": "code",
   "execution_count": 1121,
   "metadata": {},
   "outputs": [],
   "source": [
    "#зададим список типов недвижимости для расчета медианы\n",
    "type_list = ['single','apartment','condo','mobile','townhouse','multi','traditional',\n",
    "             'style_house','not_land', 'cabin','other']"
   ]
  },
  {
   "cell_type": "code",
   "execution_count": 1122,
   "metadata": {},
   "outputs": [],
   "source": [
    "#заполним пропуски в признаке stories медианными значениями, группируя по типу недвижимости type\n",
    "r2['stories'] = fill_null(r2,'stories','type',type_list)"
   ]
  },
  {
   "cell_type": "markdown",
   "metadata": {},
   "source": [
    "### Дообработка признака type"
   ]
  },
  {
   "cell_type": "code",
   "execution_count": 1123,
   "metadata": {},
   "outputs": [],
   "source": [
    "#для дальнейшей обработки выделим в отдельную таблицу наблюдения с типом недвижимости single\n",
    "table_single = r2[r2['type']=='single']"
   ]
  },
  {
   "cell_type": "code",
   "execution_count": 1124,
   "metadata": {},
   "outputs": [],
   "source": [
    "#table_single[(table_single['stories']>=5)|(table_single['stories']==1.3)|(table_single['stories']==1.2)\\\n",
    "    #|(table_single['stories']==2.2)|(table_single['stories']==3.5)|(table_single['stories']==1.7)]\\\n",
    "        #[['beds','propertyType','baths','sqft','stories']].sort_values('stories')[:25]"
   ]
  },
  {
   "cell_type": "markdown",
   "metadata": {},
   "source": [
    "Дома с числом этажей больше 5 вызывают вопросы, таких записей 141 шт. Скорее всего это неверные данные. Заполним их медианными значениями по типу недвижимости. Сохраним наблюдения с числом этажей 1.2, 1.3, 2.2,1.7 и 3.5, округлив до целого."
   ]
  },
  {
   "cell_type": "code",
   "execution_count": 1125,
   "metadata": {},
   "outputs": [],
   "source": [
    "# округлим данные\n",
    "r2['stories'] = r2['stories'].replace(1.2,1)\n",
    "r2['stories'] = r2['stories'].replace(1.3,1)\n",
    "r2['stories'] = r2['stories'].replace(1.7,2)\n",
    "r2['stories'] = r2['stories'].replace(2.2,2)\n",
    "r2['stories'] = r2['stories'].replace(3.5,4)"
   ]
  },
  {
   "cell_type": "code",
   "execution_count": 1126,
   "metadata": {},
   "outputs": [],
   "source": [
    "#выделим наблюдения в таблице table_single, в которых stories >5\n",
    "ind_for_change = table_single[table_single['stories']>=5].index\n",
    "#заменим выделенные значения на медианные значения по группе single\n",
    "r2.loc[ind_for_change,'stories']=table_single['stories'].median()"
   ]
  },
  {
   "cell_type": "markdown",
   "metadata": {},
   "source": [
    "Выделим новые типы домов недвижимости типа single с учетов числа этажей. Для этого напишем функцию."
   ]
  },
  {
   "cell_type": "code",
   "execution_count": 1127,
   "metadata": {},
   "outputs": [],
   "source": [
    "#функция изменения типа недвижимости в зависимости от числа этажей\n",
    "def change_type(df, x, s):\n",
    "    '''Функция на вход получает датафрейм, x - признак, который подлежит изменению,\n",
    "    s - признак, по которому будем менять признак x.\n",
    "    \n",
    "     Функция возвращает обновленный признак x в датафреме.\n",
    "    '''\n",
    "    for i in df.index: #проходимся по всем индексам датафрема в цикле\n",
    "        if df.loc[i,x]!='single': #если значение признака соответствует single\n",
    "            df.loc[i,x] = df.loc[i,x] # то, ячейка сохраняет свое значение\n",
    "        else: # если условие не выполняется\n",
    "            if df.loc[i,s]==1: #если число этажей равно 1\n",
    "                df.loc[i,x]='single_1' #то, значение в ячейке равно single_1\n",
    "            elif (df.loc[i,s]>1) and (df.loc[i,s]<=2):#если число этажей от 1 до 2\n",
    "                df.loc[i,x]='single_2'#то, значение в ячейке равно single_2\n",
    "            elif (df.loc[i,s]>2) and (df.loc[i,s]<=3):#если число этажей от 2 до 3\n",
    "                df.loc[i,x]='single_3'#то, значение в ячейке равно single_3\n",
    "            elif df.loc[i,s]==4:#если число этажей равно 4\n",
    "                df.loc[i,x]='single_4'#то, значение в ячейке равно single_4\n",
    "    return df[x] #возвращаем обновленный столбец датафрейма"
   ]
  },
  {
   "cell_type": "code",
   "execution_count": 1128,
   "metadata": {},
   "outputs": [],
   "source": [
    "#применим функцию change_type к признаку type\n",
    "r2['type']=change_type(r2,'type','stories')"
   ]
  },
  {
   "cell_type": "code",
   "execution_count": 1129,
   "metadata": {},
   "outputs": [
    {
     "name": "stdout",
     "output_type": "stream",
     "text": [
      "Размерность таблицы:(336007, 19)\n"
     ]
    }
   ],
   "source": [
    "#удалим столбец stories\n",
    "r2.drop(['stories'], axis=1, inplace=True)\n",
    "\n",
    "print('Размерность таблицы:{0}'.format(r2.shape))"
   ]
  },
  {
   "cell_type": "code",
   "execution_count": 1130,
   "metadata": {},
   "outputs": [],
   "source": [
    "#сохраним таблицу для дальнейшей обработки\n",
    "r3=r2.copy()"
   ]
  },
  {
   "cell_type": "markdown",
   "metadata": {},
   "source": [
    "### Обработка признака количества ванных комнат (baths)"
   ]
  },
  {
   "cell_type": "markdown",
   "metadata": {},
   "source": [
    "Проанализируем признак количества ванных комнат (baths). Посмотрим на уникальные значения признака, чтобы понять как преобразовать данные."
   ]
  },
  {
   "cell_type": "code",
   "execution_count": 1131,
   "metadata": {},
   "outputs": [
    {
     "data": {
      "text/plain": [
       "'Число пропусков в признаке baths: 19.530 %'"
      ]
     },
     "metadata": {},
     "output_type": "display_data"
    },
    {
     "data": {
      "text/plain": [
       "'Число пропусков в признаке baths: 65621'"
      ]
     },
     "metadata": {},
     "output_type": "display_data"
    },
    {
     "data": {
      "text/plain": [
       "'Доля строк заполненных каждым уникальным значением признака baths: '"
      ]
     },
     "metadata": {},
     "output_type": "display_data"
    },
    {
     "data": {
      "text/plain": [
       "baths\n",
       "2 Baths       0.155741\n",
       "3 Baths       0.105542\n",
       "2             0.060793\n",
       "2.0           0.049320\n",
       "4 Baths       0.043901\n",
       "                ...   \n",
       "4.75 Baths    0.000003\n",
       "5.25 Baths    0.000003\n",
       "41.0          0.000003\n",
       "1.8 Baths     0.000003\n",
       "44.0          0.000003\n",
       "Name: count, Length: 228, dtype: float64"
      ]
     },
     "metadata": {},
     "output_type": "display_data"
    }
   ],
   "source": [
    "display('Число пропусков в признаке baths: {:.3f} %'.format(r3['baths'].isnull().mean()*100))\n",
    "display('Число пропусков в признаке baths: {:.0f}'.format(r3['baths'].isnull().sum()))\n",
    "display('Доля строк заполненных каждым уникальным значением признака baths: ',\\\n",
    "    r3['baths'].value_counts()/r3.shape[0])"
   ]
  },
  {
   "cell_type": "code",
   "execution_count": 1132,
   "metadata": {},
   "outputs": [],
   "source": [
    "#посмотрим какие значения содержит признак baths\n",
    "#r3['baths'].value_counts().sort_index()[:25]"
   ]
  },
  {
   "cell_type": "markdown",
   "metadata": {},
   "source": [
    "Все значения признака иметют тип object, могут включать как числа и буквы, так и отдельные символы, например, '~', '-'. Также есть пропущенные значения, обозначенные nan.\n",
    "\n",
    "Особое внимание привлекают дробные значения, такие как '2.25', '7.5'. Как оказалось, это обозначение для комплектации ванных комнат, например: 0.5 - ванная комната снабжена только раковиной и унитазом, 0.75 - в ванной комнате есть раковина, унитаз и душ, а 1 подразумевает наличие раковины, унитаза, душа и ванной. Подробнее можно ознакомиться в [статье](https://illinado.com/what-is-a-quarter-bath/).\n",
    "\n",
    "Еще встречаются значения указанные в тысячах, например: '2,500', скорее всего это ошибка при введении данных и вместо разделительной точки для десятичных дробей была поставлена запятая.\n",
    "\n",
    "Попадаются значения типа: '1 / 1-0 / 1-0 / 1-0' или '2-1 / 2-1 / 1-1 / 1-1'. Думаю, что их можно интерпретировать как распределение ванных комнат по этажам. Количество этих значений невелико всего 12 шт. Отправим их к пустым значениям."
   ]
  },
  {
   "cell_type": "code",
   "execution_count": 1133,
   "metadata": {},
   "outputs": [],
   "source": [
    "# применим написанную функцию fill_numeric к признаку baths\n",
    "r3['baths'] = r3['baths'].apply(lambda x: fill_numeric(x))"
   ]
  },
  {
   "cell_type": "code",
   "execution_count": 1134,
   "metadata": {},
   "outputs": [
    {
     "data": {
      "text/plain": [
       "'Число пропусков в признаке baths: 19.976 %'"
      ]
     },
     "metadata": {},
     "output_type": "display_data"
    }
   ],
   "source": [
    "display('Число пропусков в признаке baths: {:.3f} %'.format(r3['baths'].isnull().mean()*100))"
   ]
  },
  {
   "cell_type": "code",
   "execution_count": 1135,
   "metadata": {},
   "outputs": [],
   "source": [
    "#зададим список типов недвижимости для расчета медианы\n",
    "type_list = ['single_1', 'single_2','single_3','single_4','condo', 'townhouse', 'multi', 'apartment','mobile',\n",
    "             'other','cabin','not_land']"
   ]
  },
  {
   "cell_type": "code",
   "execution_count": 1136,
   "metadata": {},
   "outputs": [],
   "source": [
    "#заполним пропуски нулями\n",
    "r3['baths'] = r3['baths'].replace(np.nan,0)"
   ]
  },
  {
   "cell_type": "code",
   "execution_count": 1137,
   "metadata": {},
   "outputs": [
    {
     "data": {
      "text/plain": [
       "array([  0.  ,   0.5 ,   0.75,   1.  ,   1.1 ,   1.25,   1.5 ,   1.75,\n",
       "         1.8 ,   2.  ,   2.1 ,   2.2 ,   2.25,   2.5 ,   2.75,   2.8 ,\n",
       "         3.  ,   3.1 ,   3.2 ,   3.25,   3.3 ,   3.5 ,   3.75,   4.  ,\n",
       "         4.1 ,   4.25,   4.5 ,   4.75,   5.  ,   5.2 ,   5.25,   5.5 ,\n",
       "         6.  ,   6.5 ,   6.75,   7.  ,   7.5 ,   8.  ,   8.5 ,   9.  ,\n",
       "         9.5 ,  10.  ,  10.5 ,  11.  ,  11.5 ,  12.  ,  12.5 ,  13.  ,\n",
       "        14.  ,  14.5 ,  15.  ,  16.  ,  17.  ,  18.  ,  19.  ,  20.  ,\n",
       "        21.  ,  22.  ,  23.  ,  24.  ,  25.  ,  26.  ,  27.  ,  28.  ,\n",
       "        29.  ,  30.  ,  32.  ,  34.  ,  35.  ,  36.  ,  39.  ,  40.  ,\n",
       "        41.  ,  42.  ,  43.  ,  44.  ,  55.  ,  60.  ,  64.  ,  68.  ,\n",
       "        76.  , 116.  , 241.  , 750.  ])"
      ]
     },
     "execution_count": 1137,
     "metadata": {},
     "output_type": "execute_result"
    }
   ],
   "source": [
    "#посмотрим на число уникальных значений\n",
    "np.sort(r3['baths'].unique())"
   ]
  },
  {
   "cell_type": "code",
   "execution_count": 1138,
   "metadata": {},
   "outputs": [],
   "source": [
    "#посмотрим, какие наблюдения содержат количество ванных комнат более 100\n",
    "#r3[(r3['baths']>100)][['baths',''beds','propertyType','type']]\n",
    "#проверим число этих наблюдений\n",
    "#len(r3[(r3['baths']>100)][['baths','beds','propertyType','type']])\n",
    "#посмотрим, сколько наблюдений с объектом типа multi\n",
    "#r3[(r3['baths']>100)&(r3['type']=='multi')][['baths','beds','propertyType','type']]"
   ]
  },
  {
   "cell_type": "markdown",
   "metadata": {},
   "source": [
    "Количеству ванных комнат больше 100 соответствует один объект из типа недвижимости multi, при этом число спален пустое значение, и еще 238 объектов ,большая часть из которых это townhouse и single_1. Считаю такие наблюдения подлежат удалению"
   ]
  },
  {
   "cell_type": "code",
   "execution_count": 1139,
   "metadata": {},
   "outputs": [
    {
     "data": {
      "text/plain": [
       "'Число удаленных выбросов признака baths: 239'"
      ]
     },
     "metadata": {},
     "output_type": "display_data"
    }
   ],
   "source": [
    "#удалим очевидные выбросы с числом ванных комнат больше 100\n",
    "#отберем наблюдения\n",
    "baths_more_100 = r3[(r3['baths']>100)].index\n",
    "\n",
    "display('Число удаленных выбросов признака baths: {}'.format(len(baths_more_100)))\n",
    "r3.drop(baths_more_100, axis=0, inplace=True)"
   ]
  },
  {
   "cell_type": "markdown",
   "metadata": {},
   "source": [
    "Дообработаем признак baths после обработки признака beds."
   ]
  },
  {
   "cell_type": "markdown",
   "metadata": {},
   "source": [
    "### Обработка признака beds"
   ]
  },
  {
   "cell_type": "code",
   "execution_count": 1140,
   "metadata": {},
   "outputs": [],
   "source": [
    "r4=r3.copy()"
   ]
  },
  {
   "cell_type": "code",
   "execution_count": 1141,
   "metadata": {},
   "outputs": [
    {
     "data": {
      "text/plain": [
       "'Число пропусков в признаке beds: 16.102 %'"
      ]
     },
     "metadata": {},
     "output_type": "display_data"
    },
    {
     "data": {
      "text/plain": [
       "'Число пропусков в признаке beds: 54065'"
      ]
     },
     "metadata": {},
     "output_type": "display_data"
    },
    {
     "data": {
      "text/plain": [
       "'Доля строк заполненных каждым уникальным значением признака beds: '"
      ]
     },
     "metadata": {},
     "output_type": "display_data"
    },
    {
     "data": {
      "text/plain": [
       "beds\n",
       "3 Beds        0.158806\n",
       "4 Beds        0.105230\n",
       "3             0.093493\n",
       "2 Beds        0.078110\n",
       "4             0.059633\n",
       "                ...   \n",
       "23 bd         0.000003\n",
       "31 Beds       0.000003\n",
       "4,199 sqft    0.000003\n",
       "2,250 sqft    0.000003\n",
       "4,356 sqft    0.000003\n",
       "Name: count, Length: 178, dtype: float64"
      ]
     },
     "metadata": {},
     "output_type": "display_data"
    }
   ],
   "source": [
    "display('Число пропусков в признаке beds: {:.3f} %'.format(r4['beds'].isnull().mean()*100))\n",
    "display('Число пропусков в признаке beds: {:.0f}'.format(r4['beds'].isnull().sum()))\n",
    "display('Доля строк заполненных каждым уникальным значением признака beds: ',\\\n",
    "    r4['beds'].value_counts()/r4.shape[0])"
   ]
  },
  {
   "cell_type": "code",
   "execution_count": 1142,
   "metadata": {},
   "outputs": [],
   "source": [
    "#приведем значения в ячейках к нижнему регистру\n",
    "r4['beds']=r4['beds'].str.lower()\n",
    "\n",
    "#уберем информацию о ванных комнатах из строк\n",
    "r4['beds']=r4['beds'].str.replace('1 bath, ','')\n",
    "r4['beds']=r4['beds'].str.replace('2 baths, ','')\n",
    "r4['beds']=r4['beds'].str.replace('bath', '')\n",
    "r4['beds']=r4['beds'].str.replace('baths', '')"
   ]
  },
  {
   "cell_type": "code",
   "execution_count": 1143,
   "metadata": {},
   "outputs": [
    {
     "data": {
      "text/plain": [
       "'Число пропусков в признаке beds: 21.097 %'"
      ]
     },
     "metadata": {},
     "output_type": "display_data"
    }
   ],
   "source": [
    "#приведем все значения в признаке к числовым, применим функцию fill_numeric\n",
    "r4['beds'] = r4['beds'].apply(lambda x: fill_numeric(x))\n",
    "display('Число пропусков в признаке beds: {:.3f} %'.format(r4['beds'].isnull().mean()*100))"
   ]
  },
  {
   "cell_type": "code",
   "execution_count": 1144,
   "metadata": {},
   "outputs": [
    {
     "data": {
      "text/plain": [
       "'Число пропусков в признаке beds: 0.000 %'"
      ]
     },
     "metadata": {},
     "output_type": "display_data"
    }
   ],
   "source": [
    "#заполним пропуски 0\n",
    "r4['beds'] = r4['beds'].replace(np.nan,0)\n",
    "display('Число пропусков в признаке beds: {:.3f} %'.format(r4['beds'].isnull().mean()*100))"
   ]
  },
  {
   "cell_type": "code",
   "execution_count": 1145,
   "metadata": {},
   "outputs": [
    {
     "data": {
      "text/plain": [
       "array([  0.   ,   0.26 ,   0.29 ,   0.32 ,   0.34 ,   0.52 ,   0.57 ,\n",
       "         0.63 ,   0.71 ,   1.   ,   1.188,   1.65 ,   1.67 ,   1.8  ,\n",
       "         1.96 ,   2.   ,   2.178,   2.25 ,   3.   ,   3.1  ,   4.   ,\n",
       "         4.199,   4.356,   4.64 ,   5.   ,   5.227,   5.248,   5.662,\n",
       "         6.   ,   6.351,   7.   ,   7.405,   7.84 ,   7.927,   8.   ,\n",
       "         8.276,   9.   ,  10.   ,  10.018,  11.   ,  12.   ,  13.   ,\n",
       "        14.   ,  15.   ,  16.   ,  17.   ,  18.   ,  19.   ,  20.   ,\n",
       "        21.   ,  22.   ,  23.   ,  24.   ,  25.   ,  26.   ,  27.   ,\n",
       "        28.   ,  29.   ,  30.   ,  31.   ,  32.   ,  33.   ,  34.   ,\n",
       "        35.   ,  36.   ,  39.   ,  40.   ,  42.   ,  44.   ,  46.   ,\n",
       "        47.   ,  48.   ,  51.   ,  52.   ,  53.   ,  60.   ,  64.   ,\n",
       "        75.   ,  76.   ,  78.   ,  88.   ,  99.   , 123.78 , 144.   ,\n",
       "       360.731, 640.   , 708.248])"
      ]
     },
     "execution_count": 1145,
     "metadata": {},
     "output_type": "execute_result"
    }
   ],
   "source": [
    "#посмотрим на число уникальных значений\n",
    "np.sort(r4['beds'].unique())"
   ]
  },
  {
   "cell_type": "code",
   "execution_count": 1146,
   "metadata": {},
   "outputs": [],
   "source": [
    "#посмотрим на объекты с числом спален больше 100\n",
    "#r4[r4['beds']>100][['baths','baths','beds','propertyType','type']]\n",
    "#посмотрим сколько таких наблюдений\n",
    "#len(r4[r4['beds']>100])\n",
    "#в скольких наблюдениях тип недвижимости multi\n",
    "#r4[(r4['beds']>100)&(r4['type']=='multi')]\n",
    "#посмотрим на число спален, имеющее дробное значение\n",
    "#r4[((r4['beds']<1)&(r4['beds']>0))|((r4['beds']<2)&(r4['beds']>1))|((r4['beds']<3)&(r4['beds']>2))\\\n",
    "    #|((r4['beds']<5)&(r4['beds']>4))|((r4['beds']<6)&(r4['beds']>5))|((r4['beds']<8)&(r4['beds']>7))\\\n",
    "        #|(r4['beds']==3.1)|(r4['beds']==6.351)|(r4['beds']==8.276)\\\n",
    "            #|(r4['beds']==10.018)][['beds','beds_save','propertyType','type','baths','baths_save']]\n",
    "#посмотрим сколько таких наблюдений\n",
    "#len(r4[((r4['beds']<1)&(r4['beds']>0))|((r4['beds']<2)&(r4['beds']>1))|((r4['beds']<3)&(r4['beds']>2))\\\n",
    "    #|((r4['beds']<5)&(r4['beds']>4))|((r4['beds']<6)&(r4['beds']>5))|((r4['beds']<8)&(r4['beds']>7))\\\n",
    "        #|(r4['beds']==3.1)|(r4['beds']==6.351)|(r4['beds']==8.276)\\\n",
    "            #|(r4['beds']==10.018)])"
   ]
  },
  {
   "cell_type": "markdown",
   "metadata": {},
   "source": [
    "Количеству спален больше 100 соответствует один объект из типа недвижимости multi, при этом число ванных комнат равно 2, и еще 4 объекта типа single_1. Считаю такие наблюдения подлежат удалению\n",
    "\n",
    "Число спален меньше единицы представляют собой некорректно заполненные данные, они соответствуют какой-то площади и характерны для типа недвижимости single_1. Всего таких наблюдений 37. Удалим их тоже."
   ]
  },
  {
   "cell_type": "code",
   "execution_count": 1147,
   "metadata": {},
   "outputs": [
    {
     "data": {
      "text/plain": [
       "'Число удаленных выбросов признака beds: 37'"
      ]
     },
     "metadata": {},
     "output_type": "display_data"
    }
   ],
   "source": [
    "#удалим очевидные выбросы с числом спален больше 100\n",
    "#отберем наблюдения\n",
    "beds_more_100 = r4[(r4['beds']>100)].index\n",
    "beds_share = r4[((r4['beds']<1)&(r4['beds']>0))|((r4['beds']<2)&(r4['beds']>1))|((r4['beds']<3)&(r4['beds']>2))\\\n",
    "    |((r4['beds']<5)&(r4['beds']>4))|((r4['beds']<6)&(r4['beds']>5))|((r4['beds']<8)&(r4['beds']>7))\\\n",
    "        |(r4['beds']==3.1)|(r4['beds']==6.351)|(r4['beds']==8.276)\\\n",
    "            |(r4['beds']==10.018)].index\n",
    "\n",
    "display('Число удаленных выбросов признака beds: {}'.format(len(beds_more_100)+len(beds_share)))\n",
    "r4.drop(beds_more_100, axis=0, inplace=True)\n",
    "r4.drop(beds_share, axis=0, inplace=True)"
   ]
  },
  {
   "cell_type": "code",
   "execution_count": 1148,
   "metadata": {},
   "outputs": [
    {
     "data": {
      "text/plain": [
       "'Число пропусков в признаке beds: 0.000 %'"
      ]
     },
     "metadata": {},
     "output_type": "display_data"
    },
    {
     "data": {
      "text/plain": [
       "'Число пропусков в признаке beds: 0'"
      ]
     },
     "metadata": {},
     "output_type": "display_data"
    },
    {
     "data": {
      "text/plain": [
       "'Доля строк заполненных каждым уникальным значением признака beds: '"
      ]
     },
     "metadata": {},
     "output_type": "display_data"
    },
    {
     "data": {
      "text/plain": [
       "beds\n",
       "3.0     0.314770\n",
       "0.0     0.215321\n",
       "4.0     0.205057\n",
       "2.0     0.148935\n",
       "5.0     0.064549\n",
       "6.0     0.019584\n",
       "1.0     0.018220\n",
       "7.0     0.005427\n",
       "8.0     0.003631\n",
       "9.0     0.001448\n",
       "10.0    0.000816\n",
       "12.0    0.000554\n",
       "11.0    0.000399\n",
       "16.0    0.000209\n",
       "13.0    0.000143\n",
       "64.0    0.000131\n",
       "14.0    0.000128\n",
       "15.0    0.000098\n",
       "18.0    0.000092\n",
       "24.0    0.000089\n",
       "20.0    0.000060\n",
       "17.0    0.000036\n",
       "32.0    0.000027\n",
       "28.0    0.000027\n",
       "26.0    0.000024\n",
       "22.0    0.000024\n",
       "19.0    0.000018\n",
       "34.0    0.000018\n",
       "27.0    0.000015\n",
       "23.0    0.000015\n",
       "21.0    0.000015\n",
       "40.0    0.000012\n",
       "30.0    0.000012\n",
       "36.0    0.000009\n",
       "25.0    0.000009\n",
       "44.0    0.000009\n",
       "78.0    0.000006\n",
       "42.0    0.000006\n",
       "29.0    0.000006\n",
       "48.0    0.000006\n",
       "33.0    0.000006\n",
       "47.0    0.000006\n",
       "99.0    0.000003\n",
       "53.0    0.000003\n",
       "51.0    0.000003\n",
       "60.0    0.000003\n",
       "31.0    0.000003\n",
       "75.0    0.000003\n",
       "39.0    0.000003\n",
       "52.0    0.000003\n",
       "46.0    0.000003\n",
       "76.0    0.000003\n",
       "35.0    0.000003\n",
       "88.0    0.000003\n",
       "Name: count, dtype: float64"
      ]
     },
     "metadata": {},
     "output_type": "display_data"
    }
   ],
   "source": [
    "display('Число пропусков в признаке beds: {:.3f} %'.format(r4['beds'].isnull().mean()*100))\n",
    "display('Число пропусков в признаке beds: {:.0f}'.format(r4['beds'].isnull().sum()))\n",
    "display('Доля строк заполненных каждым уникальным значением признака beds: ',\\\n",
    "    r4['beds'].value_counts()/r4.shape[0])"
   ]
  },
  {
   "cell_type": "code",
   "execution_count": 1149,
   "metadata": {},
   "outputs": [],
   "source": [
    "#сохраним таблицу для дальнейшей обработки\n",
    "r7 = r4.copy()"
   ]
  },
  {
   "cell_type": "markdown",
   "metadata": {},
   "source": [
    "Анализ признаков sqft, price_sqft и target позволили обнаружить пересорт в данных."
   ]
  },
  {
   "cell_type": "code",
   "execution_count": 1150,
   "metadata": {},
   "outputs": [],
   "source": [
    "#посмотрим на признаки sqft, price_sqft и target\n",
    "#r7[['sqft','price_sqft','target']].sort_values('target')"
   ]
  },
  {
   "cell_type": "markdown",
   "metadata": {},
   "source": [
    "### Обработка признака price_sqft"
   ]
  },
  {
   "cell_type": "code",
   "execution_count": 1151,
   "metadata": {},
   "outputs": [
    {
     "data": {
      "text/plain": [
       "'Число пропусков в признаке price_sqft: 16.933 %'"
      ]
     },
     "metadata": {},
     "output_type": "display_data"
    },
    {
     "data": {
      "text/plain": [
       "'Число пропусков в признаке price_sqft: 56851'"
      ]
     },
     "metadata": {},
     "output_type": "display_data"
    },
    {
     "data": {
      "text/plain": [
       "'Доля строк заполненных каждым уникальным значением признака price_sqft: '"
      ]
     },
     "metadata": {},
     "output_type": "display_data"
    },
    {
     "data": {
      "text/plain": [
       "price_sqft\n",
       "—                 0.053662\n",
       "No Data           0.015867\n",
       "-- sqft lot       0.011375\n",
       "0.26 acres        0.006609\n",
       "0.28 acres        0.005591\n",
       "                    ...   \n",
       "77.21 acres       0.000003\n",
       "2,038 sqft lot    0.000003\n",
       "10,583 Sq. Ft.    0.000003\n",
       "16229             0.000003\n",
       "7,084 sqft lot    0.000003\n",
       "Name: count, Length: 34892, dtype: float64"
      ]
     },
     "metadata": {},
     "output_type": "display_data"
    }
   ],
   "source": [
    "display('Число пропусков в признаке price_sqft: {:.3f} %'.format(r7['price_sqft'].isnull().mean()*100))\n",
    "display('Число пропусков в признаке price_sqft: {:.0f}'.format(r7['price_sqft'].isnull().sum()))\n",
    "display('Доля строк заполненных каждым уникальным значением признака price_sqft: ',\\\n",
    "    r7['price_sqft'].value_counts()/r7.shape[0])"
   ]
  },
  {
   "cell_type": "code",
   "execution_count": 1152,
   "metadata": {},
   "outputs": [],
   "source": [
    "#определим список ключевых значений\n",
    "#lst = ['ft']\n",
    "\n",
    "#display('Уникальные значения признака - статус продажи, содержащие ключевое слово \"rent\":',\\\n",
    "    #search_key(r7,'price_sqft',lst))"
   ]
  },
  {
   "cell_type": "markdown",
   "metadata": {},
   "source": [
    "Выделим данные из price_sqft для sqft"
   ]
  },
  {
   "cell_type": "code",
   "execution_count": 1153,
   "metadata": {},
   "outputs": [],
   "source": [
    "#приведем значения в ячейках к нижнему регистру\n",
    "r7['price_sqft']=r7['price_sqft'].str.lower()\n",
    "#находим строки в price_sqft со значениями sqft\n",
    "sqft_from_price = r7[r7['price_sqft'].str.contains('ft', case=False)==True]\n",
    "#выделяем строки соответствующие условию\n",
    "sqft_from_price_ind = sqft_from_price[sqft_from_price['sqft'].isnull()==True].index\n",
    "# заполняем по индексу пустые значения\n",
    "r7.loc[sqft_from_price_ind,'sqft'] = r7.loc[sqft_from_price_ind,'price_sqft']"
   ]
  },
  {
   "cell_type": "code",
   "execution_count": 1154,
   "metadata": {},
   "outputs": [],
   "source": [
    "#заменим строки содержащие acre на пустые строки\n",
    "r7['price_sqft']=r7['price_sqft'].apply(lambda x: np.nan \\\n",
    "    if ((x is np.nan) or (x.__contains__('acr')==True)) else x)"
   ]
  },
  {
   "cell_type": "code",
   "execution_count": 1155,
   "metadata": {},
   "outputs": [],
   "source": [
    "#приведем все значения в признаке к числовым, применим функцию fill_price\n",
    "r7['price_sqft'] = r7['price_sqft'].apply(lambda x: fill_numeric_(x))\n",
    "#заполним пропуски 0\n",
    "r7['price_sqft']=r7['price_sqft'].replace(np.nan,0)"
   ]
  },
  {
   "cell_type": "code",
   "execution_count": 1156,
   "metadata": {},
   "outputs": [
    {
     "data": {
      "text/plain": [
       "'Число пропусков в признаке price_sqft: 0.000 %'"
      ]
     },
     "metadata": {},
     "output_type": "display_data"
    }
   ],
   "source": [
    "display('Число пропусков в признаке price_sqft: {:.3f} %'.format(r7['price_sqft'].isnull().mean()*100))"
   ]
  },
  {
   "cell_type": "code",
   "execution_count": 1157,
   "metadata": {},
   "outputs": [
    {
     "data": {
      "text/plain": [
       "305337    284621040.0\n",
       "344039    118788120.0\n",
       "42757      91476000.0\n",
       "359425     87207120.0\n",
       "176718     61593840.0\n",
       "             ...     \n",
       "174491            0.0\n",
       "174497            0.0\n",
       "174498            0.0\n",
       "174503            0.0\n",
       "188590            0.0\n",
       "Name: price_sqft, Length: 335731, dtype: float64"
      ]
     },
     "execution_count": 1157,
     "metadata": {},
     "output_type": "execute_result"
    }
   ],
   "source": [
    "r7['price_sqft'].sort_values(ascending=False)"
   ]
  },
  {
   "cell_type": "code",
   "execution_count": 1158,
   "metadata": {},
   "outputs": [],
   "source": [
    "#сохраним таблицу для дальнейшей обработки\n",
    "r8=r7.copy()"
   ]
  },
  {
   "cell_type": "markdown",
   "metadata": {},
   "source": [
    "### Обработка признака sqft"
   ]
  },
  {
   "cell_type": "code",
   "execution_count": 1159,
   "metadata": {},
   "outputs": [
    {
     "data": {
      "text/plain": [
       "'Число пропусков в признаке sqft: 1.556 %'"
      ]
     },
     "metadata": {},
     "output_type": "display_data"
    },
    {
     "data": {
      "text/plain": [
       "'Число пропусков в признаке sqft: 5225'"
      ]
     },
     "metadata": {},
     "output_type": "display_data"
    },
    {
     "data": {
      "text/plain": [
       "'Доля строк заполненных каждым уникальным значением признака sqft: '"
      ]
     },
     "metadata": {},
     "output_type": "display_data"
    },
    {
     "data": {
      "text/plain": [
       "sqft\n",
       "0             0.016013\n",
       "1,200 sqft    0.002466\n",
       "1,000 sqft    0.001924\n",
       "1,100 sqft    0.001689\n",
       "1,800 sqft    0.001665\n",
       "                ...   \n",
       "16,950        0.000003\n",
       "7320          0.000003\n",
       "5,384 sqft    0.000003\n",
       "6,593 sqft    0.000003\n",
       "5488 sqft     0.000003\n",
       "Name: count, Length: 25961, dtype: float64"
      ]
     },
     "metadata": {},
     "output_type": "display_data"
    }
   ],
   "source": [
    "display('Число пропусков в признаке sqft: {:.3f} %'.format(r8['sqft'].isnull().mean()*100))\n",
    "display('Число пропусков в признаке sqft: {:.0f}'.format(r8['sqft'].isnull().sum()))\n",
    "display('Доля строк заполненных каждым уникальным значением признака sqft: ',\\\n",
    "    r8['sqft'].value_counts()/r8.shape[0])"
   ]
  },
  {
   "cell_type": "code",
   "execution_count": 1160,
   "metadata": {},
   "outputs": [],
   "source": [
    "# напишем функцию для обработки признака\n",
    "def fill_numeric_(number):\n",
    "    '''Функция на входе принимает значение признака, преобразует его в строковое значение,\n",
    "    выделяет количество признака в формате float, так как значение может быть дробным.\n",
    "    \n",
    "    Возвращает функция либо значение float, либо nan, если значение было пустым или\n",
    "    не соответствовало описанному регулярному выражению.\n",
    "    '''\n",
    "    if number is np.nan: # если строка является nan\n",
    "        return np.nan # то возварщаем nan\n",
    "    else: # иначе, если значение отлично от nan\n",
    "        #находим список значений в строке, соответствующих регулярному выражению\n",
    "        result = re.findall(r'\\d+\\.*,*\\d*,*\\d*',str(number)) \n",
    "        if result!=[]: #если список result не пустой\n",
    "            result = result[0] # то присваиваем result первое значение в списке\n",
    "            # заменяем запятые на пустую строку и приводим result к типу float\n",
    "            result = float(result.replace(',','')) \n",
    "            return result # возвращает result\n",
    "        else: #иначе, если список пустой\n",
    "            return np.nan #возвращаем nan"
   ]
  },
  {
   "cell_type": "code",
   "execution_count": 1161,
   "metadata": {},
   "outputs": [],
   "source": [
    "#приведем все значения в признаке к числовым, применим функцию fill_numeric_\n",
    "r8['sqft'] = r8['sqft'].apply(lambda x: fill_numeric_(x))\n",
    "#заполним пропуски нулями\n",
    "r8['sqft'] = r8['sqft'].replace(np.nan,0)"
   ]
  },
  {
   "cell_type": "code",
   "execution_count": 1162,
   "metadata": {},
   "outputs": [
    {
     "data": {
      "text/plain": [
       "'Число пропусков в признаке sqft: 0.000 %'"
      ]
     },
     "metadata": {},
     "output_type": "display_data"
    }
   ],
   "source": [
    "display('Число пропусков в признаке sqft: {:.3f} %'.format(r8['sqft'].isnull().mean()*100))"
   ]
  },
  {
   "cell_type": "code",
   "execution_count": 1163,
   "metadata": {},
   "outputs": [],
   "source": [
    "#сохраним таблицу для дальнейшей обработки\n",
    "r10=r8.copy()"
   ]
  },
  {
   "cell_type": "markdown",
   "metadata": {},
   "source": [
    "### Обработка признака target"
   ]
  },
  {
   "cell_type": "code",
   "execution_count": 1164,
   "metadata": {},
   "outputs": [
    {
     "data": {
      "text/plain": [
       "'Число пропусков в признаке target: 0.641 %'"
      ]
     },
     "metadata": {},
     "output_type": "display_data"
    },
    {
     "data": {
      "text/plain": [
       "'Число пропусков в признаке target: 2153'"
      ]
     },
     "metadata": {},
     "output_type": "display_data"
    },
    {
     "data": {
      "text/plain": [
       "'Доля строк заполненных каждым уникальным значением признака target: '"
      ]
     },
     "metadata": {},
     "output_type": "display_data"
    },
    {
     "data": {
      "text/plain": [
       "target\n",
       "$225,000    0.003857\n",
       "$275,000    0.003634\n",
       "$299,900    0.003592\n",
       "$249,900    0.003545\n",
       "$399,000    0.003467\n",
       "              ...   \n",
       "$879,681    0.000003\n",
       "274,800     0.000003\n",
       "$728,500    0.000003\n",
       "$291,995    0.000003\n",
       "$171,306    0.000003\n",
       "Name: count, Length: 41818, dtype: float64"
      ]
     },
     "metadata": {},
     "output_type": "display_data"
    }
   ],
   "source": [
    "display('Число пропусков в признаке target: {:.3f} %'.format(r10['target'].isnull().mean()*100))\n",
    "display('Число пропусков в признаке target: {:.0f}'.format(r10['target'].isnull().sum()))\n",
    "display('Доля строк заполненных каждым уникальным значением признака target: ',\\\n",
    "    r10['target'].value_counts()/r10.shape[0])"
   ]
  },
  {
   "cell_type": "code",
   "execution_count": 1165,
   "metadata": {},
   "outputs": [],
   "source": [
    "#уберем символ '$' из ячеек со значениями\n",
    "r10['target']=r10['target'].str.replace('$','')"
   ]
  },
  {
   "cell_type": "code",
   "execution_count": 1166,
   "metadata": {},
   "outputs": [],
   "source": [
    "#приведем все значения в признаке к числовым, применим функцию fill_price\n",
    "r10['target'] = r10['target'].apply(lambda x: fill_numeric_(x))"
   ]
  },
  {
   "cell_type": "code",
   "execution_count": 1167,
   "metadata": {},
   "outputs": [
    {
     "data": {
      "text/plain": [
       "'Число пропусков в признаке target: 0.641 %'"
      ]
     },
     "metadata": {},
     "output_type": "display_data"
    }
   ],
   "source": [
    "display('Число пропусков в признаке target: {:.3f} %'.format(r10['target'].isnull().mean()*100))"
   ]
  },
  {
   "cell_type": "markdown",
   "metadata": {},
   "source": [
    "Поскольку target является целевым признаком, заполняя пропущенные значения мы можем ухудшить качество модели."
   ]
  },
  {
   "cell_type": "code",
   "execution_count": 1168,
   "metadata": {},
   "outputs": [],
   "source": [
    "# удалим из таблицы строки, содержащие пустые значения признака target\n",
    "index_target = r10[r10['target'].isnull()==True].index \n",
    "r10.drop(index_target, axis = 0, inplace = True)"
   ]
  },
  {
   "cell_type": "markdown",
   "metadata": {},
   "source": [
    "Выделим возможные значения target из sqft."
   ]
  },
  {
   "cell_type": "code",
   "execution_count": 1169,
   "metadata": {},
   "outputs": [],
   "source": [
    "# функция подбирает наиболее подходящее значение для признака\n",
    "def get_target(s,t):\n",
    "    '''Функция на вход принимает два значения t и s (изначнально значения не принимают значения 0).\n",
    "    \n",
    "    Функция возвращает новое значение t.\n",
    "    '''\n",
    "    if s!=np.nan and s!=0: # если значение s отлично от nan \n",
    "        if t/s<1: # если результат деления меньше 1\n",
    "            t=s # значению t присваиваем значение s\n",
    "        else: # если результат деления больше или равен 1\n",
    "            t=t # значение t сохраняет свое значение             \n",
    "    else: # если значение s равно nan \n",
    "            t=t # значение t сохраняет свое значение   \n",
    "    return t # возвращаем t"
   ]
  },
  {
   "cell_type": "code",
   "execution_count": 1170,
   "metadata": {},
   "outputs": [],
   "source": [
    "#применим написанную функцию к признаку target\n",
    "r10['new_target'] = r10[['sqft','target']].apply(lambda x: get_target(*x), axis = 1)"
   ]
  },
  {
   "cell_type": "code",
   "execution_count": 1171,
   "metadata": {},
   "outputs": [],
   "source": [
    "#применим написанную функцию к признаку target\n",
    "r10['new_target'] = r10[['price_sqft','new_target']].apply(lambda x: get_target(*x), axis = 1)"
   ]
  },
  {
   "cell_type": "code",
   "execution_count": 1172,
   "metadata": {},
   "outputs": [
    {
     "data": {
      "text/plain": [
       "'Число пропусков в признаке target: 0.000 %'"
      ]
     },
     "metadata": {},
     "output_type": "display_data"
    },
    {
     "data": {
      "text/plain": [
       "'Число пропусков в признаке target: 0'"
      ]
     },
     "metadata": {},
     "output_type": "display_data"
    },
    {
     "data": {
      "text/plain": [
       "'Доля строк заполненных каждым уникальным значением признака target: '"
      ]
     },
     "metadata": {},
     "output_type": "display_data"
    },
    {
     "data": {
      "text/plain": [
       "target\n",
       "225000.0     0.004737\n",
       "275000.0     0.004413\n",
       "299900.0     0.004347\n",
       "350000.0     0.004338\n",
       "249900.0     0.004299\n",
       "               ...   \n",
       "185620.0     0.000003\n",
       "195078.0     0.000003\n",
       "4880000.0    0.000003\n",
       "282537.0     0.000003\n",
       "171306.0     0.000003\n",
       "Name: count, Length: 32982, dtype: float64"
      ]
     },
     "metadata": {},
     "output_type": "display_data"
    }
   ],
   "source": [
    "display('Число пропусков в признаке target: {:.3f} %'.format(r10['target'].isnull().mean()*100))\n",
    "display('Число пропусков в признаке target: {:.0f}'.format(r10['target'].isnull().sum()))\n",
    "display('Доля строк заполненных каждым уникальным значением признака target: ',\\\n",
    "    r10['target'].value_counts()/r10.shape[0])"
   ]
  },
  {
   "cell_type": "markdown",
   "metadata": {},
   "source": [
    "Дообработаем признак sqft. Уберем из его значений значения target. Напишем для этого функцию."
   ]
  },
  {
   "cell_type": "code",
   "execution_count": 1173,
   "metadata": {},
   "outputs": [],
   "source": [
    "def get_sqft(s,t):\n",
    "    '''Функция принимает два числовых значения,  сравнивает s с t.\n",
    "       Функция возвращает 0, если одно s равно t, и само значение s, если s не равно t.\n",
    "    '''\n",
    "    if t==s:\n",
    "        s=0\n",
    "    else:\n",
    "        s=s\n",
    "    return s"
   ]
  },
  {
   "cell_type": "code",
   "execution_count": 1174,
   "metadata": {},
   "outputs": [],
   "source": [
    "#применим функцию к признаку sqft\n",
    "r10['sqft']=r10[['sqft','new_target']].apply(lambda x: get_sqft(*x), axis=1)"
   ]
  },
  {
   "cell_type": "code",
   "execution_count": 1175,
   "metadata": {},
   "outputs": [
    {
     "data": {
      "text/plain": [
       "'Число пропусков в признаке sqft: 0.000 %'"
      ]
     },
     "metadata": {},
     "output_type": "display_data"
    },
    {
     "data": {
      "text/plain": [
       "'Число пропусков в признаке sqft: 0'"
      ]
     },
     "metadata": {},
     "output_type": "display_data"
    },
    {
     "data": {
      "text/plain": [
       "'Доля строк заполненных каждым уникальным значением признака sqft: '"
      ]
     },
     "metadata": {},
     "output_type": "display_data"
    },
    {
     "data": {
      "text/plain": [
       "sqft\n",
       "0.0         0.034391\n",
       "1200.0      0.004200\n",
       "1000.0      0.003031\n",
       "1500.0      0.003016\n",
       "1800.0      0.002974\n",
       "              ...   \n",
       "107449.0    0.000003\n",
       "8911.0      0.000003\n",
       "106983.0    0.000003\n",
       "6195.0      0.000003\n",
       "6673.0      0.000003\n",
       "Name: count, Length: 9671, dtype: float64"
      ]
     },
     "metadata": {},
     "output_type": "display_data"
    }
   ],
   "source": [
    "display('Число пропусков в признаке sqft: {:.3f} %'.format(r10['sqft'].isnull().mean()*100))\n",
    "display('Число пропусков в признаке sqft: {:.0f}'.format(r10['sqft'].isnull().sum()))\n",
    "display('Доля строк заполненных каждым уникальным значением признака sqft: ',\\\n",
    "    r10['sqft'].value_counts()/r10.shape[0])"
   ]
  },
  {
   "cell_type": "code",
   "execution_count": 1176,
   "metadata": {},
   "outputs": [],
   "source": [
    "#удалим столбец target\n",
    "r10.drop('target', axis=1, inplace=True)\n",
    "#переименуем new_target\n",
    "r10.rename(columns = {'new_target':'target'}, inplace = True)"
   ]
  },
  {
   "cell_type": "code",
   "execution_count": 1177,
   "metadata": {},
   "outputs": [],
   "source": [
    "#сохраним таблицу для дальнейшей обработки\n",
    "r12=r10.copy()"
   ]
  },
  {
   "cell_type": "markdown",
   "metadata": {},
   "source": [
    "Анализ данных в признаках yearBuilt и remodelerYear показал, что есть объекты, в которых год постройки больше года реконструкции, т.е. данные перепутаны.\n",
    "\n",
    "Создадим признак last_year, каждое значение которого будет соответствовать большему из двух значений года постройки и года реконструкции."
   ]
  },
  {
   "cell_type": "markdown",
   "metadata": {},
   "source": [
    "### Обработка признака yearBuilt"
   ]
  },
  {
   "cell_type": "code",
   "execution_count": 1178,
   "metadata": {},
   "outputs": [
    {
     "data": {
      "text/plain": [
       "'Число пропусков в признаке yearBuilt: 7.256 %'"
      ]
     },
     "metadata": {},
     "output_type": "display_data"
    },
    {
     "data": {
      "text/plain": [
       "'Число пропусков в признаке yearBuilt: 24206'"
      ]
     },
     "metadata": {},
     "output_type": "display_data"
    },
    {
     "data": {
      "text/plain": [
       "'Доля строк заполненных каждым уникальным значением признака yearBuilt: '"
      ]
     },
     "metadata": {},
     "output_type": "display_data"
    },
    {
     "data": {
      "text/plain": [
       "yearBuilt\n",
       "2019    0.096017\n",
       "2006    0.023746\n",
       "2005    0.022238\n",
       "2007    0.021099\n",
       "2018    0.020370\n",
       "          ...   \n",
       "1811    0.000003\n",
       "1845    0.000003\n",
       "1823    0.000003\n",
       "1208    0.000003\n",
       "1804    0.000003\n",
       "Name: count, Length: 226, dtype: float64"
      ]
     },
     "metadata": {},
     "output_type": "display_data"
    }
   ],
   "source": [
    "display('Число пропусков в признаке yearBuilt: {:.3f} %'.format(r12['yearBuilt'].isnull().mean()*100))\n",
    "display('Число пропусков в признаке yearBuilt: {:.0f}'.format(r12['yearBuilt'].isnull().sum()))\n",
    "display('Доля строк заполненных каждым уникальным значением признака yearBuilt: ',\\\n",
    "    r12['yearBuilt'].value_counts()/r12.shape[0])"
   ]
  },
  {
   "cell_type": "code",
   "execution_count": 1179,
   "metadata": {},
   "outputs": [],
   "source": [
    "#заполним поля со значением 'No Data' значением nan\n",
    "r12['yearBuilt']=r12['yearBuilt'].replace('No Data', 0)\n",
    "r12['yearBuilt']=r12['yearBuilt'].replace(np.nan, 0)"
   ]
  },
  {
   "cell_type": "code",
   "execution_count": 1180,
   "metadata": {},
   "outputs": [],
   "source": [
    "#преобразуем значения признака в числовые\n",
    "r12['yearBuilt']=r12['yearBuilt'].apply(lambda x: int(x))"
   ]
  },
  {
   "cell_type": "markdown",
   "metadata": {},
   "source": [
    "### Обработка признака remodeledYear"
   ]
  },
  {
   "cell_type": "code",
   "execution_count": 1181,
   "metadata": {},
   "outputs": [
    {
     "data": {
      "text/plain": [
       "'Число пропусков в признаке remodeledYear: 55.535 %'"
      ]
     },
     "metadata": {},
     "output_type": "display_data"
    },
    {
     "data": {
      "text/plain": [
       "'Число пропусков в признаке remodeledYear: 185252'"
      ]
     },
     "metadata": {},
     "output_type": "display_data"
    },
    {
     "data": {
      "text/plain": [
       "'Доля строк заполненных каждым уникальным значением признака remodeledYear: '"
      ]
     },
     "metadata": {},
     "output_type": "display_data"
    },
    {
     "data": {
      "text/plain": [
       "remodeledYear\n",
       "2006.0    0.016413\n",
       "2005.0    0.014204\n",
       "2007.0    0.012965\n",
       "2008.0    0.011209\n",
       "2004.0    0.009944\n",
       "            ...   \n",
       "1853.0    0.000003\n",
       "1888.0    0.000003\n",
       "1800.0    0.000003\n",
       "1738.0    0.000003\n",
       "1862.0    0.000003\n",
       "Name: count, Length: 149, dtype: float64"
      ]
     },
     "metadata": {},
     "output_type": "display_data"
    }
   ],
   "source": [
    "display('Число пропусков в признаке remodeledYear: {:.3f} %'.format(r12['remodeledYear'].isnull().mean()*100))\n",
    "display('Число пропусков в признаке remodeledYear: {:.0f}'.format(r12['remodeledYear'].isnull().sum()))\n",
    "display('Доля строк заполненных каждым уникальным значением признака remodeledYear: ',\\\n",
    "    r12['remodeledYear'].value_counts()/r12.shape[0])"
   ]
  },
  {
   "cell_type": "markdown",
   "metadata": {},
   "source": [
    "Признак содержит много пропусков, используем его для построения признака last_year, а затем удалим."
   ]
  },
  {
   "cell_type": "code",
   "execution_count": 1182,
   "metadata": {},
   "outputs": [],
   "source": [
    "#заполним поля со значением \n",
    "r12['remodeledYear']=r12['remodeledYear'].replace(np.nan,0)"
   ]
  },
  {
   "cell_type": "markdown",
   "metadata": {},
   "source": [
    "### Совместная обработка признаков yearBuilt и remodeledYear"
   ]
  },
  {
   "cell_type": "code",
   "execution_count": 1183,
   "metadata": {},
   "outputs": [],
   "source": [
    "# напишем функцию, которая будет отбирать в признак last_year, бОльшие из значений признаков\n",
    "# yearBuilt и remodeledYear\n",
    "def get_last_year(b,m):\n",
    "    '''Функция на вход получает значения из двух ячеек сравнивает их.\n",
    "    \n",
    "    Функция возвращает значение одной из ячеек, в которой оно большее.\n",
    "    '''\n",
    "    if b>m:# если значение b больше значения m\n",
    "        result=int(b) # результат будет равен b\n",
    "    else:# иначе если b меньше или равно m\n",
    "        result=int(m) # результат будет равен m\n",
    "    return result # возвращаем result"
   ]
  },
  {
   "cell_type": "code",
   "execution_count": 1184,
   "metadata": {},
   "outputs": [],
   "source": [
    "# создадим признак 'last_year', применив функцию get_last_year \n",
    "r12['last_year'] = r12[['yearBuilt','remodeledYear']].apply(lambda x: get_last_year(*x), axis = 1)"
   ]
  },
  {
   "cell_type": "code",
   "execution_count": 1185,
   "metadata": {},
   "outputs": [],
   "source": [
    "#заполним пропуски в признаке last_year 0\n",
    "r12['last_year'] = r12['last_year'].replace(np.nan,0)"
   ]
  },
  {
   "cell_type": "code",
   "execution_count": 1186,
   "metadata": {},
   "outputs": [],
   "source": [
    "#приведем значения last_year к типу int\n",
    "r12['last_year']=r12['last_year'].apply(lambda x: int(x))"
   ]
  },
  {
   "cell_type": "code",
   "execution_count": 1187,
   "metadata": {},
   "outputs": [
    {
     "data": {
      "text/plain": [
       "last_year\n",
       "0               25055\n",
       "1019                1\n",
       "1057                1\n",
       "1208                1\n",
       "1700                1\n",
       "                ...  \n",
       "2020             2482\n",
       "2021               68\n",
       "2022                8\n",
       "2025                2\n",
       "559990649990        2\n",
       "Name: count, Length: 222, dtype: int64"
      ]
     },
     "execution_count": 1187,
     "metadata": {},
     "output_type": "execute_result"
    }
   ],
   "source": [
    "#посмотрим на значения признака\n",
    "r12['last_year'].value_counts().sort_index()"
   ]
  },
  {
   "cell_type": "markdown",
   "metadata": {},
   "source": [
    "На выбросы похожи значения равные 1019, 1057, 2025 и какое-то очень большое число. Удалим их."
   ]
  },
  {
   "cell_type": "code",
   "execution_count": 1188,
   "metadata": {},
   "outputs": [
    {
     "data": {
      "text/plain": [
       "'Число удаленных выбросов признака last_year: 6'"
      ]
     },
     "metadata": {},
     "output_type": "display_data"
    }
   ],
   "source": [
    "#удалим объекты с last_year равным 1019, 1057 и 2025\n",
    "#отберем наблюдения\n",
    "year_out = r12[(r12['last_year']==1019)|(r12['last_year']==1057)|(r12['last_year']==2025)\\\n",
    "    |(r12['last_year']==559990649990)].index\n",
    "\n",
    "display('Число удаленных выбросов признака last_year: {}'.format(len(year_out)))\n",
    "r12.drop(year_out, axis=0, inplace=True)"
   ]
  },
  {
   "cell_type": "code",
   "execution_count": 1189,
   "metadata": {},
   "outputs": [
    {
     "data": {
      "text/plain": [
       "'Число пропусков в признаке last_year: 0.000 %'"
      ]
     },
     "metadata": {},
     "output_type": "display_data"
    },
    {
     "data": {
      "text/plain": [
       "'Число пропусков в признаке last_year: 0'"
      ]
     },
     "metadata": {},
     "output_type": "display_data"
    },
    {
     "data": {
      "text/plain": [
       "'Доля строк заполненных каждым уникальным значением признака last_year: '"
      ]
     },
     "metadata": {},
     "output_type": "display_data"
    },
    {
     "data": {
      "text/plain": [
       "last_year\n",
       "2019    0.099517\n",
       "0       0.075111\n",
       "2006    0.027140\n",
       "2005    0.024016\n",
       "2018    0.022826\n",
       "          ...   \n",
       "1823    0.000003\n",
       "1700    0.000003\n",
       "1794    0.000003\n",
       "1807    0.000003\n",
       "1804    0.000003\n",
       "Name: count, Length: 218, dtype: float64"
      ]
     },
     "metadata": {},
     "output_type": "display_data"
    }
   ],
   "source": [
    "display('Число пропусков в признаке last_year: {:.3f} %'.format(r12['last_year'].isnull().mean()*100))\n",
    "display('Число пропусков в признаке last_year: {:.0f}'.format(r12['last_year'].isnull().sum()))\n",
    "display('Доля строк заполненных каждым уникальным значением признака last_year: ',\\\n",
    "    r12['last_year'].value_counts()/r12.shape[0])"
   ]
  },
  {
   "cell_type": "code",
   "execution_count": 1190,
   "metadata": {},
   "outputs": [],
   "source": [
    "#удалим из таблицы признаки yearBuilt и remodeledYear\n",
    "r12.drop(['yearBuilt','remodeledYear'], axis=1, inplace = True)"
   ]
  },
  {
   "cell_type": "code",
   "execution_count": 1191,
   "metadata": {},
   "outputs": [],
   "source": [
    "#сохраним таблицу для  дальнейшей обработки\n",
    "r13=r12.copy()"
   ]
  },
  {
   "cell_type": "markdown",
   "metadata": {},
   "source": [
    "### Обработка признака zipcode"
   ]
  },
  {
   "cell_type": "code",
   "execution_count": 1192,
   "metadata": {},
   "outputs": [
    {
     "data": {
      "text/plain": [
       "'Число пропусков в признаке zipcode: 0.000 %'"
      ]
     },
     "metadata": {},
     "output_type": "display_data"
    },
    {
     "data": {
      "text/plain": [
       "'Число уникальных значений в признаке zipcode: 4432'"
      ]
     },
     "metadata": {},
     "output_type": "display_data"
    },
    {
     "data": {
      "text/plain": [
       "'Доля строк заполненных каждым уникальным значением признака zipcode: '"
      ]
     },
     "metadata": {},
     "output_type": "display_data"
    },
    {
     "data": {
      "text/plain": [
       "zipcode\n",
       "33131         0.004638\n",
       "34747         0.004251\n",
       "78245         0.004134\n",
       "33132         0.003957\n",
       "33137         0.003813\n",
       "                ...   \n",
       "14616         0.000003\n",
       "27614-8755    0.000003\n",
       "15214         0.000003\n",
       "75662         0.000003\n",
       "44704         0.000003\n",
       "Name: count, Length: 4432, dtype: float64"
      ]
     },
     "metadata": {},
     "output_type": "display_data"
    }
   ],
   "source": [
    "display('Число пропусков в признаке zipcode: {:.3f} %'.format(r13['zipcode'].isnull().mean()*100))\n",
    "display('Число уникальных значений в признаке zipcode: {:.0f}'.format(r13['zipcode'].nunique()))\n",
    "display('Доля строк заполненных каждым уникальным значением признака zipcode: ',\\\n",
    "    r13['zipcode'].value_counts()/r13.shape[0])"
   ]
  },
  {
   "cell_type": "code",
   "execution_count": 1193,
   "metadata": {},
   "outputs": [],
   "source": [
    "#заменим единственное отсутствующее значение на соответствующий zipcode\n",
    "r13['zipcode']=r13['zipcode'].replace('--','33305')"
   ]
  },
  {
   "cell_type": "code",
   "execution_count": 1194,
   "metadata": {},
   "outputs": [
    {
     "data": {
      "text/plain": [
       "'Число пропусков в признаке zipcode: 0.000'"
      ]
     },
     "metadata": {},
     "output_type": "display_data"
    }
   ],
   "source": [
    "display('Число пропусков в признаке zipcode: {:.3f}'.format(r13['zipcode'].isnull().sum()))"
   ]
  },
  {
   "cell_type": "code",
   "execution_count": 1195,
   "metadata": {},
   "outputs": [],
   "source": [
    "#чтобы уменьшить число уникальных значений приведем zipcode к пятизначному виду\n",
    "r13['zipcode']=r3['zipcode'].apply(lambda x: re.sub('-.+','',x))"
   ]
  },
  {
   "cell_type": "code",
   "execution_count": 1196,
   "metadata": {},
   "outputs": [
    {
     "data": {
      "text/plain": [
       "'Число пропусков в признаке zipcode: 0.000 %'"
      ]
     },
     "metadata": {},
     "output_type": "display_data"
    },
    {
     "data": {
      "text/plain": [
       "'Число уникальных значений в признаке zipcode: 4213'"
      ]
     },
     "metadata": {},
     "output_type": "display_data"
    },
    {
     "data": {
      "text/plain": [
       "'Доля строк заполненных каждым уникальным значением признака zipcode: '"
      ]
     },
     "metadata": {},
     "output_type": "display_data"
    },
    {
     "data": {
      "text/plain": [
       "zipcode\n",
       "33131    0.004638\n",
       "34747    0.004251\n",
       "78245    0.004134\n",
       "33132    0.003957\n",
       "33137    0.003813\n",
       "           ...   \n",
       "14887    0.000003\n",
       "78112    0.000003\n",
       "20695    0.000003\n",
       "84518    0.000003\n",
       "44704    0.000003\n",
       "Name: count, Length: 4213, dtype: float64"
      ]
     },
     "metadata": {},
     "output_type": "display_data"
    }
   ],
   "source": [
    "display('Число пропусков в признаке zipcode: {:.3f} %'.format(r13['zipcode'].isnull().mean()*100))\n",
    "display('Число уникальных значений в признаке zipcode: {:.0f}'.format(r13['zipcode'].nunique()))\n",
    "display('Доля строк заполненных каждым уникальным значением признака zipcode: ',\\\n",
    "    r13['zipcode'].value_counts()/r13.shape[0])"
   ]
  },
  {
   "cell_type": "code",
   "execution_count": 1197,
   "metadata": {},
   "outputs": [],
   "source": [
    "#сохраним таблицу для  дальнейшей обработки\n",
    "r14=r13.copy()"
   ]
  },
  {
   "cell_type": "markdown",
   "metadata": {},
   "source": [
    "### Обработка признака city"
   ]
  },
  {
   "cell_type": "code",
   "execution_count": 1198,
   "metadata": {},
   "outputs": [
    {
     "data": {
      "text/plain": [
       "'Число пропусков в признаке city: 0.003 %'"
      ]
     },
     "metadata": {},
     "output_type": "display_data"
    },
    {
     "data": {
      "text/plain": [
       "'Число пропусков в признаке city: 9'"
      ]
     },
     "metadata": {},
     "output_type": "display_data"
    },
    {
     "data": {
      "text/plain": [
       "'Доля строк заполненных каждым уникальным значением признака city: '"
      ]
     },
     "metadata": {},
     "output_type": "display_data"
    },
    {
     "data": {
      "text/plain": [
       "city\n",
       "Houston         0.066172\n",
       "Miami           0.044368\n",
       "San Antonio     0.043250\n",
       "Jacksonville    0.027559\n",
       "Dallas          0.023764\n",
       "                  ...   \n",
       "Milpitas        0.000003\n",
       "Jacinto City    0.000003\n",
       "Garrett         0.000003\n",
       "Piedmont        0.000003\n",
       "Blue Springs    0.000003\n",
       "Name: count, Length: 1894, dtype: float64"
      ]
     },
     "metadata": {},
     "output_type": "display_data"
    }
   ],
   "source": [
    "display('Число пропусков в признаке city: {:.3f} %'.format(r14['city'].isnull().mean()*100))\n",
    "display('Число пропусков в признаке city: {:.0f}'.format(r14['city'].isnull().sum()))\n",
    "display('Доля строк заполненных каждым уникальным значением признака city: ',\\\n",
    "    r14['city'].value_counts()/r14.shape[0])"
   ]
  },
  {
   "cell_type": "markdown",
   "metadata": {},
   "source": [
    "Попробуем сократить число уникальных значений в признаке."
   ]
  },
  {
   "cell_type": "code",
   "execution_count": 1199,
   "metadata": {},
   "outputs": [],
   "source": [
    "# приведем названия городов к нижнему регистру\n",
    "r14['city'] = r14['city'].str.lower()"
   ]
  },
  {
   "cell_type": "code",
   "execution_count": 1200,
   "metadata": {},
   "outputs": [],
   "source": [
    "#уберем в названиях городов точки и заменим в данных символ '--' на пустую строку\n",
    "r14['city'] = r14['city'].str.replace('.','')\n",
    "r14['city'] = r14['city'].str.replace('--','')\n",
    "\n",
    "#составим словарь схожих значений\n",
    "dict_city = {'federal heights':['federalheights'],'forest hills':['forest hill'],\n",
    "             'hideaway hills':['hide a way hills'], 'mcallen':['mc allen'],'mcgregor':['mc gregor'],\n",
    "             'mckinney':['mc kinney'],'milwaukee':['milwaukie'], 'north miami':['n miami beach'],\n",
    "             'new york city':['nyc york','nyc'],'brooklin':['e. new york'],'opa locka':['opa-locka'],\n",
    "             'other':['other city - in the state of florida','other city not in the state of florida',\n",
    "                      'other city value - out of area'],\n",
    "             'richardson':['richards'],'saint albans':['saint albans town','sa'],'saint louis': ['saint lucie'],\n",
    "             'salt lake city':['slc'],'valley view': ['valleyview'],'silver spring':['silver springs'],\n",
    "             'youngstown':['youngtown'],'atlanta':['atlaanta'],'bee cave':['bee caves'],'belevue':['belleview'],\n",
    "             'bellingham':['belllingham'],'commerce city':['commercecity'],'dalton':['delton'],'dows':['downs'],\n",
    "             'johnson city':['johnson', 'johns']}"
   ]
  },
  {
   "cell_type": "code",
   "execution_count": 1201,
   "metadata": {},
   "outputs": [],
   "source": [
    "#функция для замены на верное написание городов\n",
    "def get_right_name(x):\n",
    "    '''Функция на вход получает строку с названием города.\n",
    "    \n",
    "    Функция возвращает верно написанное название города.\n",
    "    '''\n",
    "    if x is np.nan: #если строка пустая\n",
    "        return np.nan # то возвращает значение nan\n",
    "    else:#если строка содержит значение\n",
    "        for i in dict_city.keys(): #в цикле проходим по ключам словаря с верным названиями\n",
    "            # если полученное на вход название содержится в списке словаря с соответствующим ключом\n",
    "            if x in dict_city.get(i):\n",
    "                x=i #то присваиваем значение i\n",
    "            else:# иначе\n",
    "                x=x #сохраняем исходное значение\n",
    "        return x"
   ]
  },
  {
   "cell_type": "code",
   "execution_count": 1202,
   "metadata": {},
   "outputs": [],
   "source": [
    "#применим функцию get_right_name\n",
    "r14['city']=r14['city'].apply(lambda x: get_right_name(x))"
   ]
  },
  {
   "cell_type": "markdown",
   "metadata": {},
   "source": [
    "Многие названия содержат аббревиатуры. Заменим их."
   ]
  },
  {
   "cell_type": "code",
   "execution_count": 1203,
   "metadata": {},
   "outputs": [],
   "source": [
    "#зададим список аббревиатур\n",
    "dict_abrev = {'hts':'heights','twp': 'township','spgs': 'springs','est': 'estates',\n",
    "             'st':'saint','co':'country', 'pt': 'point'}"
   ]
  },
  {
   "cell_type": "code",
   "execution_count": 1204,
   "metadata": {},
   "outputs": [],
   "source": [
    "#напищем функцию на замену аббревиатур\n",
    "def change_abrev(x):\n",
    "    '''Функция на вход получает строку находит в ней сокращение.\n",
    "    \n",
    "    Функция возвращает строку без сокращения.   \n",
    "    '''\n",
    "    if x is np.nan: #если строка пустая\n",
    "        return np.nan # возвращаем nan\n",
    "    else:# иначе\n",
    "        x = x.split(' ') #делим строку на список строк\n",
    "        if x[-1] in dict_abrev.keys(): #если последний элемент строки есть среди ключей словаря\n",
    "            x[-1] = dict_abrev.get(x[-1]) #то ему присваивается соответствующее ключу значение\n",
    "        else: #иначе\n",
    "            x[-1]=x[-1] #элемент строки сохраняет свое прежнее значение\n",
    "        return ' '.join(x) # соединяем строку обратно"
   ]
  },
  {
   "cell_type": "code",
   "execution_count": 1205,
   "metadata": {},
   "outputs": [],
   "source": [
    "#применим функцию change_abrev к \n",
    "r14['city'] = r14['city'].apply(lambda x: change_abrev(x))\n",
    "#удалим из названия города приставку city\n",
    "r14['city'] = r14['city'].str.replace(' city','')"
   ]
  },
  {
   "cell_type": "markdown",
   "metadata": {},
   "source": [
    "Заполним пропуски по zipcode."
   ]
  },
  {
   "cell_type": "code",
   "execution_count": 1206,
   "metadata": {},
   "outputs": [],
   "source": [
    "# Создадим датафрейм для подбора подходящего названия города по индексу\n",
    "zip_city = r14.groupby(['zipcode', 'city'])['city'].value_counts()\n",
    "#определим строки, в которых у нас отсутствует значение, строка заполнена пробелом или содержит 'other'\n",
    "city_null_ind = r14[(r14['city'].isnull()==True)|(r14['city']=='')|(r14['city']=='other')].index\n",
    "# Заменим на наиболее подходящее название города\n",
    "r14.loc[city_null_ind, 'city'] = r14.loc[city_null_ind, ['zipcode']]\\\n",
    ".applymap(lambda x: zip_city[x].sort_values(ascending=False).index[0]).squeeze()"
   ]
  },
  {
   "cell_type": "code",
   "execution_count": 1207,
   "metadata": {},
   "outputs": [
    {
     "data": {
      "text/plain": [
       "'Число пропусков в признаке city: 0.000 %'"
      ]
     },
     "metadata": {},
     "output_type": "display_data"
    },
    {
     "data": {
      "text/plain": [
       "'Число пропусков в признаке city: 0'"
      ]
     },
     "metadata": {},
     "output_type": "display_data"
    },
    {
     "data": {
      "text/plain": [
       "'Доля строк заполненных каждым уникальным значением признака city: '"
      ]
     },
     "metadata": {},
     "output_type": "display_data"
    },
    {
     "data": {
      "text/plain": [
       "city\n",
       "houston         0.066178\n",
       "miami           0.044380\n",
       "san antonio     0.043298\n",
       "jacksonville    0.027616\n",
       "dallas          0.023770\n",
       "                  ...   \n",
       "suwannee        0.000003\n",
       "garrett         0.000003\n",
       "kagel canyon    0.000003\n",
       "new albany      0.000003\n",
       "blue springs    0.000003\n",
       "Name: count, Length: 1726, dtype: float64"
      ]
     },
     "metadata": {},
     "output_type": "display_data"
    }
   ],
   "source": [
    "display('Число пропусков в признаке city: {:.3f} %'.format(r14['city'].isnull().mean()*100))\n",
    "display('Число пропусков в признаке city: {:.0f}'.format(r14['city'].isnull().sum()))\n",
    "display('Доля строк заполненных каждым уникальным значением признака city: ',\\\n",
    "    r14['city'].value_counts()/r14.shape[0])"
   ]
  },
  {
   "cell_type": "markdown",
   "metadata": {},
   "source": [
    "### Обработка признака state"
   ]
  },
  {
   "cell_type": "markdown",
   "metadata": {},
   "source": [
    "Проверим число пропусков и уникальных значений в признаке."
   ]
  },
  {
   "cell_type": "code",
   "execution_count": 1208,
   "metadata": {},
   "outputs": [
    {
     "data": {
      "text/plain": [
       "'Число пропусков в признаке state:0'"
      ]
     },
     "metadata": {},
     "output_type": "display_data"
    },
    {
     "data": {
      "text/plain": [
       "'Число уникальных значений в признаке state:37'"
      ]
     },
     "metadata": {},
     "output_type": "display_data"
    }
   ],
   "source": [
    "display('Число пропусков в признаке state:{0}'.format(r14['state'].isnull().sum()))\n",
    "display('Число уникальных значений в признаке state:{0}'.format(r14['state'].nunique()))"
   ]
  },
  {
   "cell_type": "markdown",
   "metadata": {},
   "source": [
    "Проверим все ли обозначения написаны верно."
   ]
  },
  {
   "cell_type": "code",
   "execution_count": 1209,
   "metadata": {},
   "outputs": [
    {
     "data": {
      "text/plain": [
       "'Число некорректно указанных штатов равно: 3'"
      ]
     },
     "metadata": {},
     "output_type": "display_data"
    }
   ],
   "source": [
    "#зададим список верных абревиатур\n",
    "state_USA = ['AL','AK','AZ','AR','CA','CO','CT','DE','FL','GA',\n",
    "             'HI','ID','IL','IN','IA','KS','KY','LA','ME','MD',\n",
    "             'MA','MI','MN','MS','MO','MT','NE','NV','NH','NJ',\n",
    "             'NM','NY','NC','ND','OH','OK','OR','PA','RI','SC',\n",
    "             'SD','TN','TX','UT','VT','VA','WA','WV','WI','WY',\n",
    "             'DC']\n",
    "\n",
    "#создадим дополнительный столбец в таблице, в котором установим мигалки:\n",
    "#0-штат указан неверно, 1-штат указан корректно\n",
    "r14['check_state'] = r14['state'].apply(lambda x: 0 if x in state_USA else 1)\n",
    "#выведем результат\n",
    "display('Число некорректно указанных штатов равно: {0}'.format(r14['check_state'].sum()))"
   ]
  },
  {
   "cell_type": "code",
   "execution_count": 1210,
   "metadata": {},
   "outputs": [
    {
     "data": {
      "text/html": [
       "<div>\n",
       "<style scoped>\n",
       "    .dataframe tbody tr th:only-of-type {\n",
       "        vertical-align: middle;\n",
       "    }\n",
       "\n",
       "    .dataframe tbody tr th {\n",
       "        vertical-align: top;\n",
       "    }\n",
       "\n",
       "    .dataframe thead th {\n",
       "        text-align: right;\n",
       "    }\n",
       "</style>\n",
       "<table border=\"1\" class=\"dataframe\">\n",
       "  <thead>\n",
       "    <tr style=\"text-align: right;\">\n",
       "      <th></th>\n",
       "      <th>state</th>\n",
       "      <th>city</th>\n",
       "      <th>zipcode</th>\n",
       "      <th>baths</th>\n",
       "      <th>beds</th>\n",
       "      <th>type</th>\n",
       "      <th>target</th>\n",
       "    </tr>\n",
       "  </thead>\n",
       "  <tbody>\n",
       "    <tr>\n",
       "      <th>113694</th>\n",
       "      <td>Fl</td>\n",
       "      <td>tamarac</td>\n",
       "      <td>33321</td>\n",
       "      <td>0.0</td>\n",
       "      <td>0.0</td>\n",
       "      <td>single_1</td>\n",
       "      <td>174000.0</td>\n",
       "    </tr>\n",
       "    <tr>\n",
       "      <th>172273</th>\n",
       "      <td>BA</td>\n",
       "      <td></td>\n",
       "      <td>33179</td>\n",
       "      <td>0.0</td>\n",
       "      <td>0.0</td>\n",
       "      <td>single_1</td>\n",
       "      <td>225000.0</td>\n",
       "    </tr>\n",
       "    <tr>\n",
       "      <th>308229</th>\n",
       "      <td>OS</td>\n",
       "      <td>foreign country</td>\n",
       "      <td>00000</td>\n",
       "      <td>0.0</td>\n",
       "      <td>0.0</td>\n",
       "      <td>single_1</td>\n",
       "      <td>125000.0</td>\n",
       "    </tr>\n",
       "  </tbody>\n",
       "</table>\n",
       "</div>"
      ],
      "text/plain": [
       "       state             city zipcode  baths  beds      type    target\n",
       "113694    Fl          tamarac   33321    0.0   0.0  single_1  174000.0\n",
       "172273    BA                    33179    0.0   0.0  single_1  225000.0\n",
       "308229    OS  foreign country   00000    0.0   0.0  single_1  125000.0"
      ]
     },
     "execution_count": 1210,
     "metadata": {},
     "output_type": "execute_result"
    }
   ],
   "source": [
    "#используя мигалку check state проверим, какие значения заполнены некорректно\n",
    "r14[r14['check_state']==1][['state','city','zipcode','baths','beds','type','target']]"
   ]
  },
  {
   "cell_type": "markdown",
   "metadata": {},
   "source": [
    "Строка со значением OS подлежит удалению. Так как данные об объекте либо заполнены некорректно либо отсутствуют.\n",
    "Не смотря на наличие zipcode для объекта со штатом BA, подлежит удалению, так как наблюдение содержит много незаполненных данных."
   ]
  },
  {
   "cell_type": "code",
   "execution_count": 1211,
   "metadata": {},
   "outputs": [],
   "source": [
    "#заменим неверно написанный штат\n",
    "r14['state']=r14['state'].replace('Fl','FL')"
   ]
  },
  {
   "cell_type": "code",
   "execution_count": 1212,
   "metadata": {},
   "outputs": [],
   "source": [
    "#выделим подлежащие удалению объекты \n",
    "state_ind = r14[r14['check_state']==1].index\n",
    "#удалим объекты и вспомогательный столбец\n",
    "r14.drop(state_ind, axis=0, inplace=True)\n",
    "r14.drop('check_state', axis=1, inplace = True)"
   ]
  },
  {
   "cell_type": "code",
   "execution_count": 1213,
   "metadata": {},
   "outputs": [
    {
     "data": {
      "text/plain": [
       "'Число пропусков в признаке state: 0.000 %'"
      ]
     },
     "metadata": {},
     "output_type": "display_data"
    },
    {
     "data": {
      "text/plain": [
       "'Доля строк заполненных каждым уникальным значением признака state: '"
      ]
     },
     "metadata": {},
     "output_type": "display_data"
    },
    {
     "data": {
      "text/plain": [
       "state\n",
       "FL    0.303928\n",
       "TX    0.225390\n",
       "CA    0.066556\n",
       "NC    0.057424\n",
       "NY    0.055839\n",
       "TN    0.043727\n",
       "WA    0.037869\n",
       "OH    0.033993\n",
       "IL    0.024715\n",
       "NV    0.023060\n",
       "CO    0.018305\n",
       "GA    0.018041\n",
       "PA    0.015316\n",
       "MI    0.014231\n",
       "DC    0.013410\n",
       "AZ    0.009560\n",
       "IN    0.008976\n",
       "OR    0.007833\n",
       "MA    0.004431\n",
       "UT    0.003669\n",
       "MD    0.003223\n",
       "MO    0.002494\n",
       "VA    0.002072\n",
       "VT    0.001949\n",
       "WI    0.001274\n",
       "NJ    0.001187\n",
       "IA    0.000633\n",
       "ME    0.000393\n",
       "KY    0.000228\n",
       "OK    0.000090\n",
       "SC    0.000084\n",
       "MS    0.000078\n",
       "DE    0.000015\n",
       "MT    0.000009\n",
       "Name: count, dtype: float64"
      ]
     },
     "metadata": {},
     "output_type": "display_data"
    }
   ],
   "source": [
    "display('Число пропусков в признаке state: {:.3f} %'.format(r14['state'].isnull().mean()*100))\n",
    "display('Доля строк заполненных каждым уникальным значением признака state: ',\\\n",
    "    r14['state'].value_counts()/r14.shape[0])"
   ]
  },
  {
   "cell_type": "markdown",
   "metadata": {},
   "source": [
    "### Обработка признака heating"
   ]
  },
  {
   "cell_type": "code",
   "execution_count": 1214,
   "metadata": {},
   "outputs": [
    {
     "data": {
      "text/plain": [
       "'Число пропусков в признаке heating: 21.767 %'"
      ]
     },
     "metadata": {},
     "output_type": "display_data"
    },
    {
     "data": {
      "text/plain": [
       "'Число уникальных значений в признаке heating: 1963'"
      ]
     },
     "metadata": {},
     "output_type": "display_data"
    },
    {
     "data": {
      "text/plain": [
       "'Доля строк заполненных каждым уникальным значением признака heating: '"
      ]
     },
     "metadata": {},
     "output_type": "display_data"
    },
    {
     "data": {
      "text/plain": [
       "heating\n",
       "Forced Air                                                      0.246486\n",
       "Forced air                                                      0.153216\n",
       "Other                                                           0.086240\n",
       "No Data                                                         0.025227\n",
       "Central Air                                                     0.023425\n",
       "                                                                  ...   \n",
       "Central, Exhaust Fans, Natural Gas, Zoned                       0.000003\n",
       "BR Closet-Electric - new                                        0.000003\n",
       "Wood Stove                                                      0.000003\n",
       "Electric, Oil, Propane                                          0.000003\n",
       "Baseboard, Hot Water, Programmable Thermostat, Radiant Floor    0.000003\n",
       "Name: count, Length: 1963, dtype: float64"
      ]
     },
     "metadata": {},
     "output_type": "display_data"
    }
   ],
   "source": [
    "display('Число пропусков в признаке heating: {:.3f} %'.format(r14['heating'].isnull().mean()*100))\n",
    "display('Число уникальных значений в признаке heating: {:.0f}'.format(r14['heating'].nunique()))\n",
    "display('Доля строк заполненных каждым уникальным значением признака heating: ',\\\n",
    "    r14['heating'].value_counts()/r14.shape[0])"
   ]
  },
  {
   "cell_type": "code",
   "execution_count": 1215,
   "metadata": {},
   "outputs": [],
   "source": [
    "#приведем значения признака heating к нижнему регистру\n",
    "r14['heating']=r14['heating'].str.lower()\n",
    "#заменим no data на значение nan\n",
    "r14['heating']=r14['heating'].replace('no data', np.nan)"
   ]
  },
  {
   "cell_type": "code",
   "execution_count": 1216,
   "metadata": {},
   "outputs": [
    {
     "data": {
      "text/plain": [
       "'Число пропусков в признаке heating: 21.769 %'"
      ]
     },
     "metadata": {},
     "output_type": "display_data"
    }
   ],
   "source": [
    "display('Число пропусков в признаке heating: {:.3f} %'.format(r10['heating'].isnull().mean()*100))"
   ]
  },
  {
   "cell_type": "markdown",
   "metadata": {},
   "source": [
    "Посмотрим, как распределены пропуски по штатам."
   ]
  },
  {
   "cell_type": "code",
   "execution_count": 1217,
   "metadata": {},
   "outputs": [],
   "source": [
    "#выберем в таблицу объекты, в которых отсутствует какая либо информация об отоплении\n",
    "heat_null=r14[(r14['heating'].isnull()==False)]\n",
    "#сгруппируем данные по штатам\n",
    "heat = heat_null.groupby(['state'], as_index=False)['state'].value_counts()"
   ]
  },
  {
   "cell_type": "code",
   "execution_count": 1218,
   "metadata": {},
   "outputs": [
    {
     "data": {
      "application/vnd.plotly.v1+json": {
       "config": {
        "plotlyServerURL": "https://plot.ly"
       },
       "data": [
        {
         "coloraxis": "coloraxis",
         "geo": "geo",
         "hovertemplate": "state=%{location}<br>count=%{z}<extra></extra>",
         "locationmode": "USA-states",
         "locations": [
          "AZ",
          "CA",
          "CO",
          "DC",
          "DE",
          "FL",
          "GA",
          "IA",
          "IL",
          "IN",
          "KY",
          "MA",
          "MD",
          "ME",
          "MI",
          "MO",
          "MS",
          "NC",
          "NJ",
          "NV",
          "NY",
          "OH",
          "OK",
          "OR",
          "PA",
          "SC",
          "TN",
          "TX",
          "UT",
          "VA",
          "VT",
          "WA",
          "WI"
         ],
         "name": "",
         "type": "choropleth",
         "z": [
          2666,
          17009,
          5330,
          3326,
          4,
          82026,
          4830,
          97,
          6853,
          2462,
          64,
          1402,
          859,
          128,
          4531,
          824,
          25,
          11753,
          166,
          7091,
          7434,
          10612,
          28,
          2401,
          4075,
          11,
          13272,
          54559,
          853,
          517,
          636,
          6702,
          1
         ]
        }
       ],
       "layout": {
        "coloraxis": {
         "cmax": 10000,
         "cmin": 0,
         "colorbar": {
          "title": {
           "text": "count"
          }
         },
         "colorscale": [
          [
           0,
           "rgb(255,245,240)"
          ],
          [
           0.125,
           "rgb(254,224,210)"
          ],
          [
           0.25,
           "rgb(252,187,161)"
          ],
          [
           0.375,
           "rgb(252,146,114)"
          ],
          [
           0.5,
           "rgb(251,106,74)"
          ],
          [
           0.625,
           "rgb(239,59,44)"
          ],
          [
           0.75,
           "rgb(203,24,29)"
          ],
          [
           0.875,
           "rgb(165,15,21)"
          ],
          [
           1,
           "rgb(103,0,13)"
          ]
         ]
        },
        "geo": {
         "center": {},
         "domain": {
          "x": [
           0,
           1
          ],
          "y": [
           0,
           1
          ]
         },
         "scope": "usa"
        },
        "legend": {
         "tracegroupgap": 0
        },
        "template": {
         "data": {
          "bar": [
           {
            "error_x": {
             "color": "#2a3f5f"
            },
            "error_y": {
             "color": "#2a3f5f"
            },
            "marker": {
             "line": {
              "color": "#E5ECF6",
              "width": 0.5
             },
             "pattern": {
              "fillmode": "overlay",
              "size": 10,
              "solidity": 0.2
             }
            },
            "type": "bar"
           }
          ],
          "barpolar": [
           {
            "marker": {
             "line": {
              "color": "#E5ECF6",
              "width": 0.5
             },
             "pattern": {
              "fillmode": "overlay",
              "size": 10,
              "solidity": 0.2
             }
            },
            "type": "barpolar"
           }
          ],
          "carpet": [
           {
            "aaxis": {
             "endlinecolor": "#2a3f5f",
             "gridcolor": "white",
             "linecolor": "white",
             "minorgridcolor": "white",
             "startlinecolor": "#2a3f5f"
            },
            "baxis": {
             "endlinecolor": "#2a3f5f",
             "gridcolor": "white",
             "linecolor": "white",
             "minorgridcolor": "white",
             "startlinecolor": "#2a3f5f"
            },
            "type": "carpet"
           }
          ],
          "choropleth": [
           {
            "colorbar": {
             "outlinewidth": 0,
             "ticks": ""
            },
            "type": "choropleth"
           }
          ],
          "contour": [
           {
            "colorbar": {
             "outlinewidth": 0,
             "ticks": ""
            },
            "colorscale": [
             [
              0,
              "#0d0887"
             ],
             [
              0.1111111111111111,
              "#46039f"
             ],
             [
              0.2222222222222222,
              "#7201a8"
             ],
             [
              0.3333333333333333,
              "#9c179e"
             ],
             [
              0.4444444444444444,
              "#bd3786"
             ],
             [
              0.5555555555555556,
              "#d8576b"
             ],
             [
              0.6666666666666666,
              "#ed7953"
             ],
             [
              0.7777777777777778,
              "#fb9f3a"
             ],
             [
              0.8888888888888888,
              "#fdca26"
             ],
             [
              1,
              "#f0f921"
             ]
            ],
            "type": "contour"
           }
          ],
          "contourcarpet": [
           {
            "colorbar": {
             "outlinewidth": 0,
             "ticks": ""
            },
            "type": "contourcarpet"
           }
          ],
          "heatmap": [
           {
            "colorbar": {
             "outlinewidth": 0,
             "ticks": ""
            },
            "colorscale": [
             [
              0,
              "#0d0887"
             ],
             [
              0.1111111111111111,
              "#46039f"
             ],
             [
              0.2222222222222222,
              "#7201a8"
             ],
             [
              0.3333333333333333,
              "#9c179e"
             ],
             [
              0.4444444444444444,
              "#bd3786"
             ],
             [
              0.5555555555555556,
              "#d8576b"
             ],
             [
              0.6666666666666666,
              "#ed7953"
             ],
             [
              0.7777777777777778,
              "#fb9f3a"
             ],
             [
              0.8888888888888888,
              "#fdca26"
             ],
             [
              1,
              "#f0f921"
             ]
            ],
            "type": "heatmap"
           }
          ],
          "heatmapgl": [
           {
            "colorbar": {
             "outlinewidth": 0,
             "ticks": ""
            },
            "colorscale": [
             [
              0,
              "#0d0887"
             ],
             [
              0.1111111111111111,
              "#46039f"
             ],
             [
              0.2222222222222222,
              "#7201a8"
             ],
             [
              0.3333333333333333,
              "#9c179e"
             ],
             [
              0.4444444444444444,
              "#bd3786"
             ],
             [
              0.5555555555555556,
              "#d8576b"
             ],
             [
              0.6666666666666666,
              "#ed7953"
             ],
             [
              0.7777777777777778,
              "#fb9f3a"
             ],
             [
              0.8888888888888888,
              "#fdca26"
             ],
             [
              1,
              "#f0f921"
             ]
            ],
            "type": "heatmapgl"
           }
          ],
          "histogram": [
           {
            "marker": {
             "pattern": {
              "fillmode": "overlay",
              "size": 10,
              "solidity": 0.2
             }
            },
            "type": "histogram"
           }
          ],
          "histogram2d": [
           {
            "colorbar": {
             "outlinewidth": 0,
             "ticks": ""
            },
            "colorscale": [
             [
              0,
              "#0d0887"
             ],
             [
              0.1111111111111111,
              "#46039f"
             ],
             [
              0.2222222222222222,
              "#7201a8"
             ],
             [
              0.3333333333333333,
              "#9c179e"
             ],
             [
              0.4444444444444444,
              "#bd3786"
             ],
             [
              0.5555555555555556,
              "#d8576b"
             ],
             [
              0.6666666666666666,
              "#ed7953"
             ],
             [
              0.7777777777777778,
              "#fb9f3a"
             ],
             [
              0.8888888888888888,
              "#fdca26"
             ],
             [
              1,
              "#f0f921"
             ]
            ],
            "type": "histogram2d"
           }
          ],
          "histogram2dcontour": [
           {
            "colorbar": {
             "outlinewidth": 0,
             "ticks": ""
            },
            "colorscale": [
             [
              0,
              "#0d0887"
             ],
             [
              0.1111111111111111,
              "#46039f"
             ],
             [
              0.2222222222222222,
              "#7201a8"
             ],
             [
              0.3333333333333333,
              "#9c179e"
             ],
             [
              0.4444444444444444,
              "#bd3786"
             ],
             [
              0.5555555555555556,
              "#d8576b"
             ],
             [
              0.6666666666666666,
              "#ed7953"
             ],
             [
              0.7777777777777778,
              "#fb9f3a"
             ],
             [
              0.8888888888888888,
              "#fdca26"
             ],
             [
              1,
              "#f0f921"
             ]
            ],
            "type": "histogram2dcontour"
           }
          ],
          "mesh3d": [
           {
            "colorbar": {
             "outlinewidth": 0,
             "ticks": ""
            },
            "type": "mesh3d"
           }
          ],
          "parcoords": [
           {
            "line": {
             "colorbar": {
              "outlinewidth": 0,
              "ticks": ""
             }
            },
            "type": "parcoords"
           }
          ],
          "pie": [
           {
            "automargin": true,
            "type": "pie"
           }
          ],
          "scatter": [
           {
            "fillpattern": {
             "fillmode": "overlay",
             "size": 10,
             "solidity": 0.2
            },
            "type": "scatter"
           }
          ],
          "scatter3d": [
           {
            "line": {
             "colorbar": {
              "outlinewidth": 0,
              "ticks": ""
             }
            },
            "marker": {
             "colorbar": {
              "outlinewidth": 0,
              "ticks": ""
             }
            },
            "type": "scatter3d"
           }
          ],
          "scattercarpet": [
           {
            "marker": {
             "colorbar": {
              "outlinewidth": 0,
              "ticks": ""
             }
            },
            "type": "scattercarpet"
           }
          ],
          "scattergeo": [
           {
            "marker": {
             "colorbar": {
              "outlinewidth": 0,
              "ticks": ""
             }
            },
            "type": "scattergeo"
           }
          ],
          "scattergl": [
           {
            "marker": {
             "colorbar": {
              "outlinewidth": 0,
              "ticks": ""
             }
            },
            "type": "scattergl"
           }
          ],
          "scattermapbox": [
           {
            "marker": {
             "colorbar": {
              "outlinewidth": 0,
              "ticks": ""
             }
            },
            "type": "scattermapbox"
           }
          ],
          "scatterpolar": [
           {
            "marker": {
             "colorbar": {
              "outlinewidth": 0,
              "ticks": ""
             }
            },
            "type": "scatterpolar"
           }
          ],
          "scatterpolargl": [
           {
            "marker": {
             "colorbar": {
              "outlinewidth": 0,
              "ticks": ""
             }
            },
            "type": "scatterpolargl"
           }
          ],
          "scatterternary": [
           {
            "marker": {
             "colorbar": {
              "outlinewidth": 0,
              "ticks": ""
             }
            },
            "type": "scatterternary"
           }
          ],
          "surface": [
           {
            "colorbar": {
             "outlinewidth": 0,
             "ticks": ""
            },
            "colorscale": [
             [
              0,
              "#0d0887"
             ],
             [
              0.1111111111111111,
              "#46039f"
             ],
             [
              0.2222222222222222,
              "#7201a8"
             ],
             [
              0.3333333333333333,
              "#9c179e"
             ],
             [
              0.4444444444444444,
              "#bd3786"
             ],
             [
              0.5555555555555556,
              "#d8576b"
             ],
             [
              0.6666666666666666,
              "#ed7953"
             ],
             [
              0.7777777777777778,
              "#fb9f3a"
             ],
             [
              0.8888888888888888,
              "#fdca26"
             ],
             [
              1,
              "#f0f921"
             ]
            ],
            "type": "surface"
           }
          ],
          "table": [
           {
            "cells": {
             "fill": {
              "color": "#EBF0F8"
             },
             "line": {
              "color": "white"
             }
            },
            "header": {
             "fill": {
              "color": "#C8D4E3"
             },
             "line": {
              "color": "white"
             }
            },
            "type": "table"
           }
          ]
         },
         "layout": {
          "annotationdefaults": {
           "arrowcolor": "#2a3f5f",
           "arrowhead": 0,
           "arrowwidth": 1
          },
          "autotypenumbers": "strict",
          "coloraxis": {
           "colorbar": {
            "outlinewidth": 0,
            "ticks": ""
           }
          },
          "colorscale": {
           "diverging": [
            [
             0,
             "#8e0152"
            ],
            [
             0.1,
             "#c51b7d"
            ],
            [
             0.2,
             "#de77ae"
            ],
            [
             0.3,
             "#f1b6da"
            ],
            [
             0.4,
             "#fde0ef"
            ],
            [
             0.5,
             "#f7f7f7"
            ],
            [
             0.6,
             "#e6f5d0"
            ],
            [
             0.7,
             "#b8e186"
            ],
            [
             0.8,
             "#7fbc41"
            ],
            [
             0.9,
             "#4d9221"
            ],
            [
             1,
             "#276419"
            ]
           ],
           "sequential": [
            [
             0,
             "#0d0887"
            ],
            [
             0.1111111111111111,
             "#46039f"
            ],
            [
             0.2222222222222222,
             "#7201a8"
            ],
            [
             0.3333333333333333,
             "#9c179e"
            ],
            [
             0.4444444444444444,
             "#bd3786"
            ],
            [
             0.5555555555555556,
             "#d8576b"
            ],
            [
             0.6666666666666666,
             "#ed7953"
            ],
            [
             0.7777777777777778,
             "#fb9f3a"
            ],
            [
             0.8888888888888888,
             "#fdca26"
            ],
            [
             1,
             "#f0f921"
            ]
           ],
           "sequentialminus": [
            [
             0,
             "#0d0887"
            ],
            [
             0.1111111111111111,
             "#46039f"
            ],
            [
             0.2222222222222222,
             "#7201a8"
            ],
            [
             0.3333333333333333,
             "#9c179e"
            ],
            [
             0.4444444444444444,
             "#bd3786"
            ],
            [
             0.5555555555555556,
             "#d8576b"
            ],
            [
             0.6666666666666666,
             "#ed7953"
            ],
            [
             0.7777777777777778,
             "#fb9f3a"
            ],
            [
             0.8888888888888888,
             "#fdca26"
            ],
            [
             1,
             "#f0f921"
            ]
           ]
          },
          "colorway": [
           "#636efa",
           "#EF553B",
           "#00cc96",
           "#ab63fa",
           "#FFA15A",
           "#19d3f3",
           "#FF6692",
           "#B6E880",
           "#FF97FF",
           "#FECB52"
          ],
          "font": {
           "color": "#2a3f5f"
          },
          "geo": {
           "bgcolor": "white",
           "lakecolor": "white",
           "landcolor": "#E5ECF6",
           "showlakes": true,
           "showland": true,
           "subunitcolor": "white"
          },
          "hoverlabel": {
           "align": "left"
          },
          "hovermode": "closest",
          "mapbox": {
           "style": "light"
          },
          "paper_bgcolor": "white",
          "plot_bgcolor": "#E5ECF6",
          "polar": {
           "angularaxis": {
            "gridcolor": "white",
            "linecolor": "white",
            "ticks": ""
           },
           "bgcolor": "#E5ECF6",
           "radialaxis": {
            "gridcolor": "white",
            "linecolor": "white",
            "ticks": ""
           }
          },
          "scene": {
           "xaxis": {
            "backgroundcolor": "#E5ECF6",
            "gridcolor": "white",
            "gridwidth": 2,
            "linecolor": "white",
            "showbackground": true,
            "ticks": "",
            "zerolinecolor": "white"
           },
           "yaxis": {
            "backgroundcolor": "#E5ECF6",
            "gridcolor": "white",
            "gridwidth": 2,
            "linecolor": "white",
            "showbackground": true,
            "ticks": "",
            "zerolinecolor": "white"
           },
           "zaxis": {
            "backgroundcolor": "#E5ECF6",
            "gridcolor": "white",
            "gridwidth": 2,
            "linecolor": "white",
            "showbackground": true,
            "ticks": "",
            "zerolinecolor": "white"
           }
          },
          "shapedefaults": {
           "line": {
            "color": "#2a3f5f"
           }
          },
          "ternary": {
           "aaxis": {
            "gridcolor": "white",
            "linecolor": "white",
            "ticks": ""
           },
           "baxis": {
            "gridcolor": "white",
            "linecolor": "white",
            "ticks": ""
           },
           "bgcolor": "#E5ECF6",
           "caxis": {
            "gridcolor": "white",
            "linecolor": "white",
            "ticks": ""
           }
          },
          "title": {
           "x": 0.05
          },
          "xaxis": {
           "automargin": true,
           "gridcolor": "white",
           "linecolor": "white",
           "ticks": "",
           "title": {
            "standoff": 15
           },
           "zerolinecolor": "white",
           "zerolinewidth": 2
          },
          "yaxis": {
           "automargin": true,
           "gridcolor": "white",
           "linecolor": "white",
           "ticks": "",
           "title": {
            "standoff": 15
           },
           "zerolinecolor": "white",
           "zerolinewidth": 2
          }
         }
        },
        "title": {
         "text": "Распределение отсутствующих значений признака heating"
        }
       }
      }
     },
     "metadata": {},
     "output_type": "display_data"
    }
   ],
   "source": [
    "#отрисуем диаграмму распределения отсутствующих значений по штатам\n",
    "fig_heat = px.choropleth(\n",
    "    data_frame=heat,\n",
    "    locations='state',\n",
    "    locationmode='USA-states',\n",
    "    color='count',\n",
    "    title='Распределение отсутствующих значений признака heating',\n",
    "    color_continuous_scale='Reds',\n",
    "    scope='usa',\n",
    "    range_color=[0,10000]\n",
    ")\n",
    "\n",
    "fig_heat.show()"
   ]
  },
  {
   "cell_type": "markdown",
   "metadata": {},
   "source": [
    "Большая часть пропущенных значений в южных штатах, особенно много в Техасе и Флориде. Посмотрим, как распределны пропуски в признаке cooling."
   ]
  },
  {
   "cell_type": "markdown",
   "metadata": {},
   "source": [
    "### Обработка признака cooling"
   ]
  },
  {
   "cell_type": "code",
   "execution_count": 1219,
   "metadata": {},
   "outputs": [
    {
     "data": {
      "text/plain": [
       "'Число пропусков в признаке cooling: 26.878 %'"
      ]
     },
     "metadata": {},
     "output_type": "display_data"
    },
    {
     "data": {
      "text/plain": [
       "'Число уникальных значений в признаке cooling: 1438'"
      ]
     },
     "metadata": {},
     "output_type": "display_data"
    },
    {
     "data": {
      "text/plain": [
       "'Доля строк заполненных каждым уникальным значением признака cooling: '"
      ]
     },
     "metadata": {},
     "output_type": "display_data"
    },
    {
     "data": {
      "text/plain": [
       "cooling\n",
       "Central                                                                0.472034\n",
       "Central Air                                                            0.042999\n",
       "No Data                                                                0.031163\n",
       "Has Cooling                                                            0.029166\n",
       "Central Electric                                                       0.018443\n",
       "                                                                         ...   \n",
       "Central Gas, Propane, Zoned                                            0.000003\n",
       "Other (See Remarks), Panel/Floor/Wall, Window Unit                     0.000003\n",
       "Multi Units, Zoned Cooling                                             0.000003\n",
       "Central Air, g-Energy Star HVAC, Gas Hot Air/Furnace, Multizone A/C    0.000003\n",
       "Central A/C (Gas), Central Heat (Gas), Heat Pump                       0.000003\n",
       "Name: count, Length: 1438, dtype: float64"
      ]
     },
     "metadata": {},
     "output_type": "display_data"
    }
   ],
   "source": [
    "display('Число пропусков в признаке cooling: {:.3f} %'.format(r14['cooling'].isnull().mean()*100))\n",
    "display('Число уникальных значений в признаке cooling: {:.0f}'.format(r14['cooling'].nunique()))\n",
    "display('Доля строк заполненных каждым уникальным значением признака cooling: ',\\\n",
    "    r14['cooling'].value_counts()/r14.shape[0])"
   ]
  },
  {
   "cell_type": "code",
   "execution_count": 1220,
   "metadata": {},
   "outputs": [],
   "source": [
    "#приведем значения признака cooling к нижнему регистру\n",
    "r14['cooling']=r14['cooling'].str.lower()\n",
    "#заменим no data на значение nan\n",
    "r14['cooling']=r14['cooling'].replace('no data', np.nan)"
   ]
  },
  {
   "cell_type": "code",
   "execution_count": 1221,
   "metadata": {},
   "outputs": [
    {
     "data": {
      "text/plain": [
       "'Число пропусков в признаке cooling: 29.994 %'"
      ]
     },
     "metadata": {},
     "output_type": "display_data"
    }
   ],
   "source": [
    "display('Число пропусков в признаке cooling: {:.3f} %'.format(r14['cooling'].isnull().mean()*100))"
   ]
  },
  {
   "cell_type": "markdown",
   "metadata": {},
   "source": [
    "Посмотрим, как распределены пропуски по признаку cooling по штатам."
   ]
  },
  {
   "cell_type": "code",
   "execution_count": 1222,
   "metadata": {},
   "outputs": [],
   "source": [
    "#выберем в таблицу объекты, в которых отсутствует какая либо информация об отоплении\n",
    "cool_null=r14[(r14['cooling'].isnull()==False)]\n",
    "#сгруппируем данные по штатам\n",
    "cool = cool_null.groupby(['state'], as_index=False)['state'].value_counts()"
   ]
  },
  {
   "cell_type": "code",
   "execution_count": 1223,
   "metadata": {},
   "outputs": [
    {
     "data": {
      "application/vnd.plotly.v1+json": {
       "config": {
        "plotlyServerURL": "https://plot.ly"
       },
       "data": [
        {
         "coloraxis": "coloraxis",
         "geo": "geo",
         "hovertemplate": "state=%{location}<br>count=%{z}<extra></extra>",
         "locationmode": "USA-states",
         "locations": [
          "AZ",
          "CA",
          "CO",
          "DC",
          "FL",
          "GA",
          "IA",
          "IL",
          "IN",
          "KY",
          "MA",
          "MD",
          "ME",
          "MI",
          "MO",
          "MS",
          "NC",
          "NJ",
          "NV",
          "NY",
          "OH",
          "OK",
          "OR",
          "PA",
          "SC",
          "TN",
          "TX",
          "UT",
          "VA",
          "VT",
          "WA"
         ],
         "name": "",
         "type": "choropleth",
         "z": [
          2663,
          13998,
          4426,
          2734,
          82780,
          4603,
          193,
          5828,
          1830,
          60,
          833,
          822,
          80,
          1484,
          784,
          25,
          12381,
          45,
          6635,
          4708,
          8205,
          30,
          1120,
          2718,
          12,
          12294,
          57440,
          572,
          481,
          237,
          3497
         ]
        }
       ],
       "layout": {
        "coloraxis": {
         "cmax": 10000,
         "cmin": 0,
         "colorbar": {
          "title": {
           "text": "count"
          }
         },
         "colorscale": [
          [
           0,
           "rgb(255,245,240)"
          ],
          [
           0.125,
           "rgb(254,224,210)"
          ],
          [
           0.25,
           "rgb(252,187,161)"
          ],
          [
           0.375,
           "rgb(252,146,114)"
          ],
          [
           0.5,
           "rgb(251,106,74)"
          ],
          [
           0.625,
           "rgb(239,59,44)"
          ],
          [
           0.75,
           "rgb(203,24,29)"
          ],
          [
           0.875,
           "rgb(165,15,21)"
          ],
          [
           1,
           "rgb(103,0,13)"
          ]
         ]
        },
        "geo": {
         "center": {},
         "domain": {
          "x": [
           0,
           1
          ],
          "y": [
           0,
           1
          ]
         },
         "scope": "usa"
        },
        "legend": {
         "tracegroupgap": 0
        },
        "template": {
         "data": {
          "bar": [
           {
            "error_x": {
             "color": "#2a3f5f"
            },
            "error_y": {
             "color": "#2a3f5f"
            },
            "marker": {
             "line": {
              "color": "#E5ECF6",
              "width": 0.5
             },
             "pattern": {
              "fillmode": "overlay",
              "size": 10,
              "solidity": 0.2
             }
            },
            "type": "bar"
           }
          ],
          "barpolar": [
           {
            "marker": {
             "line": {
              "color": "#E5ECF6",
              "width": 0.5
             },
             "pattern": {
              "fillmode": "overlay",
              "size": 10,
              "solidity": 0.2
             }
            },
            "type": "barpolar"
           }
          ],
          "carpet": [
           {
            "aaxis": {
             "endlinecolor": "#2a3f5f",
             "gridcolor": "white",
             "linecolor": "white",
             "minorgridcolor": "white",
             "startlinecolor": "#2a3f5f"
            },
            "baxis": {
             "endlinecolor": "#2a3f5f",
             "gridcolor": "white",
             "linecolor": "white",
             "minorgridcolor": "white",
             "startlinecolor": "#2a3f5f"
            },
            "type": "carpet"
           }
          ],
          "choropleth": [
           {
            "colorbar": {
             "outlinewidth": 0,
             "ticks": ""
            },
            "type": "choropleth"
           }
          ],
          "contour": [
           {
            "colorbar": {
             "outlinewidth": 0,
             "ticks": ""
            },
            "colorscale": [
             [
              0,
              "#0d0887"
             ],
             [
              0.1111111111111111,
              "#46039f"
             ],
             [
              0.2222222222222222,
              "#7201a8"
             ],
             [
              0.3333333333333333,
              "#9c179e"
             ],
             [
              0.4444444444444444,
              "#bd3786"
             ],
             [
              0.5555555555555556,
              "#d8576b"
             ],
             [
              0.6666666666666666,
              "#ed7953"
             ],
             [
              0.7777777777777778,
              "#fb9f3a"
             ],
             [
              0.8888888888888888,
              "#fdca26"
             ],
             [
              1,
              "#f0f921"
             ]
            ],
            "type": "contour"
           }
          ],
          "contourcarpet": [
           {
            "colorbar": {
             "outlinewidth": 0,
             "ticks": ""
            },
            "type": "contourcarpet"
           }
          ],
          "heatmap": [
           {
            "colorbar": {
             "outlinewidth": 0,
             "ticks": ""
            },
            "colorscale": [
             [
              0,
              "#0d0887"
             ],
             [
              0.1111111111111111,
              "#46039f"
             ],
             [
              0.2222222222222222,
              "#7201a8"
             ],
             [
              0.3333333333333333,
              "#9c179e"
             ],
             [
              0.4444444444444444,
              "#bd3786"
             ],
             [
              0.5555555555555556,
              "#d8576b"
             ],
             [
              0.6666666666666666,
              "#ed7953"
             ],
             [
              0.7777777777777778,
              "#fb9f3a"
             ],
             [
              0.8888888888888888,
              "#fdca26"
             ],
             [
              1,
              "#f0f921"
             ]
            ],
            "type": "heatmap"
           }
          ],
          "heatmapgl": [
           {
            "colorbar": {
             "outlinewidth": 0,
             "ticks": ""
            },
            "colorscale": [
             [
              0,
              "#0d0887"
             ],
             [
              0.1111111111111111,
              "#46039f"
             ],
             [
              0.2222222222222222,
              "#7201a8"
             ],
             [
              0.3333333333333333,
              "#9c179e"
             ],
             [
              0.4444444444444444,
              "#bd3786"
             ],
             [
              0.5555555555555556,
              "#d8576b"
             ],
             [
              0.6666666666666666,
              "#ed7953"
             ],
             [
              0.7777777777777778,
              "#fb9f3a"
             ],
             [
              0.8888888888888888,
              "#fdca26"
             ],
             [
              1,
              "#f0f921"
             ]
            ],
            "type": "heatmapgl"
           }
          ],
          "histogram": [
           {
            "marker": {
             "pattern": {
              "fillmode": "overlay",
              "size": 10,
              "solidity": 0.2
             }
            },
            "type": "histogram"
           }
          ],
          "histogram2d": [
           {
            "colorbar": {
             "outlinewidth": 0,
             "ticks": ""
            },
            "colorscale": [
             [
              0,
              "#0d0887"
             ],
             [
              0.1111111111111111,
              "#46039f"
             ],
             [
              0.2222222222222222,
              "#7201a8"
             ],
             [
              0.3333333333333333,
              "#9c179e"
             ],
             [
              0.4444444444444444,
              "#bd3786"
             ],
             [
              0.5555555555555556,
              "#d8576b"
             ],
             [
              0.6666666666666666,
              "#ed7953"
             ],
             [
              0.7777777777777778,
              "#fb9f3a"
             ],
             [
              0.8888888888888888,
              "#fdca26"
             ],
             [
              1,
              "#f0f921"
             ]
            ],
            "type": "histogram2d"
           }
          ],
          "histogram2dcontour": [
           {
            "colorbar": {
             "outlinewidth": 0,
             "ticks": ""
            },
            "colorscale": [
             [
              0,
              "#0d0887"
             ],
             [
              0.1111111111111111,
              "#46039f"
             ],
             [
              0.2222222222222222,
              "#7201a8"
             ],
             [
              0.3333333333333333,
              "#9c179e"
             ],
             [
              0.4444444444444444,
              "#bd3786"
             ],
             [
              0.5555555555555556,
              "#d8576b"
             ],
             [
              0.6666666666666666,
              "#ed7953"
             ],
             [
              0.7777777777777778,
              "#fb9f3a"
             ],
             [
              0.8888888888888888,
              "#fdca26"
             ],
             [
              1,
              "#f0f921"
             ]
            ],
            "type": "histogram2dcontour"
           }
          ],
          "mesh3d": [
           {
            "colorbar": {
             "outlinewidth": 0,
             "ticks": ""
            },
            "type": "mesh3d"
           }
          ],
          "parcoords": [
           {
            "line": {
             "colorbar": {
              "outlinewidth": 0,
              "ticks": ""
             }
            },
            "type": "parcoords"
           }
          ],
          "pie": [
           {
            "automargin": true,
            "type": "pie"
           }
          ],
          "scatter": [
           {
            "fillpattern": {
             "fillmode": "overlay",
             "size": 10,
             "solidity": 0.2
            },
            "type": "scatter"
           }
          ],
          "scatter3d": [
           {
            "line": {
             "colorbar": {
              "outlinewidth": 0,
              "ticks": ""
             }
            },
            "marker": {
             "colorbar": {
              "outlinewidth": 0,
              "ticks": ""
             }
            },
            "type": "scatter3d"
           }
          ],
          "scattercarpet": [
           {
            "marker": {
             "colorbar": {
              "outlinewidth": 0,
              "ticks": ""
             }
            },
            "type": "scattercarpet"
           }
          ],
          "scattergeo": [
           {
            "marker": {
             "colorbar": {
              "outlinewidth": 0,
              "ticks": ""
             }
            },
            "type": "scattergeo"
           }
          ],
          "scattergl": [
           {
            "marker": {
             "colorbar": {
              "outlinewidth": 0,
              "ticks": ""
             }
            },
            "type": "scattergl"
           }
          ],
          "scattermapbox": [
           {
            "marker": {
             "colorbar": {
              "outlinewidth": 0,
              "ticks": ""
             }
            },
            "type": "scattermapbox"
           }
          ],
          "scatterpolar": [
           {
            "marker": {
             "colorbar": {
              "outlinewidth": 0,
              "ticks": ""
             }
            },
            "type": "scatterpolar"
           }
          ],
          "scatterpolargl": [
           {
            "marker": {
             "colorbar": {
              "outlinewidth": 0,
              "ticks": ""
             }
            },
            "type": "scatterpolargl"
           }
          ],
          "scatterternary": [
           {
            "marker": {
             "colorbar": {
              "outlinewidth": 0,
              "ticks": ""
             }
            },
            "type": "scatterternary"
           }
          ],
          "surface": [
           {
            "colorbar": {
             "outlinewidth": 0,
             "ticks": ""
            },
            "colorscale": [
             [
              0,
              "#0d0887"
             ],
             [
              0.1111111111111111,
              "#46039f"
             ],
             [
              0.2222222222222222,
              "#7201a8"
             ],
             [
              0.3333333333333333,
              "#9c179e"
             ],
             [
              0.4444444444444444,
              "#bd3786"
             ],
             [
              0.5555555555555556,
              "#d8576b"
             ],
             [
              0.6666666666666666,
              "#ed7953"
             ],
             [
              0.7777777777777778,
              "#fb9f3a"
             ],
             [
              0.8888888888888888,
              "#fdca26"
             ],
             [
              1,
              "#f0f921"
             ]
            ],
            "type": "surface"
           }
          ],
          "table": [
           {
            "cells": {
             "fill": {
              "color": "#EBF0F8"
             },
             "line": {
              "color": "white"
             }
            },
            "header": {
             "fill": {
              "color": "#C8D4E3"
             },
             "line": {
              "color": "white"
             }
            },
            "type": "table"
           }
          ]
         },
         "layout": {
          "annotationdefaults": {
           "arrowcolor": "#2a3f5f",
           "arrowhead": 0,
           "arrowwidth": 1
          },
          "autotypenumbers": "strict",
          "coloraxis": {
           "colorbar": {
            "outlinewidth": 0,
            "ticks": ""
           }
          },
          "colorscale": {
           "diverging": [
            [
             0,
             "#8e0152"
            ],
            [
             0.1,
             "#c51b7d"
            ],
            [
             0.2,
             "#de77ae"
            ],
            [
             0.3,
             "#f1b6da"
            ],
            [
             0.4,
             "#fde0ef"
            ],
            [
             0.5,
             "#f7f7f7"
            ],
            [
             0.6,
             "#e6f5d0"
            ],
            [
             0.7,
             "#b8e186"
            ],
            [
             0.8,
             "#7fbc41"
            ],
            [
             0.9,
             "#4d9221"
            ],
            [
             1,
             "#276419"
            ]
           ],
           "sequential": [
            [
             0,
             "#0d0887"
            ],
            [
             0.1111111111111111,
             "#46039f"
            ],
            [
             0.2222222222222222,
             "#7201a8"
            ],
            [
             0.3333333333333333,
             "#9c179e"
            ],
            [
             0.4444444444444444,
             "#bd3786"
            ],
            [
             0.5555555555555556,
             "#d8576b"
            ],
            [
             0.6666666666666666,
             "#ed7953"
            ],
            [
             0.7777777777777778,
             "#fb9f3a"
            ],
            [
             0.8888888888888888,
             "#fdca26"
            ],
            [
             1,
             "#f0f921"
            ]
           ],
           "sequentialminus": [
            [
             0,
             "#0d0887"
            ],
            [
             0.1111111111111111,
             "#46039f"
            ],
            [
             0.2222222222222222,
             "#7201a8"
            ],
            [
             0.3333333333333333,
             "#9c179e"
            ],
            [
             0.4444444444444444,
             "#bd3786"
            ],
            [
             0.5555555555555556,
             "#d8576b"
            ],
            [
             0.6666666666666666,
             "#ed7953"
            ],
            [
             0.7777777777777778,
             "#fb9f3a"
            ],
            [
             0.8888888888888888,
             "#fdca26"
            ],
            [
             1,
             "#f0f921"
            ]
           ]
          },
          "colorway": [
           "#636efa",
           "#EF553B",
           "#00cc96",
           "#ab63fa",
           "#FFA15A",
           "#19d3f3",
           "#FF6692",
           "#B6E880",
           "#FF97FF",
           "#FECB52"
          ],
          "font": {
           "color": "#2a3f5f"
          },
          "geo": {
           "bgcolor": "white",
           "lakecolor": "white",
           "landcolor": "#E5ECF6",
           "showlakes": true,
           "showland": true,
           "subunitcolor": "white"
          },
          "hoverlabel": {
           "align": "left"
          },
          "hovermode": "closest",
          "mapbox": {
           "style": "light"
          },
          "paper_bgcolor": "white",
          "plot_bgcolor": "#E5ECF6",
          "polar": {
           "angularaxis": {
            "gridcolor": "white",
            "linecolor": "white",
            "ticks": ""
           },
           "bgcolor": "#E5ECF6",
           "radialaxis": {
            "gridcolor": "white",
            "linecolor": "white",
            "ticks": ""
           }
          },
          "scene": {
           "xaxis": {
            "backgroundcolor": "#E5ECF6",
            "gridcolor": "white",
            "gridwidth": 2,
            "linecolor": "white",
            "showbackground": true,
            "ticks": "",
            "zerolinecolor": "white"
           },
           "yaxis": {
            "backgroundcolor": "#E5ECF6",
            "gridcolor": "white",
            "gridwidth": 2,
            "linecolor": "white",
            "showbackground": true,
            "ticks": "",
            "zerolinecolor": "white"
           },
           "zaxis": {
            "backgroundcolor": "#E5ECF6",
            "gridcolor": "white",
            "gridwidth": 2,
            "linecolor": "white",
            "showbackground": true,
            "ticks": "",
            "zerolinecolor": "white"
           }
          },
          "shapedefaults": {
           "line": {
            "color": "#2a3f5f"
           }
          },
          "ternary": {
           "aaxis": {
            "gridcolor": "white",
            "linecolor": "white",
            "ticks": ""
           },
           "baxis": {
            "gridcolor": "white",
            "linecolor": "white",
            "ticks": ""
           },
           "bgcolor": "#E5ECF6",
           "caxis": {
            "gridcolor": "white",
            "linecolor": "white",
            "ticks": ""
           }
          },
          "title": {
           "x": 0.05
          },
          "xaxis": {
           "automargin": true,
           "gridcolor": "white",
           "linecolor": "white",
           "ticks": "",
           "title": {
            "standoff": 15
           },
           "zerolinecolor": "white",
           "zerolinewidth": 2
          },
          "yaxis": {
           "automargin": true,
           "gridcolor": "white",
           "linecolor": "white",
           "ticks": "",
           "title": {
            "standoff": 15
           },
           "zerolinecolor": "white",
           "zerolinewidth": 2
          }
         }
        },
        "title": {
         "text": "Распределение отсутствующих значений признака cooling"
        }
       }
      }
     },
     "metadata": {},
     "output_type": "display_data"
    }
   ],
   "source": [
    "#отрисуем диаграмму распределения отсутствующих значений по штатам\n",
    "fig_cool = px.choropleth(\n",
    "    data_frame=cool,\n",
    "    locations='state',\n",
    "    locationmode='USA-states',\n",
    "    color='count',\n",
    "    title='Распределение отсутствующих значений признака cooling',\n",
    "    color_continuous_scale='Reds',\n",
    "    scope='usa',\n",
    "    range_color=[0,10000]\n",
    ")\n",
    "\n",
    "fig_cool.show()"
   ]
  },
  {
   "cell_type": "markdown",
   "metadata": {},
   "source": [
    "Похожая картина с пропусками в признаке cooling, большая часть признаков также сосредоточена в южных штатах, преимущественно в Техасе и Флориде."
   ]
  },
  {
   "cell_type": "markdown",
   "metadata": {},
   "source": [
    "### Совместная обработка признаков heating и cooling"
   ]
  },
  {
   "cell_type": "markdown",
   "metadata": {},
   "source": [
    "Анализ данных признаков heating и cooling показал, что данные содержат не просто информацию от том, есть отопление или кондиционирование или нет, в них содержатся сведения о системах отопления и кондиционирования большая часть, таких систем подразумевает и возможность отопления и возможность кондиционирования.\n",
    "\n",
    "Поэтому на этапе EDA создадим признак climate_system, который будет отражать наличие или отсутствие системы поддерживающей необходимую температуру в доме, его значения будут находится на пересечении заполненных значений в признаках cooling и heating.\n",
    "\n",
    "Прежде дообработаем признаки."
   ]
  },
  {
   "cell_type": "code",
   "execution_count": 1224,
   "metadata": {},
   "outputs": [],
   "source": [
    "# посмотрим содаржит ли признак cooling информацию об отоплении\n",
    "#определим список ключевых значений\n",
    "#heat_lst = ['heat']\n",
    "\n",
    "#display('Уникальные значения признака - статус продажи, содержащие ключевое слово \"land\":',\\\n",
    "    #search_key(r14,'cooling',heat_lst))"
   ]
  },
  {
   "cell_type": "code",
   "execution_count": 1225,
   "metadata": {},
   "outputs": [],
   "source": [
    "#сохраняем в таблицу строки из признака cooling, содержащие информацию об отоплении \n",
    "heat_from_cool = r14[r14['cooling'].str.contains('heat', case=False) == True]\n",
    "# находим наблюдения таблицы heat_from_cool, в которых признак heating не заполнен\n",
    "heat_ind = heat_from_cool[heat_from_cool['heating'].isnull()==True].index\n",
    "# заполняем по индексу пустые значения heating значениями из cooling \n",
    "r14.loc[heat_ind,'heating'] = r14.loc[heat_ind,'cooling']"
   ]
  },
  {
   "cell_type": "code",
   "execution_count": 1226,
   "metadata": {},
   "outputs": [
    {
     "data": {
      "text/plain": [
       "'Число пропусков в признаке heating: 22.672 %'"
      ]
     },
     "metadata": {},
     "output_type": "display_data"
    }
   ],
   "source": [
    "display('Число пропусков в признаке heating: {:.3f} %'.format(r14['heating'].isnull().mean()*100))"
   ]
  },
  {
   "cell_type": "code",
   "execution_count": 1227,
   "metadata": {},
   "outputs": [],
   "source": [
    "# посмотрим содаржит ли признак heating информацию об отоплении\n",
    "#определим список ключевых значений\n",
    "#cool_lst = ['condition','cool']\n",
    "\n",
    "#display(\"Уникальные значения признака - отопление, содержащие ключевые слова 'condition','cool':\",\\\n",
    "    #search_key(r14,'heating',cool_lst))"
   ]
  },
  {
   "cell_type": "code",
   "execution_count": 1228,
   "metadata": {},
   "outputs": [],
   "source": [
    "#сохраняем в таблицу строки из признака heating, содержащие информацию о системе охлаждения \n",
    "cool_from_heat = r14[(r14['heating'].str.contains('condition', case=False) == True)\\\n",
    "    |(r14['heating'].str.contains('cool', case=False) == True)\\\n",
    "    |(r14['heating'].str.contains('a/с', case=False) == True)]\n",
    "# находим наблюдения таблицы cool_from_heat, в которых признак cooling не заполнен\n",
    "cool_ind = cool_from_heat[cool_from_heat['cooling'].isnull()==True].index\n",
    "# заполняем по индексу пустые значения cooling значениями из heating \n",
    "r14.loc[cool_ind,'cooling'] = r14.loc[cool_ind,'heating']"
   ]
  },
  {
   "cell_type": "code",
   "execution_count": 1229,
   "metadata": {},
   "outputs": [
    {
     "data": {
      "text/plain": [
       "'Число пропусков в признаке cooling: 29.989 %'"
      ]
     },
     "metadata": {},
     "output_type": "display_data"
    }
   ],
   "source": [
    "display('Число пропусков в признаке cooling: {:.3f} %'.format(r14['cooling'].isnull().mean()*100))"
   ]
  },
  {
   "cell_type": "code",
   "execution_count": 1230,
   "metadata": {},
   "outputs": [],
   "source": [
    "#заполним значения признаков heating и cooling значениями 0 и 1\n",
    "#0 - если значение не заполнено\n",
    "#1 - если значение заполнено\n",
    "r14['heating']=r14['heating'].apply(lambda x: 0 if x is np.nan else 1)\n",
    "r14['cooling']=r14['cooling'].apply(lambda x: 0 if x is np.nan else 1)"
   ]
  },
  {
   "cell_type": "markdown",
   "metadata": {},
   "source": [
    "### Обработка признака parking"
   ]
  },
  {
   "cell_type": "code",
   "execution_count": 1231,
   "metadata": {},
   "outputs": [
    {
     "data": {
      "text/plain": [
       "'Число пропусков в признаке parking: 40.925 %'"
      ]
     },
     "metadata": {},
     "output_type": "display_data"
    },
    {
     "data": {
      "text/plain": [
       "'Число пропусков в признаке parking: 136513.000'"
      ]
     },
     "metadata": {},
     "output_type": "display_data"
    }
   ],
   "source": [
    "display('Число пропусков в признаке parking: {:.3f} %'.format(r14['parking'].isnull().mean()*100))\n",
    "display('Число пропусков в признаке parking: {:.3f}'.format(r14['parking'].isnull().sum()))"
   ]
  },
  {
   "cell_type": "code",
   "execution_count": 1232,
   "metadata": {},
   "outputs": [],
   "source": [
    "#приведем значения признака parking к нижнему регистру\n",
    "r14['parking']=r14['parking'].str.lower()\n",
    "#заменим no data на значение nan\n",
    "r14['parking']=r14['parking'].replace('no data', np.nan)"
   ]
  },
  {
   "cell_type": "code",
   "execution_count": 1233,
   "metadata": {},
   "outputs": [
    {
     "data": {
      "text/plain": [
       "'Число пропусков в признаке parking: 44.829 %'"
      ]
     },
     "metadata": {},
     "output_type": "display_data"
    },
    {
     "data": {
      "text/plain": [
       "'Число пропусков в признаке parking: 149534.000'"
      ]
     },
     "metadata": {},
     "output_type": "display_data"
    }
   ],
   "source": [
    "display('Число пропусков в признаке parking: {:.3f} %'.format(r14['parking'].isnull().mean()*100))\n",
    "display('Число пропусков в признаке parking: {:.3f}'.format(r14['parking'].isnull().sum()))"
   ]
  },
  {
   "cell_type": "markdown",
   "metadata": {},
   "source": [
    "Данный признак имеет слишком много пропусков удалим его."
   ]
  },
  {
   "cell_type": "code",
   "execution_count": 1234,
   "metadata": {},
   "outputs": [],
   "source": [
    "#удалим из таблицы признак parking\n",
    "r14.drop(['parking'], axis=1, inplace = True)"
   ]
  },
  {
   "cell_type": "code",
   "execution_count": 1235,
   "metadata": {},
   "outputs": [],
   "source": [
    "#сохраним таблицу для  дальнейшей обработки\n",
    "r16 = r14.copy()"
   ]
  },
  {
   "cell_type": "markdown",
   "metadata": {},
   "source": [
    "### Обработка признака sch_rating"
   ]
  },
  {
   "cell_type": "code",
   "execution_count": 1236,
   "metadata": {},
   "outputs": [
    {
     "data": {
      "text/plain": [
       "'Число пропусков в признаке sch_rating: 0.000 %'"
      ]
     },
     "metadata": {},
     "output_type": "display_data"
    },
    {
     "data": {
      "text/plain": [
       "'Число уникальных значений в признаке sch_rating: 16094'"
      ]
     },
     "metadata": {},
     "output_type": "display_data"
    },
    {
     "data": {
      "text/plain": [
       "'Доля строк заполненных каждым уникальным значением признака sch_rating: '"
      ]
     },
     "metadata": {},
     "output_type": "display_data"
    },
    {
     "data": {
      "text/plain": [
       "sch_rating\n",
       "['10/10', '2/10']                              0.009908\n",
       "[]                                             0.008964\n",
       "['10/10', '4/10', '5/10']                      0.006029\n",
       "['10/10', '5/10']                              0.005579\n",
       "['7/10', '5/10', '7/10']                       0.005210\n",
       "                                                 ...   \n",
       "['2', '8', '3', '2', '4', '2', '2', '1']       0.000003\n",
       "['1/10', '1/10', '2/10', '2/10']               0.000003\n",
       "['3', '9', '9', '2', '3']                      0.000003\n",
       "['4', '6', '6', '7', '2', 'NR', 'NR', 'NR']    0.000003\n",
       "['2', '2', '3', '1', '6', '6', 'NR', 'NR']     0.000003\n",
       "Name: count, Length: 16094, dtype: float64"
      ]
     },
     "metadata": {},
     "output_type": "display_data"
    }
   ],
   "source": [
    "display('Число пропусков в признаке sch_rating: {:.3f} %'.format(r16['sch_rating'].isnull().mean()*100))\n",
    "display('Число уникальных значений в признаке sch_rating: {:.0f}'.format(r16['sch_rating'].nunique()))\n",
    "display('Доля строк заполненных каждым уникальным значением признака sch_rating: ',\\\n",
    "    r16['sch_rating'].value_counts()/r16.shape[0])"
   ]
  },
  {
   "cell_type": "code",
   "execution_count": 1237,
   "metadata": {},
   "outputs": [],
   "source": [
    "#уберем из строк в ячейках символы: '[',']',\",\",\"'\",'|10'\n",
    "r16['sch_rating'] = r16['sch_rating'].str.replace('[','')\n",
    "r16['sch_rating'] = r16['sch_rating'].str.replace(']','')\n",
    "r16['sch_rating'] = r16['sch_rating'].str.replace(',','')\n",
    "r16['sch_rating'] = r16['sch_rating'].str.replace(\"'\",'')\n",
    "r16['sch_rating'] = r16['sch_rating'].str.replace('/10','')"
   ]
  },
  {
   "cell_type": "markdown",
   "metadata": {},
   "source": [
    "Напишем функцию для нахождения среднего рейтинга из представленных в списках школ."
   ]
  },
  {
   "cell_type": "code",
   "execution_count": 1238,
   "metadata": {},
   "outputs": [],
   "source": [
    "def get_rating(x):\n",
    "    '''Функция на вход получает строку.\n",
    "    \n",
    "       Функция возращает среднее значение по строке.\n",
    "    '''\n",
    "    if x is np.nan: #если строка пустая\n",
    "        x=None # возвращаем значение None\n",
    "    else:#иначе если строка отлична от значения nan\n",
    "        x=x.split(' ')# разделим строку на список строк\n",
    "        #если в списке один элемент и он не в списке значений ['None','NR','NA'] и \n",
    "        #и он не яявляется пустой строкой\n",
    "        if (len(x)==1) and (x[0] not in ['None','NR','NA']) and (len(x[0])!=0):\n",
    "            x =int(x[0])#то значению x присваиваем значение первого элемента, преобразуя его к типу int\n",
    "        #если в списке один элемент и он в списке значений ['None','NR','NA']\n",
    "        #или единственный элемент списка является пустой строкой\n",
    "        elif (len(x)==1) and ((x[0] in ['None','NR','NA']) or (len(x[0])==0)):\n",
    "            x=None#то значению x присваиваем значение None\n",
    "        else:#иначе, если список содержит больше одного элемента отличного от пустой строки\n",
    "            N=len(x) #задаем N равное длине списка\n",
    "            lst=[] #создаем пустой список lst\n",
    "            for i in range(0,(N-1)): #проходим циклом по всем элементам списка\n",
    "                if x[i] in ['None','NR','NA']:# если iый элемент списка входит в список ['None','NR','NA']\n",
    "                    lst=lst #то, этот iый элемент не добавляем в список, а возвращаем тот же список\n",
    "                #иначе, если iый элемент списка не соответсвует ни одному из значений списка ['None','NR','NA']\n",
    "                else: \n",
    "                    x[i]=int(x[i]) # присваиваем iому элементу списка x значение x[i],преобразуя его к типу int\n",
    "                    lst.append(x[i]) #добавляем значение в список lst\n",
    "            if len(lst)==0: #если на выходе из цикла список lst пустой \n",
    "                x=None #то исходной строке присваиваем значение None\n",
    "            else: #иначе, если Lst не является пустым \n",
    "                #то исходной строке присваиваем среднее значение по списку,преобразуя его к типу int     \n",
    "                x = int(sum(lst)/len(lst))\n",
    "    return x # возвращаем значение x"
   ]
  },
  {
   "cell_type": "code",
   "execution_count": 1239,
   "metadata": {},
   "outputs": [],
   "source": [
    "#применим полученную функцию к признаку рейтинга школ\n",
    "r16['sch_rating']=r16['sch_rating'].apply(lambda x: get_rating(x))"
   ]
  },
  {
   "cell_type": "code",
   "execution_count": 1240,
   "metadata": {},
   "outputs": [
    {
     "data": {
      "text/plain": [
       "'Число пропусков в признаке sch_rating: 1.447 %'"
      ]
     },
     "metadata": {},
     "output_type": "display_data"
    },
    {
     "data": {
      "text/plain": [
       "'Число пропусков в признаке sch_rating: 4826'"
      ]
     },
     "metadata": {},
     "output_type": "display_data"
    }
   ],
   "source": [
    "display('Число пропусков в признаке sch_rating: {:.3f} %'.format(r16['sch_rating'].isnull().mean()*100))\n",
    "display('Число пропусков в признаке sch_rating: {:.0f}'.format(r16['sch_rating'].isnull().sum()))"
   ]
  },
  {
   "cell_type": "code",
   "execution_count": 1241,
   "metadata": {},
   "outputs": [],
   "source": [
    "#заполним пропуски в признаке sch_rating 0\n",
    "r16['sch_rating'] = r16['sch_rating'].replace(np.nan,0)"
   ]
  },
  {
   "cell_type": "code",
   "execution_count": 1242,
   "metadata": {},
   "outputs": [
    {
     "data": {
      "text/plain": [
       "'Число пропусков в признаке sch_rating: 0.000 %'"
      ]
     },
     "metadata": {},
     "output_type": "display_data"
    },
    {
     "data": {
      "text/plain": [
       "'Число пропусков в признаке sch_rating: 0.000'"
      ]
     },
     "metadata": {},
     "output_type": "display_data"
    },
    {
     "data": {
      "text/plain": [
       "'Доля строк заполненных каждым уникальным значением признака sch_rating: '"
      ]
     },
     "metadata": {},
     "output_type": "display_data"
    },
    {
     "data": {
      "text/plain": [
       "sch_rating\n",
       "5.0     0.169347\n",
       "3.0     0.155260\n",
       "4.0     0.147514\n",
       "6.0     0.138406\n",
       "7.0     0.114426\n",
       "2.0     0.093357\n",
       "8.0     0.070438\n",
       "9.0     0.035315\n",
       "10.0    0.032950\n",
       "1.0     0.028519\n",
       "0.0     0.014468\n",
       "Name: count, dtype: float64"
      ]
     },
     "metadata": {},
     "output_type": "display_data"
    }
   ],
   "source": [
    "display('Число пропусков в признаке sch_rating: {:.3f} %'.format(r16['sch_rating'].isnull().mean()*100))\n",
    "display('Число пропусков в признаке sch_rating: {:.3f}'.format(r16['sch_rating'].isnull().sum()))\n",
    "display('Доля строк заполненных каждым уникальным значением признака sch_rating: ',\\\n",
    "    r16['sch_rating'].value_counts()/r16.shape[0])"
   ]
  },
  {
   "cell_type": "markdown",
   "metadata": {},
   "source": [
    "Перейдем к обработке признака sch_dist."
   ]
  },
  {
   "cell_type": "code",
   "execution_count": 1260,
   "metadata": {},
   "outputs": [],
   "source": [
    "#сохраним таблицу для дальнейшей обработки\n",
    "r17=r16.copy()"
   ]
  },
  {
   "cell_type": "markdown",
   "metadata": {},
   "source": [
    "### Обработка признака sch_dist"
   ]
  },
  {
   "cell_type": "code",
   "execution_count": 1261,
   "metadata": {},
   "outputs": [
    {
     "data": {
      "text/plain": [
       "'Число пропусков в признаке sch_dist: 0.000 %'"
      ]
     },
     "metadata": {},
     "output_type": "display_data"
    },
    {
     "data": {
      "text/plain": [
       "'Число уникальных значений в признаке sch_dist: 212214'"
      ]
     },
     "metadata": {},
     "output_type": "display_data"
    },
    {
     "data": {
      "text/plain": [
       "'Доля строк заполненных каждым уникальным значением признака sch_dist: '"
      ]
     },
     "metadata": {},
     "output_type": "display_data"
    },
    {
     "data": {
      "text/plain": [
       "sch_dist\n",
       "[]                                                            0.009197\n",
       "['39.69mi', '39.69mi', '39.69mi']                             0.000642\n",
       "['3.62mi', '3.62mi', '3.62mi']                                0.000423\n",
       "['9.71mi', '8.92mi', '1.56mi']                                0.000399\n",
       "['0.32mi']                                                    0.000297\n",
       "                                                                ...   \n",
       "['0.6mi', '1.64mi']                                           0.000003\n",
       "['0.58mi', '0.98mi', '0.51mi']                                0.000003\n",
       "['1.9mi', '1.9mi', '2.26mi', '2.09mi', '4.44mi', '0.39mi']    0.000003\n",
       "['1.2mi', '2.31mi', '1.7mi', '2.16mi']                        0.000003\n",
       "['0.48mi', '0.73mi']                                          0.000003\n",
       "Name: count, Length: 212214, dtype: float64"
      ]
     },
     "metadata": {},
     "output_type": "display_data"
    }
   ],
   "source": [
    "display('Число пропусков в признаке sch_dist: {:.3f} %'.format(r17['sch_dist'].isnull().mean()*100))\n",
    "display('Число уникальных значений в признаке sch_dist: {:.0f}'.format(r17['sch_dist'].nunique()))\n",
    "display('Доля строк заполненных каждым уникальным значением признака sch_dist: ',\\\n",
    "    r17['sch_dist'].value_counts()/r17.shape[0])"
   ]
  },
  {
   "cell_type": "code",
   "execution_count": 1262,
   "metadata": {},
   "outputs": [],
   "source": [
    "#уберем из строк в ячейках символы: '[',']',\",\",\"'\",'mi'\n",
    "r17['sch_dist'] = r17['sch_dist'].str.replace('[','')\n",
    "r17['sch_dist'] = r17['sch_dist'].str.replace(']','')\n",
    "r17['sch_dist'] = r17['sch_dist'].str.replace(',','')\n",
    "r17['sch_dist'] = r17['sch_dist'].str.replace(\"'\",'')\n",
    "r17['sch_dist'] = r17['sch_dist'].str.replace('mi','')"
   ]
  },
  {
   "cell_type": "markdown",
   "metadata": {},
   "source": [
    "Для обработки признака расстояний до школ напишем функцию, которая будет искать среднее из списка с дистанциями до школ."
   ]
  },
  {
   "cell_type": "code",
   "execution_count": 1263,
   "metadata": {},
   "outputs": [],
   "source": [
    "def get_dist(x):\n",
    "    '''Функция на вход получает строку.\n",
    "       \n",
    "       Функция возвращает среднее значение по строке.\n",
    "    '''\n",
    "    if x is np.nan: #если строка пустая\n",
    "        x=None #переменной х присваиваем значение None\n",
    "    else: #иначе, если строка не является пустой\n",
    "        x=x.split(' ') #исходная строка делится на список строк\n",
    "        if (len(x)==1): #если в списке содержится одна строка\n",
    "            if (x[0]!=''): #если она не пустая\n",
    "                x =float(x[0]) # то возвращаем значение этой строки приведенное к типу float\n",
    "            else: #иначе, если строка пустая\n",
    "                x=None # значению x присваиваем значение None\n",
    "        else: #  иначе, если строка содержит больше одного элемента\n",
    "            N=len(x) #расчитываем значение N, равное длине списка\n",
    "            lst=[] #создаем пустой список\n",
    "            for i in range(0,(N-1)): #проходим циклом по каждому элементу списка\n",
    "                #если iый элемент списка содержит одно из значений ['None','NR','NA','']\n",
    "                if x[i] in ['None','NR','NA','']: \n",
    "                    lst=lst #то этот элемент не добавляем в результирующий список lst\n",
    "                else: #иначе, если значение iого элемента списка не входит в список ['None','NR','NA','']  \n",
    "                    #присваиваем iому элементу списка присваиваем iое значение приведенное к типу float\n",
    "                    x[i]=float(x[i]) \n",
    "                    lst.append(x[i]) #добавляем это значение в результирующий список\n",
    "            if len(lst)==0: #если на выходе  список является пустым\n",
    "                x=None #присваиваем значению x значение None\n",
    "            else: #иначе если список заполнен\n",
    "                x = round(sum(lst)/len(lst),1) #значению x присваиваем округленное значение среднего по списку  \n",
    "    return x #возвращаем x"
   ]
  },
  {
   "cell_type": "code",
   "execution_count": 1264,
   "metadata": {},
   "outputs": [],
   "source": [
    "#применим функцию get_dist для обработки признака растояния до школы\n",
    "r17['sch_dist']=r17['sch_dist'].apply(lambda x: get_dist(x))"
   ]
  },
  {
   "cell_type": "code",
   "execution_count": 1265,
   "metadata": {},
   "outputs": [
    {
     "data": {
      "text/plain": [
       "'Число пропусков в признаке sch_dist: 0.920 %'"
      ]
     },
     "metadata": {},
     "output_type": "display_data"
    }
   ],
   "source": [
    "display('Число пропусков в признаке sch_dist: {:.3f} %'.format(r17['sch_dist'].isnull().mean()*100))"
   ]
  },
  {
   "cell_type": "code",
   "execution_count": 1266,
   "metadata": {},
   "outputs": [],
   "source": [
    "#заполним пропуски в признаке sch_dist 0\n",
    "r17['sch_dist'] = r17['sch_dist'].replace(np.nan,0)"
   ]
  },
  {
   "cell_type": "code",
   "execution_count": 1267,
   "metadata": {},
   "outputs": [
    {
     "data": {
      "text/plain": [
       "'Число пропусков в признаке sch_dist: 0.000 %'"
      ]
     },
     "metadata": {},
     "output_type": "display_data"
    },
    {
     "data": {
      "text/plain": [
       "'Число уникальных значений в признаке sch_dist: 799'"
      ]
     },
     "metadata": {},
     "output_type": "display_data"
    },
    {
     "data": {
      "text/plain": [
       "'Доля строк заполненных каждым уникальным значением признака sch_dist: '"
      ]
     },
     "metadata": {},
     "output_type": "display_data"
    },
    {
     "data": {
      "text/plain": [
       "sch_dist\n",
       "1.10      0.041898\n",
       "0.90      0.040474\n",
       "1.20      0.039698\n",
       "1.00      0.039629\n",
       "0.80      0.038526\n",
       "            ...   \n",
       "3.98      0.000003\n",
       "463.10    0.000003\n",
       "3.68      0.000003\n",
       "26.00     0.000003\n",
       "25.00     0.000003\n",
       "Name: count, Length: 799, dtype: float64"
      ]
     },
     "metadata": {},
     "output_type": "display_data"
    }
   ],
   "source": [
    "display('Число пропусков в признаке sch_dist: {:.3f} %'.format(r17['sch_dist'].isnull().mean()*100))\n",
    "display('Число уникальных значений в признаке sch_dist: {:.0f}'.format(r17['sch_dist'].nunique()))\n",
    "display('Доля строк заполненных каждым уникальным значением признака sch_dist: ',\\\n",
    "    r17['sch_dist'].value_counts()/r17.shape[0])"
   ]
  },
  {
   "cell_type": "code",
   "execution_count": 1268,
   "metadata": {},
   "outputs": [
    {
     "name": "stdout",
     "output_type": "stream",
     "text": [
      "<class 'pandas.core.frame.DataFrame'>\n",
      "Index: 333569 entries, 0 to 377184\n",
      "Data columns (total 17 columns):\n",
      " #   Column        Non-Null Count   Dtype  \n",
      "---  ------        --------------   -----  \n",
      " 0   status        333569 non-null  object \n",
      " 1   propertyType  315236 non-null  object \n",
      " 2   street        333568 non-null  object \n",
      " 3   baths         333569 non-null  float64\n",
      " 4   city          333569 non-null  object \n",
      " 5   sqft          333569 non-null  float64\n",
      " 6   zipcode       333569 non-null  object \n",
      " 7   beds          333569 non-null  float64\n",
      " 8   state         333569 non-null  object \n",
      " 9   heating       333569 non-null  int64  \n",
      " 10  cooling       333569 non-null  int64  \n",
      " 11  price_sqft    333569 non-null  float64\n",
      " 12  sch_rating    333569 non-null  float64\n",
      " 13  sch_dist      333569 non-null  float64\n",
      " 14  type          333569 non-null  object \n",
      " 15  target        333569 non-null  float64\n",
      " 16  last_year     333569 non-null  int64  \n",
      "dtypes: float64(7), int64(3), object(7)\n",
      "memory usage: 53.9+ MB\n"
     ]
    }
   ],
   "source": [
    "#посмотрим на результат\n",
    "r17.info()"
   ]
  },
  {
   "cell_type": "code",
   "execution_count": 1269,
   "metadata": {},
   "outputs": [
    {
     "data": {
      "text/plain": [
       "'Число дубликатов в таблице равно 62.'"
      ]
     },
     "metadata": {},
     "output_type": "display_data"
    }
   ],
   "source": [
    "#пропусков в таблице не осталось, но мы помним, что пропущенные данные мы заполняли нулем\n",
    "# проверим есть ли дубликаты\n",
    "num_dublicat_result = len(r17[r17.duplicated()])\n",
    "display(f'Число дубликатов в таблице равно {num_dublicat_result}.')"
   ]
  },
  {
   "cell_type": "code",
   "execution_count": 1270,
   "metadata": {},
   "outputs": [],
   "source": [
    "# удаляем полные дубликаты\n",
    "r17.drop_duplicates(inplace=True) "
   ]
  },
  {
   "cell_type": "code",
   "execution_count": 1271,
   "metadata": {},
   "outputs": [
    {
     "data": {
      "text/plain": [
       "'Удален 267 объект, в которых все числовые признаки равны 0'"
      ]
     },
     "metadata": {},
     "output_type": "display_data"
    }
   ],
   "source": [
    "#посмотрим есть ли в таблице наблюдения, в которых все числовые признаки равны 0\n",
    "num_feature_null = len(r17[(r17['baths']==0)&(r17['beds']==0)&(r17['sqft']==0)&(r17['sch_rating']==0)\\\n",
    "    &(r17['sch_dist']==0)&(r17['last_year']==0)])\n",
    "#отберем наблюдения\n",
    "num_feature_null_ind = r17[(r17['baths']==0)&(r17['beds']==0)&(r17['sqft']==0)&(r17['sch_rating']==0)\\\n",
    "    &(r17['sch_dist']==0)&(r17['last_year']==0)].index\n",
    "\n",
    "display('Удален {0} объект, в которых все числовые признаки равны 0'\\\n",
    "    .format(num_feature_null))\n",
    "r17.drop(num_feature_null_ind, axis=0, inplace=True)"
   ]
  },
  {
   "cell_type": "code",
   "execution_count": 1272,
   "metadata": {},
   "outputs": [],
   "source": [
    "#удалим ненужные больше признаки \n",
    "r17.drop(['street','propertyType','price_sqft'], axis=1, inplace=True)"
   ]
  },
  {
   "cell_type": "code",
   "execution_count": 1273,
   "metadata": {},
   "outputs": [
    {
     "data": {
      "text/plain": [
       "'Итоговая размерность таблицы: (333240, 14)'"
      ]
     },
     "metadata": {},
     "output_type": "display_data"
    }
   ],
   "source": [
    "display('Итоговая размерность таблицы: {0}'.format(r17.shape))"
   ]
  },
  {
   "cell_type": "code",
   "execution_count": 1274,
   "metadata": {},
   "outputs": [],
   "source": [
    "#выгрузим таблицу с данными для дальнейшей обработки в другом ноутбуке\n",
    "r17.to_csv('clean_data.csv',index=False)"
   ]
  }
 ],
 "metadata": {
  "kernelspec": {
   "display_name": "Python 3",
   "language": "python",
   "name": "python3"
  },
  "language_info": {
   "codemirror_mode": {
    "name": "ipython",
    "version": 3
   },
   "file_extension": ".py",
   "mimetype": "text/x-python",
   "name": "python",
   "nbconvert_exporter": "python",
   "pygments_lexer": "ipython3",
   "version": "3.9.10"
  }
 },
 "nbformat": 4,
 "nbformat_minor": 2
}
