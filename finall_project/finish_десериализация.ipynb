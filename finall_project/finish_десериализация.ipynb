{
 "cells": [
  {
   "cell_type": "markdown",
   "metadata": {},
   "source": [
    "# «Модель прогнозирования стоимости жилья для агентства недвижимости»"
   ]
  },
  {
   "cell_type": "markdown",
   "metadata": {},
   "source": [
    "### ПОСТАНОВКА ЗАДАЧИ"
   ]
  },
  {
   "cell_type": "markdown",
   "metadata": {},
   "source": [
    "Агентство недвижимости столкнулось с проблемой — риелторы тратят слишком много времени на сортировку объявлений и поиск выгодных предложений. Поэтому скорость их реакции и качество анализа не дотягивают до уровня конкурентов. Это сказывается на финансовых показателях агентства.\n",
    "\n",
    "Типовая задача из области Data Science, основанная на данных о недвижимости в США.\n",
    "\n",
    "**Бизнес-задача:** улучшить финансовые показатели компании за счет уменьшения времени на обработку информации о недвижимости у риелторов.\n",
    "\n",
    "**Техническая задача для вас как для специалиста в Data Science:** разработать модель машинного обучения, которая поможет обрабатывать объявления и увеличит число сделок и прибыль агентства.\n",
    "\n",
    "**Основные цели проекта:**\n",
    "1. Провести разведывательный анализ и очистку исходных данных.\n",
    "2. Выделить наиболее значимые факторы, влияющие на стоимость недвижимости.\n",
    "3. Построить модель для прогнозирования стоимости недвижимости.\n",
    "4. Разработать небольшой веб-сервис, на вход которому поступают данные о некоторой выставленной на продажу недвижимости, а сервис прогнозирует его стоимость."
   ]
  },
  {
   "cell_type": "markdown",
   "metadata": {},
   "source": [
    "### ЗНАКОМСТВО С ДАННЫМИ"
   ]
  },
  {
   "cell_type": "code",
   "execution_count": 1,
   "metadata": {},
   "outputs": [],
   "source": [
    "# импортируем необходимые библиотеки\n",
    "import pandas as pd\n",
    "import numpy as np"
   ]
  },
  {
   "cell_type": "markdown",
   "metadata": {},
   "source": [
    "Познакомимся с данными:"
   ]
  },
  {
   "cell_type": "code",
   "execution_count": 2,
   "metadata": {},
   "outputs": [],
   "source": [
    "#прочитаем данные из файла\n",
    "df = pd.read_csv('data.csv', sep = ',') # прочитаем файл с данными"
   ]
  },
  {
   "cell_type": "code",
   "execution_count": 3,
   "metadata": {},
   "outputs": [
    {
     "data": {
      "text/plain": [
       "'Таблица данных недвижимости'"
      ]
     },
     "metadata": {},
     "output_type": "display_data"
    },
    {
     "data": {
      "text/html": [
       "<div>\n",
       "<style scoped>\n",
       "    .dataframe tbody tr th:only-of-type {\n",
       "        vertical-align: middle;\n",
       "    }\n",
       "\n",
       "    .dataframe tbody tr th {\n",
       "        vertical-align: top;\n",
       "    }\n",
       "\n",
       "    .dataframe thead th {\n",
       "        text-align: right;\n",
       "    }\n",
       "</style>\n",
       "<table border=\"1\" class=\"dataframe\">\n",
       "  <thead>\n",
       "    <tr style=\"text-align: right;\">\n",
       "      <th></th>\n",
       "      <th>status</th>\n",
       "      <th>private pool</th>\n",
       "      <th>propertyType</th>\n",
       "      <th>street</th>\n",
       "      <th>baths</th>\n",
       "      <th>homeFacts</th>\n",
       "      <th>fireplace</th>\n",
       "      <th>city</th>\n",
       "      <th>schools</th>\n",
       "      <th>sqft</th>\n",
       "      <th>zipcode</th>\n",
       "      <th>beds</th>\n",
       "      <th>state</th>\n",
       "      <th>stories</th>\n",
       "      <th>mls-id</th>\n",
       "      <th>PrivatePool</th>\n",
       "      <th>MlsId</th>\n",
       "      <th>target</th>\n",
       "    </tr>\n",
       "  </thead>\n",
       "  <tbody>\n",
       "    <tr>\n",
       "      <th>0</th>\n",
       "      <td>Active</td>\n",
       "      <td>NaN</td>\n",
       "      <td>Single Family Home</td>\n",
       "      <td>240 Heather Ln</td>\n",
       "      <td>3.5</td>\n",
       "      <td>{'atAGlanceFacts': [{'factValue': '2019', 'fac...</td>\n",
       "      <td>Gas Logs</td>\n",
       "      <td>Southern Pines</td>\n",
       "      <td>[{'rating': ['4', '4', '7', 'NR', '4', '7', 'N...</td>\n",
       "      <td>2900</td>\n",
       "      <td>28387</td>\n",
       "      <td>4</td>\n",
       "      <td>NC</td>\n",
       "      <td>NaN</td>\n",
       "      <td>NaN</td>\n",
       "      <td>NaN</td>\n",
       "      <td>611019</td>\n",
       "      <td>$418,000</td>\n",
       "    </tr>\n",
       "    <tr>\n",
       "      <th>1</th>\n",
       "      <td>for sale</td>\n",
       "      <td>NaN</td>\n",
       "      <td>single-family home</td>\n",
       "      <td>12911 E Heroy Ave</td>\n",
       "      <td>3 Baths</td>\n",
       "      <td>{'atAGlanceFacts': [{'factValue': '2019', 'fac...</td>\n",
       "      <td>NaN</td>\n",
       "      <td>Spokane Valley</td>\n",
       "      <td>[{'rating': ['4/10', 'None/10', '4/10'], 'data...</td>\n",
       "      <td>1,947 sqft</td>\n",
       "      <td>99216</td>\n",
       "      <td>3 Beds</td>\n",
       "      <td>WA</td>\n",
       "      <td>2.0</td>\n",
       "      <td>NaN</td>\n",
       "      <td>NaN</td>\n",
       "      <td>201916904</td>\n",
       "      <td>$310,000</td>\n",
       "    </tr>\n",
       "  </tbody>\n",
       "</table>\n",
       "</div>"
      ],
      "text/plain": [
       "     status private pool        propertyType             street    baths  \\\n",
       "0    Active          NaN  Single Family Home     240 Heather Ln      3.5   \n",
       "1  for sale          NaN  single-family home  12911 E Heroy Ave  3 Baths   \n",
       "\n",
       "                                           homeFacts fireplace  \\\n",
       "0  {'atAGlanceFacts': [{'factValue': '2019', 'fac...  Gas Logs   \n",
       "1  {'atAGlanceFacts': [{'factValue': '2019', 'fac...       NaN   \n",
       "\n",
       "             city                                            schools  \\\n",
       "0  Southern Pines  [{'rating': ['4', '4', '7', 'NR', '4', '7', 'N...   \n",
       "1  Spokane Valley  [{'rating': ['4/10', 'None/10', '4/10'], 'data...   \n",
       "\n",
       "         sqft zipcode    beds state stories mls-id PrivatePool      MlsId  \\\n",
       "0        2900   28387       4    NC     NaN    NaN         NaN     611019   \n",
       "1  1,947 sqft   99216  3 Beds    WA     2.0    NaN         NaN  201916904   \n",
       "\n",
       "     target  \n",
       "0  $418,000  \n",
       "1  $310,000  "
      ]
     },
     "metadata": {},
     "output_type": "display_data"
    }
   ],
   "source": [
    "#проверим, что данные выгрузились корректно, для этого выведем первые две строки датафрейма\n",
    "display('Таблица данных недвижимости',df.head(2))"
   ]
  },
  {
   "cell_type": "markdown",
   "metadata": {},
   "source": [
    "Итак, в нашем распоряжении более чем 300 тыс. наблюдений и 18 признаков:\n",
    "\n",
    "* 'propertyType' — тип объекта недвижимости;\n",
    "* 'street' — адрес объекта;\n",
    "* 'baths' — количество ванных комнат;\n",
    "* 'homeFacts' — сведения о строительстве объекта (содержит несколько типов сведений, влияющих на оценку объекта);\n",
    "* 'fireplace' — наличие камина;\n",
    "* 'city' — город;\n",
    "* 'schools' — сведения о школах в районе;\n",
    "* 'sqft' — площадь в футах;\n",
    "* 'zipcode' — почтовый индекс;\n",
    "* 'beds' — количество спален;\n",
    "* 'state' — штат;\n",
    "* 'stories' — количество этажей;\n",
    "* 'mls-id' и 'MlsId' — идентификатор MLS (Multiple Listing Service, система мультилистинга);\n",
    "* 'target' — цена объекта недвижимости (целевой признак, который необходимо спрогнозировать).\n",
    "\n",
    "Два признака в нашем наборе данных являются словарями: schools и homeFacts. Для дальнейшей обработки проведем их десериализацию. \n",
    "\n",
    "Из словаря schools выделим наиболее нам интересные признаки: рейтинг школ (sch_rating) и расстояние до школ (sch_dist).\n",
    "\n",
    "Из словаря homeFacts наиболее информативными для нашей задачи считаю признаки: год постройки недвижимости (yearBuilt), год реконструкции недвижимости (remodeledYear), информация об отоплении (heating), информация о системе охлаждения (cooling), информация о парковке (parking),  цена за квадратный фут (price_sqft)."
   ]
  },
  {
   "cell_type": "code",
   "execution_count": 4,
   "metadata": {},
   "outputs": [],
   "source": [
    "# Функция десериализации строки со словарем значений\n",
    "def deserialize_home(s):\n",
    "    \"\"\"Функция на вход получает строку с сериализованным словарем.\n",
    "    \n",
    "    Функция возвращат значения словаря, который находится\n",
    "    в сериализованном виде в строке s.\n",
    "    \"\"\"\n",
    "\n",
    "    # Десериализуем строку в словарь и сразу сохраним его единственое значение\n",
    "    result = eval(s)['atAGlanceFacts'][:6]\n",
    "\n",
    "    # В единственном значении словаря хранится список из 7 элементов,\n",
    "    # отберем из них 6\n",
    "    # каждый из них представлен двумя словарями: factValue и factLabel\n",
    "    # С помощью дополнения списка сохраним в список только factValue\n",
    "    # и вернем их, а там уже присвоим им названия\n",
    "    return pd.Series([r['factValue'] for r in result])"
   ]
  },
  {
   "cell_type": "code",
   "execution_count": 5,
   "metadata": {},
   "outputs": [],
   "source": [
    "# Воспользуемся написанной функций, чтобы создать новые признаки из homeFacts\n",
    "df[['yearBuilt', 'remodeledYear', 'heating', 'cooling',\n",
    "    'parking', 'price_sqft']] = df['homeFacts'].apply(deserialize_home)"
   ]
  },
  {
   "cell_type": "code",
   "execution_count": 6,
   "metadata": {},
   "outputs": [],
   "source": [
    "# Функция десериализации признака school\n",
    "def deserialize_school(s):\n",
    "    \"\"\"Функция принимает на вход строку с сериализованным словарем.\n",
    "    \n",
    "    Функция возвращает значения словаря, который находится\n",
    "    в сериализованном виде в строке s.\n",
    "    \"\"\"\n",
    "\n",
    "    # Десериализуем строку в словарь и сразу сохраним его единственое значение\n",
    "    result = eval(s)[0]\n",
    "\n",
    "    # В единственном значении словаря хранится словарь из 3 элементов,\n",
    "    # каждый из которых представлен списками (за исключением второго - data,\n",
    "    # у которого два списка обернуты в словарь).\n",
    "    # Вернем рейтинги и расстояние до школ\n",
    "    rating = result['rating']\n",
    "    distance = result['data']['Distance']\n",
    "\n",
    "    # Возвращаем списки в виде объекта Series\n",
    "    return pd.Series([rating, distance])"
   ]
  },
  {
   "cell_type": "code",
   "execution_count": 7,
   "metadata": {},
   "outputs": [],
   "source": [
    "# Десериализуем признак schools\n",
    "df[['sch_rating', 'sch_dist']] = df['schools'].apply(deserialize_school)"
   ]
  },
  {
   "cell_type": "code",
   "execution_count": 8,
   "metadata": {},
   "outputs": [
    {
     "name": "stdout",
     "output_type": "stream",
     "text": [
      "<class 'pandas.core.frame.DataFrame'>\n",
      "RangeIndex: 377185 entries, 0 to 377184\n",
      "Data columns (total 26 columns):\n",
      " #   Column         Non-Null Count   Dtype \n",
      "---  ------         --------------   ----- \n",
      " 0   status         337267 non-null  object\n",
      " 1   private pool   4181 non-null    object\n",
      " 2   propertyType   342452 non-null  object\n",
      " 3   street         377183 non-null  object\n",
      " 4   baths          270847 non-null  object\n",
      " 5   homeFacts      377185 non-null  object\n",
      " 6   fireplace      103114 non-null  object\n",
      " 7   city           377151 non-null  object\n",
      " 8   schools        377185 non-null  object\n",
      " 9   sqft           336608 non-null  object\n",
      " 10  zipcode        377185 non-null  object\n",
      " 11  beds           285903 non-null  object\n",
      " 12  state          377185 non-null  object\n",
      " 13  stories        226469 non-null  object\n",
      " 14  mls-id         24942 non-null   object\n",
      " 15  PrivatePool    40311 non-null   object\n",
      " 16  MlsId          310305 non-null  object\n",
      " 17  target         374704 non-null  object\n",
      " 18  yearBuilt      373572 non-null  object\n",
      " 19  remodeledYear  350616 non-null  object\n",
      " 20  heating        373652 non-null  object\n",
      " 21  cooling        373652 non-null  object\n",
      " 22  parking        373652 non-null  object\n",
      " 23  price_sqft     348797 non-null  object\n",
      " 24  sch_rating     377185 non-null  object\n",
      " 25  sch_dist       377185 non-null  object\n",
      "dtypes: object(26)\n",
      "memory usage: 74.8+ MB\n"
     ]
    }
   ],
   "source": [
    "#посмотрим на таблицу, с которой нам предстоит работать\n",
    "df.info()"
   ]
  },
  {
   "cell_type": "markdown",
   "metadata": {},
   "source": [
    "Видим, что данные не совсем полные. В четырех признаках из 18 пропуски на первый взгляд отсутствуют: расстоянии до школы, рейтинге школ, почтовые индексы, штат.\n",
    "\n",
    "Более детально поработаем с пропусками на этапе обработки и очистки данных."
   ]
  },
  {
   "cell_type": "code",
   "execution_count": 9,
   "metadata": {},
   "outputs": [],
   "source": [
    "#выгрузим таблицу с данными для дальнейшей обработки в другом ноутбуке\n",
    "df.to_csv('full_data.csv',index=False)"
   ]
  }
 ],
 "metadata": {
  "kernelspec": {
   "display_name": "Python 3",
   "language": "python",
   "name": "python3"
  },
  "language_info": {
   "codemirror_mode": {
    "name": "ipython",
    "version": 3
   },
   "file_extension": ".py",
   "mimetype": "text/x-python",
   "name": "python",
   "nbconvert_exporter": "python",
   "pygments_lexer": "ipython3",
   "version": "3.9.10"
  }
 },
 "nbformat": 4,
 "nbformat_minor": 2
}
